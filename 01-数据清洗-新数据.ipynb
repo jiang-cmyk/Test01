{
 "cells": [
  {
   "cell_type": "markdown",
   "metadata": {
    "toc": true
   },
   "source": [
    "<h1>Table of Contents<span class=\"tocSkip\"></span></h1>\n",
    "<div class=\"toc\"><ul class=\"toc-item\"><li><span><a href=\"#读取主体登记信息\" data-toc-modified-id=\"读取主体登记信息-1\"><span class=\"toc-item-num\">1&nbsp;&nbsp;</span>读取主体登记信息</a></span><ul class=\"toc-item\"><li><span><a href=\"#读取\" data-toc-modified-id=\"读取-1.1\"><span class=\"toc-item-num\">1.1&nbsp;&nbsp;</span>读取</a></span><ul class=\"toc-item\"><li><span><a href=\"#读取主体登记\" data-toc-modified-id=\"读取主体登记-1.1.1\"><span class=\"toc-item-num\">1.1.1&nbsp;&nbsp;</span>读取主体登记</a></span></li><li><span><a href=\"#查看当月成立的企业数量\" data-toc-modified-id=\"查看当月成立的企业数量-1.1.2\"><span class=\"toc-item-num\">1.1.2&nbsp;&nbsp;</span>查看当月成立的企业数量</a></span></li><li><span><a href=\"#提取本月注吊销及迁出数据\" data-toc-modified-id=\"提取本月注吊销及迁出数据-1.1.3\"><span class=\"toc-item-num\">1.1.3&nbsp;&nbsp;</span>提取本月注吊销及迁出数据</a></span></li><li><span><a href=\"#删除注吊销及迁出数据\" data-toc-modified-id=\"删除注吊销及迁出数据-1.1.4\"><span class=\"toc-item-num\">1.1.4&nbsp;&nbsp;</span>删除注吊销及迁出数据</a></span></li></ul></li><li><span><a href=\"#提取需要特征\" data-toc-modified-id=\"提取需要特征-1.2\"><span class=\"toc-item-num\">1.2&nbsp;&nbsp;</span>提取需要特征</a></span><ul class=\"toc-item\"><li><span><a href=\"#提取主体登记表\" data-toc-modified-id=\"提取主体登记表-1.2.1\"><span class=\"toc-item-num\">1.2.1&nbsp;&nbsp;</span>提取主体登记表</a></span></li><li><span><a href=\"#提取注吊销表\" data-toc-modified-id=\"提取注吊销表-1.2.2\"><span class=\"toc-item-num\">1.2.2&nbsp;&nbsp;</span>提取注吊销表</a></span></li></ul></li><li><span><a href=\"#更改经营状态\" data-toc-modified-id=\"更改经营状态-1.3\"><span class=\"toc-item-num\">1.3&nbsp;&nbsp;</span>更改经营状态</a></span></li><li><span><a href=\"#合并两表\" data-toc-modified-id=\"合并两表-1.4\"><span class=\"toc-item-num\">1.4&nbsp;&nbsp;</span>合并两表</a></span></li><li><span><a href=\"#更改列名\" data-toc-modified-id=\"更改列名-1.5\"><span class=\"toc-item-num\">1.5&nbsp;&nbsp;</span>更改列名</a></span></li><li><span><a href=\"#缺失值填补\" data-toc-modified-id=\"缺失值填补-1.6\"><span class=\"toc-item-num\">1.6&nbsp;&nbsp;</span>缺失值填补</a></span></li><li><span><a href=\"#类型转换\" data-toc-modified-id=\"类型转换-1.7\"><span class=\"toc-item-num\">1.7&nbsp;&nbsp;</span>类型转换</a></span></li><li><span><a href=\"#行业代码只提取第一个\" data-toc-modified-id=\"行业代码只提取第一个-1.8\"><span class=\"toc-item-num\">1.8&nbsp;&nbsp;</span>行业代码只提取第一个</a></span></li><li><span><a href=\"#设置nbxh为索引\" data-toc-modified-id=\"设置nbxh为索引-1.9\"><span class=\"toc-item-num\">1.9&nbsp;&nbsp;</span>设置nbxh为索引</a></span></li></ul></li><li><span><a href=\"#分类\" data-toc-modified-id=\"分类-2\"><span class=\"toc-item-num\">2&nbsp;&nbsp;</span>分类</a></span><ul class=\"toc-item\"><li><span><a href=\"#划分企业年限\" data-toc-modified-id=\"划分企业年限-2.1\"><span class=\"toc-item-num\">2.1&nbsp;&nbsp;</span>划分企业年限</a></span></li><li><span><a href=\"#地区分类\" data-toc-modified-id=\"地区分类-2.2\"><span class=\"toc-item-num\">2.2&nbsp;&nbsp;</span>地区分类</a></span></li><li><span><a href=\"#三次产业分类\" data-toc-modified-id=\"三次产业分类-2.3\"><span class=\"toc-item-num\">2.3&nbsp;&nbsp;</span>三次产业分类</a></span></li><li><span><a href=\"#规模分类\" data-toc-modified-id=\"规模分类-2.4\"><span class=\"toc-item-num\">2.4&nbsp;&nbsp;</span>规模分类</a></span></li></ul></li><li><span><a href=\"#添加特征\" data-toc-modified-id=\"添加特征-3\"><span class=\"toc-item-num\">3&nbsp;&nbsp;</span>添加特征</a></span><ul class=\"toc-item\"><li><span><a href=\"#添加特征X1_2、X3、X4\" data-toc-modified-id=\"添加特征X1_2、X3、X4-3.1\"><span class=\"toc-item-num\">3.1&nbsp;&nbsp;</span>添加特征X1_2、X3、X4</a></span></li><li><span><a href=\"#将固定企业类型的公积金赋值为0\" data-toc-modified-id=\"将固定企业类型的公积金赋值为0-3.2\"><span class=\"toc-item-num\">3.2&nbsp;&nbsp;</span>将固定企业类型的公积金赋值为0</a></span></li><li><span><a href=\"#添加特征X5、X6、X12、X13、X15（来自企业变更表）\" data-toc-modified-id=\"添加特征X5、X6、X12、X13、X15（来自企业变更表）-3.3\"><span class=\"toc-item-num\">3.3&nbsp;&nbsp;</span>添加特征X5、X6、X12、X13、X15（来自企业变更表）</a></span><ul class=\"toc-item\"><li><span><a href=\"#读取企业变更表\" data-toc-modified-id=\"读取企业变更表-3.3.1\"><span class=\"toc-item-num\">3.3.1&nbsp;&nbsp;</span>读取企业变更表</a></span></li><li><span><a href=\"#提取特征X5\" data-toc-modified-id=\"提取特征X5-3.3.2\"><span class=\"toc-item-num\">3.3.2&nbsp;&nbsp;</span>提取特征X5</a></span><ul class=\"toc-item\"><li><span><a href=\"#nums为series,将其变为dataframes\" data-toc-modified-id=\"nums为series,将其变为dataframes-3.3.2.1\"><span class=\"toc-item-num\">3.3.2.1&nbsp;&nbsp;</span>nums为series,将其变为dataframes</a></span></li><li><span><a href=\"#join\" data-toc-modified-id=\"join-3.3.2.2\"><span class=\"toc-item-num\">3.3.2.2&nbsp;&nbsp;</span>join</a></span></li></ul></li><li><span><a href=\"#提取特征X6\" data-toc-modified-id=\"提取特征X6-3.3.3\"><span class=\"toc-item-num\">3.3.3&nbsp;&nbsp;</span>提取特征X6</a></span><ul class=\"toc-item\"><li><span><a href=\"#统计每个nbxh的每个变更事项出现次数\" data-toc-modified-id=\"统计每个nbxh的每个变更事项出现次数-3.3.3.1\"><span class=\"toc-item-num\">3.3.3.1&nbsp;&nbsp;</span>统计每个nbxh的每个变更事项出现次数</a></span></li><li><span><a href=\"#nums为series,将其变为dataframes\" data-toc-modified-id=\"nums为series,将其变为dataframes-3.3.3.2\"><span class=\"toc-item-num\">3.3.3.2&nbsp;&nbsp;</span>nums为series,将其变为dataframes</a></span></li><li><span><a href=\"#join\" data-toc-modified-id=\"join-3.3.3.3\"><span class=\"toc-item-num\">3.3.3.3&nbsp;&nbsp;</span>join</a></span></li></ul></li><li><span><a href=\"#X12、X13（保留变更事项与投资资本相关列）\" data-toc-modified-id=\"X12、X13（保留变更事项与投资资本相关列）-3.3.4\"><span class=\"toc-item-num\">3.3.4&nbsp;&nbsp;</span>X12、X13（保留变更事项与投资资本相关列）</a></span></li><li><span><a href=\"#提取特征X12\" data-toc-modified-id=\"提取特征X12-3.3.5\"><span class=\"toc-item-num\">3.3.5&nbsp;&nbsp;</span>提取特征X12</a></span><ul class=\"toc-item\"><li><span><a href=\"#统计每个nbxh的每个变更事项出现次数\" data-toc-modified-id=\"统计每个nbxh的每个变更事项出现次数-3.3.5.1\"><span class=\"toc-item-num\">3.3.5.1&nbsp;&nbsp;</span>统计每个nbxh的每个变更事项出现次数</a></span></li><li><span><a href=\"#nums为series,将其变为dataframes\" data-toc-modified-id=\"nums为series,将其变为dataframes-3.3.5.2\"><span class=\"toc-item-num\">3.3.5.2&nbsp;&nbsp;</span>nums为series,将其变为dataframes</a></span></li><li><span><a href=\"#join\" data-toc-modified-id=\"join-3.3.5.3\"><span class=\"toc-item-num\">3.3.5.3&nbsp;&nbsp;</span>join</a></span></li></ul></li><li><span><a href=\"#提取特征X13\" data-toc-modified-id=\"提取特征X13-3.3.6\"><span class=\"toc-item-num\">3.3.6&nbsp;&nbsp;</span>提取特征X13</a></span><ul class=\"toc-item\"><li><span><a href=\"#nums为series,将其变为dataframes\" data-toc-modified-id=\"nums为series,将其变为dataframes-3.3.6.1\"><span class=\"toc-item-num\">3.3.6.1&nbsp;&nbsp;</span>nums为series,将其变为dataframes</a></span></li><li><span><a href=\"#join\" data-toc-modified-id=\"join-3.3.6.2\"><span class=\"toc-item-num\">3.3.6.2&nbsp;&nbsp;</span>join</a></span></li></ul></li><li><span><a href=\"#提取特征X15（本月没有）\" data-toc-modified-id=\"提取特征X15（本月没有）-3.3.7\"><span class=\"toc-item-num\">3.3.7&nbsp;&nbsp;</span>提取特征X15（本月没有）</a></span><ul class=\"toc-item\"><li><span><a href=\"#将X15列赋值为0\" data-toc-modified-id=\"将X15列赋值为0-3.3.7.1\"><span class=\"toc-item-num\">3.3.7.1&nbsp;&nbsp;</span>将X15列赋值为0</a></span></li></ul></li></ul></li><li><span><a href=\"#添加特征X7(分支机构开设数量，来自分支机构表)\" data-toc-modified-id=\"添加特征X7(分支机构开设数量，来自分支机构表)-3.4\"><span class=\"toc-item-num\">3.4&nbsp;&nbsp;</span>添加特征X7(分支机构开设数量，来自分支机构表)</a></span><ul class=\"toc-item\"><li><span><a href=\"#读取文件\" data-toc-modified-id=\"读取文件-3.4.1\"><span class=\"toc-item-num\">3.4.1&nbsp;&nbsp;</span>读取文件</a></span></li><li><span><a href=\"#fzjg_nums为series,将其变为dataframes\" data-toc-modified-id=\"fzjg_nums为series,将其变为dataframes-3.4.2\"><span class=\"toc-item-num\">3.4.2&nbsp;&nbsp;</span>fzjg_nums为series,将其变为dataframes</a></span></li><li><span><a href=\"#找到对应的nbxh\" data-toc-modified-id=\"找到对应的nbxh-3.4.3\"><span class=\"toc-item-num\">3.4.3&nbsp;&nbsp;</span>找到对应的nbxh</a></span></li><li><span><a href=\"#删除空值\" data-toc-modified-id=\"删除空值-3.4.4\"><span class=\"toc-item-num\">3.4.4&nbsp;&nbsp;</span>删除空值</a></span></li><li><span><a href=\"#join\" data-toc-modified-id=\"join-3.4.5\"><span class=\"toc-item-num\">3.4.5&nbsp;&nbsp;</span>join</a></span></li></ul></li><li><span><a href=\"#添加特征X10、-X11（来自企业关系人表）\" data-toc-modified-id=\"添加特征X10、-X11（来自企业关系人表）-3.5\"><span class=\"toc-item-num\">3.5&nbsp;&nbsp;</span>添加特征X10、 X11（来自企业关系人表）</a></span><ul class=\"toc-item\"><li><span><a href=\"#提取特征X10\" data-toc-modified-id=\"提取特征X10-3.5.1\"><span class=\"toc-item-num\">3.5.1&nbsp;&nbsp;</span>提取特征X10</a></span><ul class=\"toc-item\"><li><span><a href=\"#nums为series,将其变为dataframes\" data-toc-modified-id=\"nums为series,将其变为dataframes-3.5.1.1\"><span class=\"toc-item-num\">3.5.1.1&nbsp;&nbsp;</span>nums为series,将其变为dataframes</a></span></li><li><span><a href=\"#join\" data-toc-modified-id=\"join-3.5.1.2\"><span class=\"toc-item-num\">3.5.1.2&nbsp;&nbsp;</span>join</a></span></li></ul></li><li><span><a href=\"#提取特征X11\" data-toc-modified-id=\"提取特征X11-3.5.2\"><span class=\"toc-item-num\">3.5.2&nbsp;&nbsp;</span>提取特征X11</a></span><ul class=\"toc-item\"><li><span><a href=\"#sums为series,将其变为dataframes\" data-toc-modified-id=\"sums为series,将其变为dataframes-3.5.2.1\"><span class=\"toc-item-num\">3.5.2.1&nbsp;&nbsp;</span>sums为series,将其变为dataframes</a></span></li><li><span><a href=\"#join\" data-toc-modified-id=\"join-3.5.2.2\"><span class=\"toc-item-num\">3.5.2.2&nbsp;&nbsp;</span>join</a></span></li></ul></li></ul></li><li><span><a href=\"#添加特征X14（迁移申请次数，来自迁移表）\" data-toc-modified-id=\"添加特征X14（迁移申请次数，来自迁移表）-3.6\"><span class=\"toc-item-num\">3.6&nbsp;&nbsp;</span>添加特征X14（迁移申请次数，来自迁移表）</a></span><ul class=\"toc-item\"><li><span><a href=\"#读取并查看\" data-toc-modified-id=\"读取并查看-3.6.1\"><span class=\"toc-item-num\">3.6.1&nbsp;&nbsp;</span>读取并查看</a></span></li><li><span><a href=\"#sums为series,将其变为dataframes\" data-toc-modified-id=\"sums为series,将其变为dataframes-3.6.2\"><span class=\"toc-item-num\">3.6.2&nbsp;&nbsp;</span>sums为series,将其变为dataframes</a></span></li><li><span><a href=\"#join\" data-toc-modified-id=\"join-3.6.3\"><span class=\"toc-item-num\">3.6.3&nbsp;&nbsp;</span>join</a></span></li></ul></li><li><span><a href=\"#添加特征X8、X9、X16、X17、X18\" data-toc-modified-id=\"添加特征X8、X9、X16、X17、X18-3.7\"><span class=\"toc-item-num\">3.7&nbsp;&nbsp;</span>添加特征X8、X9、X16、X17、X18</a></span></li></ul></li><li><span><a href=\"#调整顺序\" data-toc-modified-id=\"调整顺序-4\"><span class=\"toc-item-num\">4&nbsp;&nbsp;</span>调整顺序</a></span></li><li><span><a href=\"#去除重复值\" data-toc-modified-id=\"去除重复值-5\"><span class=\"toc-item-num\">5&nbsp;&nbsp;</span>去除重复值</a></span><ul class=\"toc-item\"><li><span><a href=\"#重设索引\" data-toc-modified-id=\"重设索引-5.1\"><span class=\"toc-item-num\">5.1&nbsp;&nbsp;</span>重设索引</a></span></li><li><span><a href=\"#统计重复\" data-toc-modified-id=\"统计重复-5.2\"><span class=\"toc-item-num\">5.2&nbsp;&nbsp;</span>统计重复</a></span></li><li><span><a href=\"#删除重复\" data-toc-modified-id=\"删除重复-5.3\"><span class=\"toc-item-num\">5.3&nbsp;&nbsp;</span>删除重复</a></span></li></ul></li><li><span><a href=\"#保存\" data-toc-modified-id=\"保存-6\"><span class=\"toc-item-num\">6&nbsp;&nbsp;</span>保存</a></span></li></ul></div>"
   ]
  },
  {
   "cell_type": "code",
   "execution_count": 1,
   "metadata": {
    "ExecuteTime": {
     "end_time": "2022-09-12T07:03:59.699497Z",
     "start_time": "2022-09-12T07:03:59.292832Z"
    }
   },
   "outputs": [],
   "source": [
    "import pandas as pd\n",
    "import numpy as np\n",
    "import warnings\n",
    "from tqdm import tqdm\n",
    "warnings.filterwarnings(\"ignore\")"
   ]
  },
  {
   "cell_type": "markdown",
   "metadata": {},
   "source": [
    "# 读取主体登记信息"
   ]
  },
  {
   "cell_type": "markdown",
   "metadata": {},
   "source": [
    "## 读取"
   ]
  },
  {
   "cell_type": "markdown",
   "metadata": {},
   "source": [
    "### 读取主体登记"
   ]
  },
  {
   "cell_type": "code",
   "execution_count": 2,
   "metadata": {
    "ExecuteTime": {
     "end_time": "2022-09-12T07:04:30.546121Z",
     "start_time": "2022-09-12T07:04:01.778330Z"
    }
   },
   "outputs": [
    {
     "name": "stdout",
     "output_type": "stream",
     "text": [
      "<class 'pandas.core.frame.DataFrame'>\n",
      "RangeIndex: 3086538 entries, 0 to 3086537\n",
      "Data columns (total 15 columns):\n",
      " #   Column         Non-Null Count    Dtype  \n",
      "---  ------         --------------    -----  \n",
      " 0   #nbxh(C|50)    3086538 non-null  int64  \n",
      " 1   qymc(C|300)    3086526 non-null  object \n",
      " 2   uniscid(C|50)  2556307 non-null  object \n",
      " 3   zch(C|50)      3086087 non-null  object \n",
      " 4   fzrxm(C|500)   3085810 non-null  object \n",
      " 5   jjhklb(C|2)    3086538 non-null  int64  \n",
      " 6   qylx(C|6)      3086538 non-null  int64  \n",
      " 7   hydm(C|8)      3086538 non-null  object \n",
      " 8   djjg(C|20)     3086538 non-null  int64  \n",
      " 9   clrq(D)        3086538 non-null  object \n",
      " 10  hzrq(D)        3086537 non-null  object \n",
      " 11  zczb(N|21|6)   3086534 non-null  float64\n",
      " 12  jyzt(C|4)      2165176 non-null  float64\n",
      " 13  tslx(C|2)      3086538 non-null  int64  \n",
      " 14  jyfw(C|4000)   3085134 non-null  object \n",
      "dtypes: float64(2), int64(5), object(8)\n",
      "memory usage: 353.2+ MB\n",
      "None\n"
     ]
    },
    {
     "data": {
      "text/html": [
       "<div>\n",
       "<style scoped>\n",
       "    .dataframe tbody tr th:only-of-type {\n",
       "        vertical-align: middle;\n",
       "    }\n",
       "\n",
       "    .dataframe tbody tr th {\n",
       "        vertical-align: top;\n",
       "    }\n",
       "\n",
       "    .dataframe thead th {\n",
       "        text-align: right;\n",
       "    }\n",
       "</style>\n",
       "<table border=\"1\" class=\"dataframe\">\n",
       "  <thead>\n",
       "    <tr style=\"text-align: right;\">\n",
       "      <th></th>\n",
       "      <th>#nbxh(C|50)</th>\n",
       "      <th>qymc(C|300)</th>\n",
       "      <th>uniscid(C|50)</th>\n",
       "      <th>zch(C|50)</th>\n",
       "      <th>fzrxm(C|500)</th>\n",
       "      <th>jjhklb(C|2)</th>\n",
       "      <th>qylx(C|6)</th>\n",
       "      <th>hydm(C|8)</th>\n",
       "      <th>djjg(C|20)</th>\n",
       "      <th>clrq(D)</th>\n",
       "      <th>hzrq(D)</th>\n",
       "      <th>zczb(N|21|6)</th>\n",
       "      <th>jyzt(C|4)</th>\n",
       "      <th>tslx(C|2)</th>\n",
       "      <th>jyfw(C|4000)</th>\n",
       "    </tr>\n",
       "  </thead>\n",
       "  <tbody>\n",
       "    <tr>\n",
       "      <th>0</th>\n",
       "      <td>142000009537608516</td>\n",
       "      <td>监利县同富房地产咨询有限公司</td>\n",
       "      <td>91421023MA499WNN3D</td>\n",
       "      <td>421023000084020</td>\n",
       "      <td>胡壮</td>\n",
       "      <td>3</td>\n",
       "      <td>1130</td>\n",
       "      <td>K7030</td>\n",
       "      <td>421023999</td>\n",
       "      <td>2019-07-11</td>\n",
       "      <td>2019-07-11</td>\n",
       "      <td>100.0</td>\n",
       "      <td>1.0</td>\n",
       "      <td>6</td>\n",
       "      <td>商品房、二手房租赁、销售及相关信息咨询服务。</td>\n",
       "    </tr>\n",
       "    <tr>\n",
       "      <th>1</th>\n",
       "      <td>142000009537610596</td>\n",
       "      <td>麻城市禾文企业管理咨询工作室</td>\n",
       "      <td>91421181MA499WNPX4</td>\n",
       "      <td>421181000114783</td>\n",
       "      <td>吴俊兰</td>\n",
       "      <td>3</td>\n",
       "      <td>4540</td>\n",
       "      <td>L7299</td>\n",
       "      <td>421181002</td>\n",
       "      <td>2019-07-11</td>\n",
       "      <td>2019-07-11</td>\n",
       "      <td>10.0</td>\n",
       "      <td>1.0</td>\n",
       "      <td>6</td>\n",
       "      <td>企业管理咨询；计算机软硬件服务；信息技术咨询服务；会务服务；展览展示服务；建筑工程设计咨询；...</td>\n",
       "    </tr>\n",
       "  </tbody>\n",
       "</table>\n",
       "</div>"
      ],
      "text/plain": [
       "          #nbxh(C|50)     qymc(C|300)       uniscid(C|50)        zch(C|50)  \\\n",
       "0  142000009537608516  监利县同富房地产咨询有限公司  91421023MA499WNN3D  421023000084020   \n",
       "1  142000009537610596  麻城市禾文企业管理咨询工作室  91421181MA499WNPX4  421181000114783   \n",
       "\n",
       "  fzrxm(C|500)  jjhklb(C|2)  qylx(C|6) hydm(C|8)  djjg(C|20)     clrq(D)  \\\n",
       "0           胡壮            3       1130     K7030   421023999  2019-07-11   \n",
       "1          吴俊兰            3       4540     L7299   421181002  2019-07-11   \n",
       "\n",
       "      hzrq(D)  zczb(N|21|6)  jyzt(C|4)  tslx(C|2)  \\\n",
       "0  2019-07-11         100.0        1.0          6   \n",
       "1  2019-07-11          10.0        1.0          6   \n",
       "\n",
       "                                        jyfw(C|4000)  \n",
       "0                             商品房、二手房租赁、销售及相关信息咨询服务。  \n",
       "1  企业管理咨询；计算机软硬件服务；信息技术咨询服务；会务服务；展览展示服务；建筑工程设计咨询；...  "
      ]
     },
     "execution_count": 2,
     "metadata": {},
     "output_type": "execute_result"
    }
   ],
   "source": [
    "file = pd.read_csv('./8月份活跃度数据/主体登记/exportsql.20220824100507.gbk.csv', encoding='gb18030')\n",
    "print(file.info(null_counts = True))\n",
    "file[:2]"
   ]
  },
  {
   "cell_type": "code",
   "execution_count": 17,
   "metadata": {
    "ExecuteTime": {
     "end_time": "2022-09-12T07:12:17.048755Z",
     "start_time": "2022-09-12T07:12:17.033767Z"
    }
   },
   "outputs": [],
   "source": [
    "pd.set_option('display.max_rows', 20)"
   ]
  },
  {
   "cell_type": "code",
   "execution_count": 13,
   "metadata": {
    "ExecuteTime": {
     "end_time": "2022-08-24T04:27:21.565108Z",
     "start_time": "2022-08-24T04:27:18.444703Z"
    }
   },
   "outputs": [
    {
     "name": "stdout",
     "output_type": "stream",
     "text": [
      "2022-03    85021\n",
      "2022-06    84611\n",
      "2022-05    74637\n",
      "2021-12    71478\n",
      "2022-07    70502\n",
      "           ...  \n",
      "1903-02        1\n",
      "0199-03        1\n",
      "1980-04        1\n",
      "1984-02        1\n",
      "2076-07        1\n",
      "Name: year-month, Length: 528, dtype: int64\n",
      "28.0    119549\n",
      "25.0    115096\n",
      "17.0    111994\n",
      "30.0    111605\n",
      "22.0    110589\n",
      "15.0    109746\n",
      "16.0    109476\n",
      "23.0    109050\n",
      "18.0    108792\n",
      "20.0    108775\n",
      "27.0    108509\n",
      "24.0    107702\n",
      "8.0     107572\n",
      "29.0    104926\n",
      "26.0    103989\n",
      "21.0    102347\n",
      "19.0    101044\n",
      "10.0    100297\n",
      "14.0     99997\n",
      "13.0     99405\n",
      "9.0      99267\n",
      "12.0     97919\n",
      "11.0     97897\n",
      "7.0      94349\n",
      "2.0      86151\n",
      "6.0      85624\n",
      "1.0      81941\n",
      "4.0      80166\n",
      "5.0      76743\n",
      "3.0      76126\n",
      "31.0     59894\n",
      "Name: day, dtype: int64\n"
     ]
    }
   ],
   "source": [
    "file['year-month'] = file['hzrq(D)'].str[:7]\n",
    "print(file['year-month'].value_counts())\n",
    "file['day'] = file['hzrq(D)'].str[8:]\n",
    "file['day'] = file['day'].astype(np.float)\n",
    "print(file['day'].value_counts())"
   ]
  },
  {
   "cell_type": "code",
   "execution_count": 14,
   "metadata": {
    "ExecuteTime": {
     "end_time": "2022-08-24T04:27:56.962157Z",
     "start_time": "2022-08-24T04:27:53.773793Z"
    }
   },
   "outputs": [
    {
     "name": "stdout",
     "output_type": "stream",
     "text": [
      "2013-12    54444\n",
      "2022-03    52514\n",
      "2021-12    44349\n",
      "2022-06    37630\n",
      "2021-11    34322\n",
      "           ...  \n",
      "1964-10        1\n",
      "1972-05        1\n",
      "1900-07        1\n",
      "1963-12        1\n",
      "0198-10        1\n",
      "Name: new-year-month, Length: 772, dtype: int64\n",
      "28.0    116587\n",
      "18.0    111185\n",
      "27.0    109837\n",
      "25.0    109432\n",
      "15.0    108148\n",
      "22.0    107476\n",
      "24.0    106702\n",
      "29.0    106303\n",
      "17.0    105045\n",
      "8.0     104879\n",
      "20.0    104505\n",
      "26.0    104352\n",
      "16.0    104320\n",
      "21.0    104208\n",
      "9.0     104208\n",
      "23.0    103531\n",
      "12.0    102609\n",
      "10.0    102434\n",
      "14.0    101816\n",
      "30.0    101311\n",
      "19.0    101281\n",
      "13.0    101106\n",
      "11.0    101024\n",
      "7.0      93415\n",
      "6.0      93115\n",
      "5.0      86073\n",
      "4.0      85517\n",
      "2.0      84180\n",
      "1.0      82668\n",
      "3.0      81602\n",
      "31.0     57669\n",
      "Name: new-day, dtype: int64\n"
     ]
    }
   ],
   "source": [
    "file['new-year-month'] = file['clrq(D)'].str[:7]\n",
    "print(file['new-year-month'].value_counts())\n",
    "file['new-day'] = file['clrq(D)'].str[8:]\n",
    "file['new-day'] = file['new-day'].astype(np.float)\n",
    "print(file['new-day'].value_counts())"
   ]
  },
  {
   "cell_type": "code",
   "execution_count": 15,
   "metadata": {
    "ExecuteTime": {
     "end_time": "2022-08-24T04:28:07.339648Z",
     "start_time": "2022-08-24T04:28:05.820417Z"
    }
   },
   "outputs": [
    {
     "name": "stdout",
     "output_type": "stream",
     "text": [
      "<class 'pandas.core.frame.DataFrame'>\n",
      "RangeIndex: 3086538 entries, 0 to 3086537\n",
      "Data columns (total 19 columns):\n",
      " #   Column          Non-Null Count    Dtype  \n",
      "---  ------          --------------    -----  \n",
      " 0   #nbxh(C|50)     3086538 non-null  int64  \n",
      " 1   qymc(C|300)     3086526 non-null  object \n",
      " 2   uniscid(C|50)   2556307 non-null  object \n",
      " 3   zch(C|50)       3086087 non-null  object \n",
      " 4   fzrxm(C|500)    3085810 non-null  object \n",
      " 5   jjhklb(C|2)     3086538 non-null  int64  \n",
      " 6   qylx(C|6)       3086538 non-null  int64  \n",
      " 7   hydm(C|8)       3086538 non-null  object \n",
      " 8   djjg(C|20)      3086538 non-null  int64  \n",
      " 9   clrq(D)         3086538 non-null  object \n",
      " 10  hzrq(D)         3086537 non-null  object \n",
      " 11  zczb(N|21|6)    3086534 non-null  float64\n",
      " 12  jyzt(C|4)       2165176 non-null  float64\n",
      " 13  tslx(C|2)       3086538 non-null  int64  \n",
      " 14  jyfw(C|4000)    3085134 non-null  object \n",
      " 15  year-month      3086537 non-null  object \n",
      " 16  day             3086537 non-null  float64\n",
      " 17  new-year-month  3086538 non-null  object \n",
      " 18  new-day         3086538 non-null  float64\n",
      "dtypes: float64(4), int64(5), object(10)\n",
      "memory usage: 447.4+ MB\n"
     ]
    }
   ],
   "source": [
    "file.info(null_counts = True)"
   ]
  },
  {
   "cell_type": "markdown",
   "metadata": {},
   "source": [
    "### 查看当月成立的企业数量"
   ]
  },
  {
   "cell_type": "code",
   "execution_count": 34,
   "metadata": {
    "ExecuteTime": {
     "end_time": "2022-08-24T04:41:26.700552Z",
     "start_time": "2022-08-24T04:41:24.666458Z"
    }
   },
   "outputs": [],
   "source": [
    "file['new-this-month'] = None\n",
    "file.loc[file[((file['new-year-month'] == '2022-07') & (file['new-day'] >= 25)) | \n",
    "              ((file['new-year-month'] == '2022-08') & (file['new-day'] <= 24))].index, 'new-this-month'] = 1\n",
    "file['new-this-month'] = file['new-this-month'].astype(np.float)"
   ]
  },
  {
   "cell_type": "code",
   "execution_count": 35,
   "metadata": {
    "ExecuteTime": {
     "end_time": "2022-08-24T04:41:30.572003Z",
     "start_time": "2022-08-24T04:41:30.548067Z"
    }
   },
   "outputs": [],
   "source": [
    "file['new-this-month'].fillna(value=0, inplace=True)"
   ]
  },
  {
   "cell_type": "code",
   "execution_count": 36,
   "metadata": {
    "ExecuteTime": {
     "end_time": "2022-08-24T04:41:47.680296Z",
     "start_time": "2022-08-24T04:41:47.532693Z"
    }
   },
   "outputs": [
    {
     "name": "stdout",
     "output_type": "stream",
     "text": [
      "<class 'pandas.core.frame.DataFrame'>\n",
      "Int64Index: 30062 entries, 1197877 to 3005288\n",
      "Data columns (total 21 columns):\n",
      " #   Column          Non-Null Count  Dtype  \n",
      "---  ------          --------------  -----  \n",
      " 0   #nbxh(C|50)     30062 non-null  int64  \n",
      " 1   qymc(C|300)     30062 non-null  object \n",
      " 2   uniscid(C|50)   30062 non-null  object \n",
      " 3   zch(C|50)       30062 non-null  object \n",
      " 4   fzrxm(C|500)    30062 non-null  object \n",
      " 5   jjhklb(C|2)     30062 non-null  int64  \n",
      " 6   qylx(C|6)       30062 non-null  int64  \n",
      " 7   hydm(C|8)       30062 non-null  object \n",
      " 8   djjg(C|20)      30062 non-null  int64  \n",
      " 9   clrq(D)         30062 non-null  object \n",
      " 10  hzrq(D)         30062 non-null  object \n",
      " 11  zczb(N|21|6)    30062 non-null  float64\n",
      " 12  jyzt(C|4)       29823 non-null  float64\n",
      " 13  tslx(C|2)       30062 non-null  int64  \n",
      " 14  jyfw(C|4000)    30062 non-null  object \n",
      " 15  year-month      30062 non-null  object \n",
      " 16  day             30062 non-null  float64\n",
      " 17  new-year-month  30062 non-null  object \n",
      " 18  new-day         30062 non-null  float64\n",
      " 19  this-month      30062 non-null  float64\n",
      " 20  new-this-month  30062 non-null  float64\n",
      "dtypes: float64(6), int64(5), object(10)\n",
      "memory usage: 5.0+ MB\n"
     ]
    }
   ],
   "source": [
    "file[file['new-this-month'] == 1].info()"
   ]
  },
  {
   "cell_type": "markdown",
   "metadata": {},
   "source": [
    "### 提取本月注吊销及迁出数据"
   ]
  },
  {
   "cell_type": "code",
   "execution_count": 37,
   "metadata": {
    "ExecuteTime": {
     "end_time": "2022-08-24T04:43:07.960289Z",
     "start_time": "2022-08-24T04:43:05.913735Z"
    }
   },
   "outputs": [],
   "source": [
    "file['this-month'] = None\n",
    "file.loc[file[((file['year-month'] == '2022-07') & (file['day'] >= 25)) | \n",
    "              ((file['year-month'] == '2022-08') & (file['day'] <= 24))].index, 'this-month'] = 1\n",
    "file['this-month'] = file['this-month'].astype(np.float)\n",
    "file['this-month'].fillna(value=0, inplace=True)"
   ]
  },
  {
   "cell_type": "code",
   "execution_count": 39,
   "metadata": {
    "ExecuteTime": {
     "end_time": "2022-08-24T04:43:47.147600Z",
     "start_time": "2022-08-24T04:43:47.033873Z"
    }
   },
   "outputs": [
    {
     "name": "stdout",
     "output_type": "stream",
     "text": [
      "<class 'pandas.core.frame.DataFrame'>\n",
      "Int64Index: 13516 entries, 25 to 3086371\n",
      "Data columns (total 21 columns):\n",
      " #   Column          Non-Null Count  Dtype  \n",
      "---  ------          --------------  -----  \n",
      " 0   #nbxh(C|50)     13516 non-null  int64  \n",
      " 1   qymc(C|300)     13516 non-null  object \n",
      " 2   uniscid(C|50)   13298 non-null  object \n",
      " 3   zch(C|50)       13516 non-null  object \n",
      " 4   fzrxm(C|500)    13516 non-null  object \n",
      " 5   jjhklb(C|2)     13516 non-null  int64  \n",
      " 6   qylx(C|6)       13516 non-null  int64  \n",
      " 7   hydm(C|8)       13516 non-null  object \n",
      " 8   djjg(C|20)      13516 non-null  int64  \n",
      " 9   clrq(D)         13516 non-null  object \n",
      " 10  hzrq(D)         13516 non-null  object \n",
      " 11  zczb(N|21|6)    13516 non-null  float64\n",
      " 12  jyzt(C|4)       13514 non-null  float64\n",
      " 13  tslx(C|2)       13516 non-null  int64  \n",
      " 14  jyfw(C|4000)    13516 non-null  object \n",
      " 15  year-month      13516 non-null  object \n",
      " 16  day             13516 non-null  float64\n",
      " 17  new-year-month  13516 non-null  object \n",
      " 18  new-day         13516 non-null  float64\n",
      " 19  this-month      13516 non-null  float64\n",
      " 20  new-this-month  13516 non-null  float64\n",
      "dtypes: float64(6), int64(5), object(10)\n",
      "memory usage: 2.3+ MB\n",
      "注销： 13423\n",
      "吊销： 41\n",
      "迁出： 52\n"
     ]
    }
   ],
   "source": [
    "# 注销（07）、吊销（11）、迁入（09）、迁出（13）\n",
    "revoke = file[((file['this-month'] == 1) & (file['tslx(C|2)'] == 7)) | ((file['this-month'] == 1) & (file['tslx(C|2)'] == 11)) | ((file['this-month'] == 1) & (file['tslx(C|2)'] == 13))]\n",
    "revoke.info(null_counts = True)\n",
    "print('注销：', len(revoke[revoke['tslx(C|2)'] == 7]))\n",
    "print('吊销：', len(revoke[revoke['tslx(C|2)'] == 11]))\n",
    "print('迁出：', len(revoke[revoke['tslx(C|2)'] == 13]))"
   ]
  },
  {
   "cell_type": "markdown",
   "metadata": {},
   "source": [
    "### 删除注吊销及迁出数据"
   ]
  },
  {
   "cell_type": "code",
   "execution_count": 40,
   "metadata": {
    "ExecuteTime": {
     "end_time": "2022-08-24T04:44:49.742901Z",
     "start_time": "2022-08-24T04:44:45.859215Z"
    }
   },
   "outputs": [
    {
     "name": "stdout",
     "output_type": "stream",
     "text": [
      "<class 'pandas.core.frame.DataFrame'>\n",
      "Int64Index: 1826316 entries, 0 to 3086537\n",
      "Data columns (total 21 columns):\n",
      " #   Column          Non-Null Count    Dtype  \n",
      "---  ------          --------------    -----  \n",
      " 0   #nbxh(C|50)     1826316 non-null  int64  \n",
      " 1   qymc(C|300)     1826313 non-null  object \n",
      " 2   uniscid(C|50)   1823303 non-null  object \n",
      " 3   zch(C|50)       1826292 non-null  object \n",
      " 4   fzrxm(C|500)    1826247 non-null  object \n",
      " 5   jjhklb(C|2)     1826316 non-null  int64  \n",
      " 6   qylx(C|6)       1826316 non-null  int64  \n",
      " 7   hydm(C|8)       1826316 non-null  object \n",
      " 8   djjg(C|20)      1826316 non-null  int64  \n",
      " 9   clrq(D)         1826316 non-null  object \n",
      " 10  hzrq(D)         1826315 non-null  object \n",
      " 11  zczb(N|21|6)    1826313 non-null  float64\n",
      " 12  jyzt(C|4)       1400431 non-null  float64\n",
      " 13  tslx(C|2)       1826316 non-null  int64  \n",
      " 14  jyfw(C|4000)    1826273 non-null  object \n",
      " 15  year-month      1826315 non-null  object \n",
      " 16  day             1826315 non-null  float64\n",
      " 17  new-year-month  1826316 non-null  object \n",
      " 18  new-day         1826316 non-null  float64\n",
      " 19  this-month      1826316 non-null  float64\n",
      " 20  new-this-month  1826316 non-null  float64\n",
      "dtypes: float64(6), int64(5), object(10)\n",
      "memory usage: 306.5+ MB\n"
     ]
    }
   ],
   "source": [
    "# 删除所有注吊销数据\n",
    "file.drop(file[file['tslx(C|2)'] == 7].index, inplace=True)\n",
    "file.drop(file[file['tslx(C|2)'] == 11].index, inplace=True)\n",
    "file.drop(file[file['tslx(C|2)'] == 13].index, inplace=True)\n",
    "file.info(null_counts = True)"
   ]
  },
  {
   "cell_type": "markdown",
   "metadata": {},
   "source": [
    "## 提取需要特征"
   ]
  },
  {
   "cell_type": "markdown",
   "metadata": {},
   "source": [
    "提取\n",
    "> `jjhklb`经济户口类别：用于经济户口**分类**     \n",
    "    `nbxh`内部序号：索引    \n",
    "    `hydm`行业代码：用于行业**分类**    \n",
    "    `djjg`登记机关：用于地区**分类**    \n",
    "    `zczb`注册资本：用于规模**分类**    \n",
    "    `jyzt`经营状态：0， 1    \n",
    "    `clrq`成立日期：用于存续时间**分类**   \n",
    "    `qylx(C|6)` 用于决定哪些企业公积金为0"
   ]
  },
  {
   "cell_type": "markdown",
   "metadata": {},
   "source": [
    "### 提取主体登记表"
   ]
  },
  {
   "cell_type": "code",
   "execution_count": 41,
   "metadata": {
    "ExecuteTime": {
     "end_time": "2022-08-24T04:45:13.883524Z",
     "start_time": "2022-08-24T04:45:13.290895Z"
    }
   },
   "outputs": [
    {
     "name": "stdout",
     "output_type": "stream",
     "text": [
      "<class 'pandas.core.frame.DataFrame'>\n",
      "Int64Index: 1826316 entries, 0 to 3086537\n",
      "Data columns (total 8 columns):\n",
      " #   Column        Non-Null Count    Dtype  \n",
      "---  ------        --------------    -----  \n",
      " 0   jjhklb(C|2)   1826316 non-null  int64  \n",
      " 1   #nbxh(C|50)   1826316 non-null  int64  \n",
      " 2   hydm(C|8)     1826316 non-null  object \n",
      " 3   djjg(C|20)    1826316 non-null  int64  \n",
      " 4   zczb(N|21|6)  1826313 non-null  float64\n",
      " 5   jyzt(C|4)     1400431 non-null  float64\n",
      " 6   clrq(D)       1826316 non-null  object \n",
      " 7   qylx(C|6)     1826316 non-null  int64  \n",
      "dtypes: float64(2), int64(4), object(2)\n",
      "memory usage: 125.4+ MB\n"
     ]
    }
   ],
   "source": [
    "new_file = file[['jjhklb(C|2)', '#nbxh(C|50)', 'hydm(C|8)', 'djjg(C|20)', 'zczb(N|21|6)', 'jyzt(C|4)', 'clrq(D)', 'qylx(C|6)']]\n",
    "new_file.info(null_counts = True)"
   ]
  },
  {
   "cell_type": "markdown",
   "metadata": {},
   "source": [
    "### 提取注吊销表"
   ]
  },
  {
   "cell_type": "code",
   "execution_count": 42,
   "metadata": {
    "ExecuteTime": {
     "end_time": "2022-08-24T04:45:19.068829Z",
     "start_time": "2022-08-24T04:45:19.050305Z"
    }
   },
   "outputs": [
    {
     "name": "stdout",
     "output_type": "stream",
     "text": [
      "<class 'pandas.core.frame.DataFrame'>\n",
      "Int64Index: 13516 entries, 25 to 3086371\n",
      "Data columns (total 8 columns):\n",
      " #   Column        Non-Null Count  Dtype  \n",
      "---  ------        --------------  -----  \n",
      " 0   jjhklb(C|2)   13516 non-null  int64  \n",
      " 1   #nbxh(C|50)   13516 non-null  int64  \n",
      " 2   hydm(C|8)     13516 non-null  object \n",
      " 3   djjg(C|20)    13516 non-null  int64  \n",
      " 4   zczb(N|21|6)  13516 non-null  float64\n",
      " 5   jyzt(C|4)     13514 non-null  float64\n",
      " 6   clrq(D)       13516 non-null  object \n",
      " 7   qylx(C|6)     13516 non-null  int64  \n",
      "dtypes: float64(2), int64(4), object(2)\n",
      "memory usage: 950.3+ KB\n"
     ]
    }
   ],
   "source": [
    "new_revoke = revoke[['jjhklb(C|2)', '#nbxh(C|50)', 'hydm(C|8)', 'djjg(C|20)', 'zczb(N|21|6)', 'jyzt(C|4)', 'clrq(D)', 'qylx(C|6)']]\n",
    "new_revoke.info(null_counts = True)"
   ]
  },
  {
   "cell_type": "markdown",
   "metadata": {},
   "source": [
    "## 更改经营状态"
   ]
  },
  {
   "cell_type": "code",
   "execution_count": 43,
   "metadata": {
    "ExecuteTime": {
     "end_time": "2022-08-24T04:45:23.121461Z",
     "start_time": "2022-08-24T04:45:22.572268Z"
    }
   },
   "outputs": [
    {
     "name": "stdout",
     "output_type": "stream",
     "text": [
      "1    1826316\n",
      "Name: jyzt(C|4), dtype: int64\n",
      "0.0    13516\n",
      "Name: jyzt(C|4), dtype: int64\n"
     ]
    }
   ],
   "source": [
    "# 主体登记表的经营状态填补为1\n",
    "new_file['jyzt(C|4)'].fillna(value=1.0, inplace=True)\n",
    "\n",
    "# 注吊销表的经营状态为0\n",
    "new_revoke['jyzt(C|4)'] = 0.0\n",
    "\n",
    "# jyzt大于1的全部调整为1\n",
    "new_file['jyzt(C|4)'] = new_file['jyzt(C|4)'].astype(np.float)\n",
    "new_file.loc[new_file['jyzt(C|4)'] > 0, 'jyzt(C|4)'] = 1\n",
    "new_file.loc[new_file['jyzt(C|4)'] == 0, 'jyzt(C|4)'] = 0\n",
    "new_file['jyzt(C|4)'] = new_file['jyzt(C|4)'].astype(np.int64)\n",
    "print(new_file['jyzt(C|4)'].value_counts())\n",
    "print(new_revoke['jyzt(C|4)'].value_counts())"
   ]
  },
  {
   "cell_type": "code",
   "execution_count": 44,
   "metadata": {
    "ExecuteTime": {
     "end_time": "2022-08-24T04:45:24.031780Z",
     "start_time": "2022-08-24T04:45:24.020783Z"
    }
   },
   "outputs": [
    {
     "data": {
      "text/html": [
       "<div>\n",
       "<style scoped>\n",
       "    .dataframe tbody tr th:only-of-type {\n",
       "        vertical-align: middle;\n",
       "    }\n",
       "\n",
       "    .dataframe tbody tr th {\n",
       "        vertical-align: top;\n",
       "    }\n",
       "\n",
       "    .dataframe thead th {\n",
       "        text-align: right;\n",
       "    }\n",
       "</style>\n",
       "<table border=\"1\" class=\"dataframe\">\n",
       "  <thead>\n",
       "    <tr style=\"text-align: right;\">\n",
       "      <th></th>\n",
       "      <th>jjhklb(C|2)</th>\n",
       "      <th>#nbxh(C|50)</th>\n",
       "      <th>hydm(C|8)</th>\n",
       "      <th>djjg(C|20)</th>\n",
       "      <th>zczb(N|21|6)</th>\n",
       "      <th>jyzt(C|4)</th>\n",
       "      <th>clrq(D)</th>\n",
       "      <th>qylx(C|6)</th>\n",
       "    </tr>\n",
       "  </thead>\n",
       "  <tbody>\n",
       "    <tr>\n",
       "      <th>0</th>\n",
       "      <td>3</td>\n",
       "      <td>142000009537608516</td>\n",
       "      <td>K7030</td>\n",
       "      <td>421023999</td>\n",
       "      <td>100.0</td>\n",
       "      <td>1</td>\n",
       "      <td>2019-07-11</td>\n",
       "      <td>1130</td>\n",
       "    </tr>\n",
       "    <tr>\n",
       "      <th>1</th>\n",
       "      <td>3</td>\n",
       "      <td>142000009537610596</td>\n",
       "      <td>L7299</td>\n",
       "      <td>421181002</td>\n",
       "      <td>10.0</td>\n",
       "      <td>1</td>\n",
       "      <td>2019-07-11</td>\n",
       "      <td>4540</td>\n",
       "    </tr>\n",
       "  </tbody>\n",
       "</table>\n",
       "</div>"
      ],
      "text/plain": [
       "   jjhklb(C|2)         #nbxh(C|50) hydm(C|8)  djjg(C|20)  zczb(N|21|6)  \\\n",
       "0            3  142000009537608516     K7030   421023999         100.0   \n",
       "1            3  142000009537610596     L7299   421181002          10.0   \n",
       "\n",
       "   jyzt(C|4)     clrq(D)  qylx(C|6)  \n",
       "0          1  2019-07-11       1130  \n",
       "1          1  2019-07-11       4540  "
      ]
     },
     "execution_count": 44,
     "metadata": {},
     "output_type": "execute_result"
    }
   ],
   "source": [
    "new_file[:2]"
   ]
  },
  {
   "cell_type": "code",
   "execution_count": 45,
   "metadata": {
    "ExecuteTime": {
     "end_time": "2022-08-24T04:45:24.990381Z",
     "start_time": "2022-08-24T04:45:24.969412Z"
    }
   },
   "outputs": [
    {
     "data": {
      "text/html": [
       "<div>\n",
       "<style scoped>\n",
       "    .dataframe tbody tr th:only-of-type {\n",
       "        vertical-align: middle;\n",
       "    }\n",
       "\n",
       "    .dataframe tbody tr th {\n",
       "        vertical-align: top;\n",
       "    }\n",
       "\n",
       "    .dataframe thead th {\n",
       "        text-align: right;\n",
       "    }\n",
       "</style>\n",
       "<table border=\"1\" class=\"dataframe\">\n",
       "  <thead>\n",
       "    <tr style=\"text-align: right;\">\n",
       "      <th></th>\n",
       "      <th>jjhklb(C|2)</th>\n",
       "      <th>#nbxh(C|50)</th>\n",
       "      <th>hydm(C|8)</th>\n",
       "      <th>djjg(C|20)</th>\n",
       "      <th>zczb(N|21|6)</th>\n",
       "      <th>jyzt(C|4)</th>\n",
       "      <th>clrq(D)</th>\n",
       "      <th>qylx(C|6)</th>\n",
       "    </tr>\n",
       "  </thead>\n",
       "  <tbody>\n",
       "    <tr>\n",
       "      <th>25</th>\n",
       "      <td>3</td>\n",
       "      <td>142000009537730056</td>\n",
       "      <td>E5090</td>\n",
       "      <td>420999</td>\n",
       "      <td>0.0</td>\n",
       "      <td>0.0</td>\n",
       "      <td>2019-07-10</td>\n",
       "      <td>2130</td>\n",
       "    </tr>\n",
       "    <tr>\n",
       "      <th>37</th>\n",
       "      <td>3</td>\n",
       "      <td>142000009537773001</td>\n",
       "      <td>K7030</td>\n",
       "      <td>422399</td>\n",
       "      <td>30.0</td>\n",
       "      <td>0.0</td>\n",
       "      <td>2019-07-11</td>\n",
       "      <td>1130</td>\n",
       "    </tr>\n",
       "  </tbody>\n",
       "</table>\n",
       "</div>"
      ],
      "text/plain": [
       "    jjhklb(C|2)         #nbxh(C|50) hydm(C|8)  djjg(C|20)  zczb(N|21|6)  \\\n",
       "25            3  142000009537730056     E5090      420999           0.0   \n",
       "37            3  142000009537773001     K7030      422399          30.0   \n",
       "\n",
       "    jyzt(C|4)     clrq(D)  qylx(C|6)  \n",
       "25        0.0  2019-07-10       2130  \n",
       "37        0.0  2019-07-11       1130  "
      ]
     },
     "execution_count": 45,
     "metadata": {},
     "output_type": "execute_result"
    }
   ],
   "source": [
    "new_revoke[:2]"
   ]
  },
  {
   "cell_type": "markdown",
   "metadata": {},
   "source": [
    "## 合并两表"
   ]
  },
  {
   "cell_type": "code",
   "execution_count": 46,
   "metadata": {
    "ExecuteTime": {
     "end_time": "2022-08-24T04:45:28.859815Z",
     "start_time": "2022-08-24T04:45:28.545021Z"
    }
   },
   "outputs": [
    {
     "name": "stdout",
     "output_type": "stream",
     "text": [
      "<class 'pandas.core.frame.DataFrame'>\n",
      "Int64Index: 1839832 entries, 0 to 3086371\n",
      "Data columns (total 8 columns):\n",
      " #   Column        Non-Null Count    Dtype  \n",
      "---  ------        --------------    -----  \n",
      " 0   jjhklb(C|2)   1839832 non-null  int64  \n",
      " 1   #nbxh(C|50)   1839832 non-null  int64  \n",
      " 2   hydm(C|8)     1839832 non-null  object \n",
      " 3   djjg(C|20)    1839832 non-null  int64  \n",
      " 4   zczb(N|21|6)  1839829 non-null  float64\n",
      " 5   jyzt(C|4)     1839832 non-null  float64\n",
      " 6   clrq(D)       1839832 non-null  object \n",
      " 7   qylx(C|6)     1839832 non-null  int64  \n",
      "dtypes: float64(2), int64(4), object(2)\n",
      "memory usage: 126.3+ MB\n",
      "None\n"
     ]
    }
   ],
   "source": [
    "new_file = pd.concat([new_file, new_revoke])\n",
    "print(new_file.info(null_counts = True))"
   ]
  },
  {
   "cell_type": "markdown",
   "metadata": {},
   "source": [
    "## 更改列名"
   ]
  },
  {
   "cell_type": "code",
   "execution_count": 47,
   "metadata": {
    "ExecuteTime": {
     "end_time": "2022-08-24T04:46:35.523413Z",
     "start_time": "2022-08-24T04:46:35.317207Z"
    }
   },
   "outputs": [
    {
     "name": "stdout",
     "output_type": "stream",
     "text": [
      "<class 'pandas.core.frame.DataFrame'>\n",
      "Int64Index: 1839832 entries, 0 to 3086371\n",
      "Data columns (total 8 columns):\n",
      " #   Column  Non-Null Count    Dtype  \n",
      "---  ------  --------------    -----  \n",
      " 0   jjhklb  1839832 non-null  int64  \n",
      " 1   nbxh    1839832 non-null  int64  \n",
      " 2   hydm    1839832 non-null  object \n",
      " 3   djjg    1839832 non-null  int64  \n",
      " 4   zczb    1839829 non-null  float64\n",
      " 5   jyzt    1839832 non-null  float64\n",
      " 6   clrq    1839832 non-null  object \n",
      " 7   qylx    1839832 non-null  int64  \n",
      "dtypes: float64(2), int64(4), object(2)\n",
      "memory usage: 126.3+ MB\n",
      "None\n"
     ]
    },
    {
     "data": {
      "text/html": [
       "<div>\n",
       "<style scoped>\n",
       "    .dataframe tbody tr th:only-of-type {\n",
       "        vertical-align: middle;\n",
       "    }\n",
       "\n",
       "    .dataframe tbody tr th {\n",
       "        vertical-align: top;\n",
       "    }\n",
       "\n",
       "    .dataframe thead th {\n",
       "        text-align: right;\n",
       "    }\n",
       "</style>\n",
       "<table border=\"1\" class=\"dataframe\">\n",
       "  <thead>\n",
       "    <tr style=\"text-align: right;\">\n",
       "      <th></th>\n",
       "      <th>jjhklb</th>\n",
       "      <th>nbxh</th>\n",
       "      <th>hydm</th>\n",
       "      <th>djjg</th>\n",
       "      <th>zczb</th>\n",
       "      <th>jyzt</th>\n",
       "      <th>clrq</th>\n",
       "      <th>qylx</th>\n",
       "    </tr>\n",
       "  </thead>\n",
       "  <tbody>\n",
       "    <tr>\n",
       "      <th>0</th>\n",
       "      <td>3</td>\n",
       "      <td>142000009537608516</td>\n",
       "      <td>K7030</td>\n",
       "      <td>421023999</td>\n",
       "      <td>100.0</td>\n",
       "      <td>1.0</td>\n",
       "      <td>2019-07-11</td>\n",
       "      <td>1130</td>\n",
       "    </tr>\n",
       "    <tr>\n",
       "      <th>1</th>\n",
       "      <td>3</td>\n",
       "      <td>142000009537610596</td>\n",
       "      <td>L7299</td>\n",
       "      <td>421181002</td>\n",
       "      <td>10.0</td>\n",
       "      <td>1.0</td>\n",
       "      <td>2019-07-11</td>\n",
       "      <td>4540</td>\n",
       "    </tr>\n",
       "  </tbody>\n",
       "</table>\n",
       "</div>"
      ],
      "text/plain": [
       "   jjhklb                nbxh   hydm       djjg   zczb  jyzt        clrq  qylx\n",
       "0       3  142000009537608516  K7030  421023999  100.0   1.0  2019-07-11  1130\n",
       "1       3  142000009537610596  L7299  421181002   10.0   1.0  2019-07-11  4540"
      ]
     },
     "execution_count": 47,
     "metadata": {},
     "output_type": "execute_result"
    }
   ],
   "source": [
    "new_file.rename(\n",
    "    columns={'jjhklb(C|2)': 'jjhklb', '#nbxh(C|50)': 'nbxh', 'hydm(C|8)':'hydm', 'djjg(C|20)':'djjg', \n",
    "             'zczb(N|21|6)':'zczb', 'jyzt(C|4)':'jyzt', 'clrq(D)':'clrq', 'qylx(C|6)':'qylx'}, \n",
    "    inplace=True)\n",
    "print(new_file.info(null_counts = True))\n",
    "new_file[:2]"
   ]
  },
  {
   "cell_type": "markdown",
   "metadata": {},
   "source": [
    "## 缺失值填补"
   ]
  },
  {
   "cell_type": "markdown",
   "metadata": {},
   "source": [
    "`jjhklb`填补为众数"
   ]
  },
  {
   "cell_type": "code",
   "execution_count": 48,
   "metadata": {
    "ExecuteTime": {
     "end_time": "2022-08-24T04:46:37.623852Z",
     "start_time": "2022-08-24T04:46:37.233075Z"
    }
   },
   "outputs": [],
   "source": [
    "new_file['jjhklb'].fillna(new_file['jjhklb'].mode()[0], inplace=True)"
   ]
  },
  {
   "cell_type": "markdown",
   "metadata": {},
   "source": [
    "`hydm`填补为众数"
   ]
  },
  {
   "cell_type": "code",
   "execution_count": 49,
   "metadata": {
    "ExecuteTime": {
     "end_time": "2022-08-24T04:46:37.919340Z",
     "start_time": "2022-08-24T04:46:37.684376Z"
    }
   },
   "outputs": [],
   "source": [
    "new_file['hydm'].fillna(new_file['hydm'].mode()[0], inplace=True)"
   ]
  },
  {
   "cell_type": "markdown",
   "metadata": {},
   "source": [
    "`djjg`填补为临近值"
   ]
  },
  {
   "cell_type": "code",
   "execution_count": 50,
   "metadata": {
    "ExecuteTime": {
     "end_time": "2022-08-24T04:46:38.107254Z",
     "start_time": "2022-08-24T04:46:38.090326Z"
    }
   },
   "outputs": [],
   "source": [
    "# 用前值填补\n",
    "new_file['djjg'].fillna(method = 'ffill', inplace = True)"
   ]
  },
  {
   "cell_type": "markdown",
   "metadata": {},
   "source": [
    "`zczb`填补为众数"
   ]
  },
  {
   "cell_type": "code",
   "execution_count": 51,
   "metadata": {
    "ExecuteTime": {
     "end_time": "2022-08-24T04:46:38.575562Z",
     "start_time": "2022-08-24T04:46:38.515692Z"
    }
   },
   "outputs": [],
   "source": [
    "new_file['zczb'].fillna(new_file['zczb'].mode()[0], inplace=True)"
   ]
  },
  {
   "cell_type": "markdown",
   "metadata": {
    "ExecuteTime": {
     "start_time": "2022-03-07T08:42:18.609Z"
    }
   },
   "source": [
    "`jyzt`填补为***0***"
   ]
  },
  {
   "cell_type": "code",
   "execution_count": 52,
   "metadata": {
    "ExecuteTime": {
     "end_time": "2022-08-24T04:46:39.241412Z",
     "start_time": "2022-08-24T04:46:39.225437Z"
    }
   },
   "outputs": [],
   "source": [
    "new_file['jyzt'].fillna(value = '0', inplace=True)"
   ]
  },
  {
   "cell_type": "markdown",
   "metadata": {},
   "source": [
    "`clrq`填补为众数"
   ]
  },
  {
   "cell_type": "code",
   "execution_count": 53,
   "metadata": {
    "ExecuteTime": {
     "end_time": "2022-08-24T04:46:40.068246Z",
     "start_time": "2022-08-24T04:46:39.801078Z"
    }
   },
   "outputs": [],
   "source": [
    "new_file['clrq'].fillna(new_file['clrq'].mode()[0], inplace=True)"
   ]
  },
  {
   "cell_type": "code",
   "execution_count": 54,
   "metadata": {
    "ExecuteTime": {
     "end_time": "2022-08-24T04:46:40.363079Z",
     "start_time": "2022-08-24T04:46:40.174551Z"
    }
   },
   "outputs": [
    {
     "name": "stdout",
     "output_type": "stream",
     "text": [
      "<class 'pandas.core.frame.DataFrame'>\n",
      "Int64Index: 1839832 entries, 0 to 3086371\n",
      "Data columns (total 8 columns):\n",
      " #   Column  Non-Null Count    Dtype  \n",
      "---  ------  --------------    -----  \n",
      " 0   jjhklb  1839832 non-null  int64  \n",
      " 1   nbxh    1839832 non-null  int64  \n",
      " 2   hydm    1839832 non-null  object \n",
      " 3   djjg    1839832 non-null  int64  \n",
      " 4   zczb    1839832 non-null  float64\n",
      " 5   jyzt    1839832 non-null  float64\n",
      " 6   clrq    1839832 non-null  object \n",
      " 7   qylx    1839832 non-null  int64  \n",
      "dtypes: float64(2), int64(4), object(2)\n",
      "memory usage: 126.3+ MB\n"
     ]
    }
   ],
   "source": [
    "new_file.info(null_counts = True)"
   ]
  },
  {
   "cell_type": "markdown",
   "metadata": {},
   "source": [
    "## 类型转换"
   ]
  },
  {
   "cell_type": "markdown",
   "metadata": {},
   "source": [
    "登记机关转换为int后再转为str"
   ]
  },
  {
   "cell_type": "code",
   "execution_count": 55,
   "metadata": {
    "ExecuteTime": {
     "end_time": "2022-08-24T04:46:41.845058Z",
     "start_time": "2022-08-24T04:46:41.824082Z"
    }
   },
   "outputs": [],
   "source": [
    "new_file['djjg'] = new_file['djjg'].astype(np.int64)"
   ]
  },
  {
   "cell_type": "code",
   "execution_count": 56,
   "metadata": {
    "ExecuteTime": {
     "end_time": "2022-08-24T04:46:42.494887Z",
     "start_time": "2022-08-24T04:46:42.300626Z"
    }
   },
   "outputs": [
    {
     "name": "stdout",
     "output_type": "stream",
     "text": [
      "<class 'pandas.core.frame.DataFrame'>\n",
      "Int64Index: 1839832 entries, 0 to 3086371\n",
      "Data columns (total 8 columns):\n",
      " #   Column  Non-Null Count    Dtype  \n",
      "---  ------  --------------    -----  \n",
      " 0   jjhklb  1839832 non-null  int64  \n",
      " 1   nbxh    1839832 non-null  int64  \n",
      " 2   hydm    1839832 non-null  object \n",
      " 3   djjg    1839832 non-null  int64  \n",
      " 4   zczb    1839832 non-null  float64\n",
      " 5   jyzt    1839832 non-null  float64\n",
      " 6   clrq    1839832 non-null  object \n",
      " 7   qylx    1839832 non-null  int64  \n",
      "dtypes: float64(2), int64(4), object(2)\n",
      "memory usage: 126.3+ MB\n"
     ]
    }
   ],
   "source": [
    "new_file.info(null_counts = True)"
   ]
  },
  {
   "cell_type": "markdown",
   "metadata": {},
   "source": [
    "## 行业代码只提取第一个"
   ]
  },
  {
   "cell_type": "code",
   "execution_count": 57,
   "metadata": {
    "ExecuteTime": {
     "end_time": "2022-08-24T04:46:44.389933Z",
     "start_time": "2022-08-24T04:46:43.465921Z"
    }
   },
   "outputs": [
    {
     "data": {
      "text/html": [
       "<div>\n",
       "<style scoped>\n",
       "    .dataframe tbody tr th:only-of-type {\n",
       "        vertical-align: middle;\n",
       "    }\n",
       "\n",
       "    .dataframe tbody tr th {\n",
       "        vertical-align: top;\n",
       "    }\n",
       "\n",
       "    .dataframe thead th {\n",
       "        text-align: right;\n",
       "    }\n",
       "</style>\n",
       "<table border=\"1\" class=\"dataframe\">\n",
       "  <thead>\n",
       "    <tr style=\"text-align: right;\">\n",
       "      <th></th>\n",
       "      <th>jjhklb</th>\n",
       "      <th>nbxh</th>\n",
       "      <th>hydm</th>\n",
       "      <th>djjg</th>\n",
       "      <th>zczb</th>\n",
       "      <th>jyzt</th>\n",
       "      <th>clrq</th>\n",
       "      <th>qylx</th>\n",
       "    </tr>\n",
       "  </thead>\n",
       "  <tbody>\n",
       "    <tr>\n",
       "      <th>0</th>\n",
       "      <td>3</td>\n",
       "      <td>142000009537608516</td>\n",
       "      <td>K</td>\n",
       "      <td>421023999</td>\n",
       "      <td>100.0</td>\n",
       "      <td>1.0</td>\n",
       "      <td>2019-07-11</td>\n",
       "      <td>1130</td>\n",
       "    </tr>\n",
       "    <tr>\n",
       "      <th>1</th>\n",
       "      <td>3</td>\n",
       "      <td>142000009537610596</td>\n",
       "      <td>L</td>\n",
       "      <td>421181002</td>\n",
       "      <td>10.0</td>\n",
       "      <td>1.0</td>\n",
       "      <td>2019-07-11</td>\n",
       "      <td>4540</td>\n",
       "    </tr>\n",
       "  </tbody>\n",
       "</table>\n",
       "</div>"
      ],
      "text/plain": [
       "   jjhklb                nbxh hydm       djjg   zczb  jyzt        clrq  qylx\n",
       "0       3  142000009537608516    K  421023999  100.0   1.0  2019-07-11  1130\n",
       "1       3  142000009537610596    L  421181002   10.0   1.0  2019-07-11  4540"
      ]
     },
     "execution_count": 57,
     "metadata": {},
     "output_type": "execute_result"
    }
   ],
   "source": [
    "new_file['hydm'] = new_file['hydm'].str[0]\n",
    "new_file[:2]"
   ]
  },
  {
   "cell_type": "code",
   "execution_count": 58,
   "metadata": {
    "ExecuteTime": {
     "end_time": "2022-08-24T04:46:44.419829Z",
     "start_time": "2022-08-24T04:46:44.392899Z"
    }
   },
   "outputs": [],
   "source": [
    "new_file['nbxh'] = new_file['nbxh'].astype(np.int64)"
   ]
  },
  {
   "cell_type": "markdown",
   "metadata": {},
   "source": [
    "## 设置nbxh为索引"
   ]
  },
  {
   "cell_type": "code",
   "execution_count": 59,
   "metadata": {
    "ExecuteTime": {
     "end_time": "2022-08-24T04:46:46.144140Z",
     "start_time": "2022-08-24T04:46:46.129180Z"
    }
   },
   "outputs": [
    {
     "data": {
      "text/html": [
       "<div>\n",
       "<style scoped>\n",
       "    .dataframe tbody tr th:only-of-type {\n",
       "        vertical-align: middle;\n",
       "    }\n",
       "\n",
       "    .dataframe tbody tr th {\n",
       "        vertical-align: top;\n",
       "    }\n",
       "\n",
       "    .dataframe thead th {\n",
       "        text-align: right;\n",
       "    }\n",
       "</style>\n",
       "<table border=\"1\" class=\"dataframe\">\n",
       "  <thead>\n",
       "    <tr style=\"text-align: right;\">\n",
       "      <th></th>\n",
       "      <th>jjhklb</th>\n",
       "      <th>hydm</th>\n",
       "      <th>djjg</th>\n",
       "      <th>zczb</th>\n",
       "      <th>jyzt</th>\n",
       "      <th>clrq</th>\n",
       "      <th>qylx</th>\n",
       "    </tr>\n",
       "    <tr>\n",
       "      <th>nbxh</th>\n",
       "      <th></th>\n",
       "      <th></th>\n",
       "      <th></th>\n",
       "      <th></th>\n",
       "      <th></th>\n",
       "      <th></th>\n",
       "      <th></th>\n",
       "    </tr>\n",
       "  </thead>\n",
       "  <tbody>\n",
       "    <tr>\n",
       "      <th>142000009537608516</th>\n",
       "      <td>3</td>\n",
       "      <td>K</td>\n",
       "      <td>421023999</td>\n",
       "      <td>100.0</td>\n",
       "      <td>1.0</td>\n",
       "      <td>2019-07-11</td>\n",
       "      <td>1130</td>\n",
       "    </tr>\n",
       "    <tr>\n",
       "      <th>142000009537610596</th>\n",
       "      <td>3</td>\n",
       "      <td>L</td>\n",
       "      <td>421181002</td>\n",
       "      <td>10.0</td>\n",
       "      <td>1.0</td>\n",
       "      <td>2019-07-11</td>\n",
       "      <td>4540</td>\n",
       "    </tr>\n",
       "  </tbody>\n",
       "</table>\n",
       "</div>"
      ],
      "text/plain": [
       "                    jjhklb hydm       djjg   zczb  jyzt        clrq  qylx\n",
       "nbxh                                                                     \n",
       "142000009537608516       3    K  421023999  100.0   1.0  2019-07-11  1130\n",
       "142000009537610596       3    L  421181002   10.0   1.0  2019-07-11  4540"
      ]
     },
     "execution_count": 59,
     "metadata": {},
     "output_type": "execute_result"
    }
   ],
   "source": [
    "new_file.set_index('nbxh', inplace=True)\n",
    "new_file[:2]"
   ]
  },
  {
   "cell_type": "markdown",
   "metadata": {},
   "source": [
    "# 分类"
   ]
  },
  {
   "cell_type": "code",
   "execution_count": 60,
   "metadata": {
    "ExecuteTime": {
     "end_time": "2022-08-24T04:46:47.295817Z",
     "start_time": "2022-08-24T04:46:47.113306Z"
    }
   },
   "outputs": [
    {
     "name": "stdout",
     "output_type": "stream",
     "text": [
      "<class 'pandas.core.frame.DataFrame'>\n",
      "Int64Index: 1839832 entries, 142000009537608516 to 160000020905222648\n",
      "Data columns (total 7 columns):\n",
      " #   Column  Non-Null Count    Dtype  \n",
      "---  ------  --------------    -----  \n",
      " 0   jjhklb  1839832 non-null  int64  \n",
      " 1   hydm    1839832 non-null  object \n",
      " 2   djjg    1839832 non-null  int64  \n",
      " 3   zczb    1839832 non-null  float64\n",
      " 4   jyzt    1839832 non-null  float64\n",
      " 5   clrq    1839832 non-null  object \n",
      " 6   qylx    1839832 non-null  int64  \n",
      "dtypes: float64(2), int64(3), object(2)\n",
      "memory usage: 112.3+ MB\n"
     ]
    }
   ],
   "source": [
    "new_file.info(verbose = True, null_counts = True)"
   ]
  },
  {
   "cell_type": "markdown",
   "metadata": {},
   "source": [
    "## 划分企业年限"
   ]
  },
  {
   "cell_type": "markdown",
   "metadata": {},
   "source": [
    "总会有些特殊情况"
   ]
  },
  {
   "cell_type": "code",
   "execution_count": 61,
   "metadata": {
    "ExecuteTime": {
     "end_time": "2022-08-24T04:46:49.365783Z",
     "start_time": "2022-08-24T04:46:48.563190Z"
    }
   },
   "outputs": [],
   "source": [
    "new_file['time'] = 2022 - new_file['clrq'].str[:4].astype(np.int64)"
   ]
  },
  {
   "cell_type": "code",
   "execution_count": 62,
   "metadata": {
    "ExecuteTime": {
     "end_time": "2022-08-24T04:46:52.956631Z",
     "start_time": "2022-08-24T04:46:52.531183Z"
    }
   },
   "outputs": [],
   "source": [
    "new_file['time_scale'] = None\n",
    "new_file.loc[new_file['time'] <= 1, 'time_scale'] = '1'\n",
    "new_file.loc[((new_file['time'] > 1) & (new_file['time'] <= 2)), 'time_scale'] = '2'\n",
    "new_file.loc[((new_file['time'] > 2) & (new_file['time'] <= 3)), 'time_scale'] = '3'\n",
    "new_file.loc[((new_file['time'] > 3) & (new_file['time'] <= 4)), 'time_scale'] = '4'\n",
    "new_file.loc[((new_file['time'] > 4) & (new_file['time'] <= 5)), 'time_scale'] = '5'\n",
    "new_file.loc[((new_file['time'] > 5) & (new_file['time'] <= 6)), 'time_scale'] = '6'\n",
    "new_file.loc[((new_file['time'] > 6) & (new_file['time'] <= 7)), 'time_scale'] = '7'\n",
    "new_file.loc[((new_file['time'] > 7) & (new_file['time'] <= 8)), 'time_scale'] = '8'\n",
    "new_file.loc[((new_file['time'] > 8) & (new_file['time'] <= 9)), 'time_scale'] = '9'\n",
    "new_file.loc[((new_file['time'] > 9) & (new_file['time'] <= 10)), 'time_scale'] = '10'\n",
    "new_file.loc[new_file['time'] > 10, 'time_scale'] = '11'"
   ]
  },
  {
   "cell_type": "code",
   "execution_count": 63,
   "metadata": {
    "ExecuteTime": {
     "end_time": "2022-08-24T04:46:55.834265Z",
     "start_time": "2022-08-24T04:46:55.641545Z"
    }
   },
   "outputs": [],
   "source": [
    "new_file.drop(['clrq', 'time'], axis=1, inplace=True)"
   ]
  },
  {
   "cell_type": "code",
   "execution_count": 64,
   "metadata": {
    "ExecuteTime": {
     "end_time": "2022-08-24T04:46:57.143143Z",
     "start_time": "2022-08-24T04:46:57.122178Z"
    }
   },
   "outputs": [
    {
     "data": {
      "text/html": [
       "<div>\n",
       "<style scoped>\n",
       "    .dataframe tbody tr th:only-of-type {\n",
       "        vertical-align: middle;\n",
       "    }\n",
       "\n",
       "    .dataframe tbody tr th {\n",
       "        vertical-align: top;\n",
       "    }\n",
       "\n",
       "    .dataframe thead th {\n",
       "        text-align: right;\n",
       "    }\n",
       "</style>\n",
       "<table border=\"1\" class=\"dataframe\">\n",
       "  <thead>\n",
       "    <tr style=\"text-align: right;\">\n",
       "      <th></th>\n",
       "      <th>jjhklb</th>\n",
       "      <th>hydm</th>\n",
       "      <th>djjg</th>\n",
       "      <th>zczb</th>\n",
       "      <th>jyzt</th>\n",
       "      <th>qylx</th>\n",
       "      <th>time_scale</th>\n",
       "    </tr>\n",
       "    <tr>\n",
       "      <th>nbxh</th>\n",
       "      <th></th>\n",
       "      <th></th>\n",
       "      <th></th>\n",
       "      <th></th>\n",
       "      <th></th>\n",
       "      <th></th>\n",
       "      <th></th>\n",
       "    </tr>\n",
       "  </thead>\n",
       "  <tbody>\n",
       "    <tr>\n",
       "      <th>142000009537608516</th>\n",
       "      <td>3</td>\n",
       "      <td>K</td>\n",
       "      <td>421023999</td>\n",
       "      <td>100.0</td>\n",
       "      <td>1.0</td>\n",
       "      <td>1130</td>\n",
       "      <td>3</td>\n",
       "    </tr>\n",
       "    <tr>\n",
       "      <th>142000009537610596</th>\n",
       "      <td>3</td>\n",
       "      <td>L</td>\n",
       "      <td>421181002</td>\n",
       "      <td>10.0</td>\n",
       "      <td>1.0</td>\n",
       "      <td>4540</td>\n",
       "      <td>3</td>\n",
       "    </tr>\n",
       "  </tbody>\n",
       "</table>\n",
       "</div>"
      ],
      "text/plain": [
       "                    jjhklb hydm       djjg   zczb  jyzt  qylx time_scale\n",
       "nbxh                                                                    \n",
       "142000009537608516       3    K  421023999  100.0   1.0  1130          3\n",
       "142000009537610596       3    L  421181002   10.0   1.0  4540          3"
      ]
     },
     "execution_count": 64,
     "metadata": {},
     "output_type": "execute_result"
    }
   ],
   "source": [
    "new_file[:2]"
   ]
  },
  {
   "cell_type": "markdown",
   "metadata": {},
   "source": [
    "## 地区分类"
   ]
  },
  {
   "cell_type": "code",
   "execution_count": 65,
   "metadata": {
    "ExecuteTime": {
     "end_time": "2022-08-24T04:46:59.571630Z",
     "start_time": "2022-08-24T04:46:58.352584Z"
    }
   },
   "outputs": [
    {
     "name": "stdout",
     "output_type": "stream",
     "text": [
      "<class 'pandas.core.frame.DataFrame'>\n",
      "Int64Index: 1839832 entries, 142000009537608516 to 160000020905222648\n",
      "Data columns (total 8 columns):\n",
      " #   Column      Dtype  \n",
      "---  ------      -----  \n",
      " 0   jjhklb      int64  \n",
      " 1   hydm        object \n",
      " 2   djjg        object \n",
      " 3   zczb        float64\n",
      " 4   jyzt        float64\n",
      " 5   qylx        int64  \n",
      " 6   time_scale  object \n",
      " 7   city        object \n",
      "dtypes: float64(2), int64(2), object(4)\n",
      "memory usage: 126.3+ MB\n"
     ]
    }
   ],
   "source": [
    "new_file['city'] = None\n",
    "new_file['djjg'] = new_file['djjg'].astype(str)\n",
    "new_file.info()"
   ]
  },
  {
   "cell_type": "code",
   "execution_count": 66,
   "metadata": {
    "ExecuteTime": {
     "end_time": "2022-08-24T04:47:16.105834Z",
     "start_time": "2022-08-24T04:47:02.578095Z"
    }
   },
   "outputs": [],
   "source": [
    "new_file.loc[(new_file['djjg'].str[:4] == '4201'), 'city'] = '武汉市'\n",
    "new_file.loc[(new_file['djjg'].str[:4] == '4202'), 'city'] = '黄石市'\n",
    "new_file.loc[(new_file['djjg'].str[:4] == '4203'), 'city'] = '十堰市'\n",
    "new_file.loc[(new_file['djjg'].str[:4] == '4205'), 'city'] = '宜昌市'\n",
    "new_file.loc[(new_file['djjg'].str[:4] == '4206'), 'city'] = '襄阳市'\n",
    "new_file.loc[(new_file['djjg'].str[:4] == '4207'), 'city'] = '鄂州市'\n",
    "new_file.loc[(new_file['djjg'].str[:4] == '4208'), 'city'] = '荆门市'\n",
    "new_file.loc[(new_file['djjg'].str[:4] == '4209'), 'city'] = '孝感市'\n",
    "new_file.loc[(new_file['djjg'].str[:4] == '4210'), 'city'] = '荆州市'\n",
    "new_file.loc[(new_file['djjg'].str[:4] == '4211'), 'city'] = '黄冈市'\n",
    "\n",
    "new_file.loc[(new_file['djjg'].str[:4] == '4212'), 'city'] = '咸宁市'\n",
    "new_file.loc[(new_file['djjg'].str[:4] == '4223'), 'city'] = '咸宁市'\n",
    "\n",
    "new_file.loc[(new_file['djjg'].str[:4] == '4213'), 'city'] = '随州市'\n",
    "new_file.loc[(new_file['djjg'].str[:4] == '4228'), 'city'] = '恩施州'\n",
    "new_file.loc[(new_file['djjg'].str[:6] == '429004'), 'city'] = '仙桃市'\n",
    "new_file.loc[(new_file['djjg'].str[:6] == '429005'), 'city'] = '潜江市'\n",
    "new_file.loc[(new_file['djjg'].str[:6] == '429006'), 'city'] = '天门市'\n",
    "new_file.loc[(new_file['djjg'].str[:6] == '429021'), 'city'] = '神农架林区'\n",
    "\n",
    "new_file.loc[(new_file['djjg'] == '429900'), 'city'] = '武汉市'"
   ]
  },
  {
   "cell_type": "code",
   "execution_count": 67,
   "metadata": {
    "ExecuteTime": {
     "end_time": "2022-08-24T04:47:16.417036Z",
     "start_time": "2022-08-24T04:47:16.108829Z"
    }
   },
   "outputs": [
    {
     "name": "stdout",
     "output_type": "stream",
     "text": [
      "<class 'pandas.core.frame.DataFrame'>\n",
      "Int64Index: 1839832 entries, 142000009537608516 to 160000020905222648\n",
      "Data columns (total 8 columns):\n",
      " #   Column      Non-Null Count    Dtype  \n",
      "---  ------      --------------    -----  \n",
      " 0   jjhklb      1839832 non-null  int64  \n",
      " 1   hydm        1839832 non-null  object \n",
      " 2   djjg        1839832 non-null  object \n",
      " 3   zczb        1839832 non-null  float64\n",
      " 4   jyzt        1839832 non-null  float64\n",
      " 5   qylx        1839832 non-null  int64  \n",
      " 6   time_scale  1839832 non-null  object \n",
      " 7   city        1839832 non-null  object \n",
      "dtypes: float64(2), int64(2), object(4)\n",
      "memory usage: 126.3+ MB\n"
     ]
    }
   ],
   "source": [
    "new_file.info(null_counts = True)"
   ]
  },
  {
   "cell_type": "code",
   "execution_count": 68,
   "metadata": {
    "ExecuteTime": {
     "end_time": "2022-08-24T04:47:16.618548Z",
     "start_time": "2022-08-24T04:47:16.419011Z"
    }
   },
   "outputs": [],
   "source": [
    "new_file.drop(['djjg'], axis=1, inplace=True)"
   ]
  },
  {
   "cell_type": "code",
   "execution_count": 69,
   "metadata": {
    "ExecuteTime": {
     "end_time": "2022-08-24T04:47:16.885958Z",
     "start_time": "2022-08-24T04:47:16.621543Z"
    }
   },
   "outputs": [
    {
     "name": "stdout",
     "output_type": "stream",
     "text": [
      "<class 'pandas.core.frame.DataFrame'>\n",
      "Int64Index: 1839832 entries, 142000009537608516 to 160000020905222648\n",
      "Data columns (total 7 columns):\n",
      " #   Column      Non-Null Count    Dtype  \n",
      "---  ------      --------------    -----  \n",
      " 0   jjhklb      1839832 non-null  int64  \n",
      " 1   hydm        1839832 non-null  object \n",
      " 2   zczb        1839832 non-null  float64\n",
      " 3   jyzt        1839832 non-null  float64\n",
      " 4   qylx        1839832 non-null  int64  \n",
      " 5   time_scale  1839832 non-null  object \n",
      " 6   city        1839832 non-null  object \n",
      "dtypes: float64(2), int64(2), object(3)\n",
      "memory usage: 112.3+ MB\n"
     ]
    }
   ],
   "source": [
    "new_file.info(null_counts = True)"
   ]
  },
  {
   "cell_type": "markdown",
   "metadata": {},
   "source": [
    "## 三次产业分类"
   ]
  },
  {
   "cell_type": "code",
   "execution_count": 70,
   "metadata": {
    "ExecuteTime": {
     "end_time": "2022-08-24T04:48:06.981508Z",
     "start_time": "2022-08-24T04:48:03.659506Z"
    }
   },
   "outputs": [],
   "source": [
    "new_file['three'] = None\n",
    "new_file.loc[new_file['hydm'] == 'A', 'three'] = '1'\n",
    "second = ['B', 'C', 'D', 'E']\n",
    "for i in second:\n",
    "    new_file.loc[new_file['hydm'] == i, 'three'] = '2'\n",
    "third = ['F', 'G', 'H', 'I', 'J', 'K', 'L', 'M', 'N', 'O', 'P', 'Q', 'R', 'S', 'T', 'Z']\n",
    "for i in third:\n",
    "    new_file.loc[new_file['hydm'] == i, 'three'] = '3'"
   ]
  },
  {
   "cell_type": "code",
   "execution_count": 71,
   "metadata": {
    "ExecuteTime": {
     "end_time": "2022-08-24T04:48:07.307706Z",
     "start_time": "2022-08-24T04:48:06.984364Z"
    }
   },
   "outputs": [
    {
     "name": "stdout",
     "output_type": "stream",
     "text": [
      "<class 'pandas.core.frame.DataFrame'>\n",
      "Int64Index: 1839832 entries, 142000009537608516 to 160000020905222648\n",
      "Data columns (total 8 columns):\n",
      " #   Column      Non-Null Count    Dtype  \n",
      "---  ------      --------------    -----  \n",
      " 0   jjhklb      1839832 non-null  int64  \n",
      " 1   hydm        1839832 non-null  object \n",
      " 2   zczb        1839832 non-null  float64\n",
      " 3   jyzt        1839832 non-null  float64\n",
      " 4   qylx        1839832 non-null  int64  \n",
      " 5   time_scale  1839832 non-null  object \n",
      " 6   city        1839832 non-null  object \n",
      " 7   three       1839832 non-null  object \n",
      "dtypes: float64(2), int64(2), object(4)\n",
      "memory usage: 126.3+ MB\n"
     ]
    }
   ],
   "source": [
    "new_file.info(null_counts = True)"
   ]
  },
  {
   "cell_type": "markdown",
   "metadata": {},
   "source": [
    "## 规模分类"
   ]
  },
  {
   "cell_type": "code",
   "execution_count": 72,
   "metadata": {
    "ExecuteTime": {
     "end_time": "2022-08-24T04:48:07.543806Z",
     "start_time": "2022-08-24T04:48:07.310666Z"
    }
   },
   "outputs": [],
   "source": [
    "new_file['scale'] = None\n",
    "new_file.loc[new_file['zczb'] <= 100, 'scale'] = '1'\n",
    "new_file.loc[((new_file['zczb'] > 100) & (new_file['zczb'] <= 1_000)), 'scale'] = '2'\n",
    "new_file.loc[((new_file['zczb'] > 1_000) & (new_file['zczb'] <= 10_000)), 'scale'] = '3'\n",
    "new_file.loc[((new_file['zczb'] > 10_000) & (new_file['zczb'] <= 20_000)), 'scale'] = '4'\n",
    "new_file.loc[new_file['zczb'] > 20_000, 'scale'] = '5'"
   ]
  },
  {
   "cell_type": "code",
   "execution_count": 73,
   "metadata": {
    "ExecuteTime": {
     "end_time": "2022-08-24T04:48:07.944415Z",
     "start_time": "2022-08-24T04:48:07.545763Z"
    }
   },
   "outputs": [
    {
     "name": "stdout",
     "output_type": "stream",
     "text": [
      "<class 'pandas.core.frame.DataFrame'>\n",
      "Int64Index: 1839832 entries, 142000009537608516 to 160000020905222648\n",
      "Data columns (total 9 columns):\n",
      " #   Column      Non-Null Count    Dtype  \n",
      "---  ------      --------------    -----  \n",
      " 0   jjhklb      1839832 non-null  int64  \n",
      " 1   hydm        1839832 non-null  object \n",
      " 2   zczb        1839832 non-null  float64\n",
      " 3   jyzt        1839832 non-null  float64\n",
      " 4   qylx        1839832 non-null  int64  \n",
      " 5   time_scale  1839832 non-null  object \n",
      " 6   city        1839832 non-null  object \n",
      " 7   three       1839832 non-null  object \n",
      " 8   scale       1839832 non-null  object \n",
      "dtypes: float64(2), int64(2), object(5)\n",
      "memory usage: 140.4+ MB\n"
     ]
    }
   ],
   "source": [
    "new_file.info(null_counts = True)"
   ]
  },
  {
   "cell_type": "code",
   "execution_count": 74,
   "metadata": {
    "ExecuteTime": {
     "end_time": "2022-08-24T04:48:07.960347Z",
     "start_time": "2022-08-24T04:48:07.946384Z"
    }
   },
   "outputs": [
    {
     "data": {
      "text/html": [
       "<div>\n",
       "<style scoped>\n",
       "    .dataframe tbody tr th:only-of-type {\n",
       "        vertical-align: middle;\n",
       "    }\n",
       "\n",
       "    .dataframe tbody tr th {\n",
       "        vertical-align: top;\n",
       "    }\n",
       "\n",
       "    .dataframe thead th {\n",
       "        text-align: right;\n",
       "    }\n",
       "</style>\n",
       "<table border=\"1\" class=\"dataframe\">\n",
       "  <thead>\n",
       "    <tr style=\"text-align: right;\">\n",
       "      <th></th>\n",
       "      <th>jjhklb</th>\n",
       "      <th>hydm</th>\n",
       "      <th>zczb</th>\n",
       "      <th>jyzt</th>\n",
       "      <th>qylx</th>\n",
       "      <th>time_scale</th>\n",
       "      <th>city</th>\n",
       "      <th>three</th>\n",
       "      <th>scale</th>\n",
       "    </tr>\n",
       "    <tr>\n",
       "      <th>nbxh</th>\n",
       "      <th></th>\n",
       "      <th></th>\n",
       "      <th></th>\n",
       "      <th></th>\n",
       "      <th></th>\n",
       "      <th></th>\n",
       "      <th></th>\n",
       "      <th></th>\n",
       "      <th></th>\n",
       "    </tr>\n",
       "  </thead>\n",
       "  <tbody>\n",
       "    <tr>\n",
       "      <th>142000009537608516</th>\n",
       "      <td>3</td>\n",
       "      <td>K</td>\n",
       "      <td>100.0</td>\n",
       "      <td>1.0</td>\n",
       "      <td>1130</td>\n",
       "      <td>3</td>\n",
       "      <td>荆州市</td>\n",
       "      <td>3</td>\n",
       "      <td>1</td>\n",
       "    </tr>\n",
       "    <tr>\n",
       "      <th>142000009537610596</th>\n",
       "      <td>3</td>\n",
       "      <td>L</td>\n",
       "      <td>10.0</td>\n",
       "      <td>1.0</td>\n",
       "      <td>4540</td>\n",
       "      <td>3</td>\n",
       "      <td>黄冈市</td>\n",
       "      <td>3</td>\n",
       "      <td>1</td>\n",
       "    </tr>\n",
       "  </tbody>\n",
       "</table>\n",
       "</div>"
      ],
      "text/plain": [
       "                    jjhklb hydm   zczb  jyzt  qylx time_scale city three scale\n",
       "nbxh                                                                          \n",
       "142000009537608516       3    K  100.0   1.0  1130          3  荆州市     3     1\n",
       "142000009537610596       3    L   10.0   1.0  4540          3  黄冈市     3     1"
      ]
     },
     "execution_count": 74,
     "metadata": {},
     "output_type": "execute_result"
    }
   ],
   "source": [
    "new_file[:2]"
   ]
  },
  {
   "cell_type": "code",
   "execution_count": 75,
   "metadata": {
    "ExecuteTime": {
     "end_time": "2022-08-24T04:48:08.534475Z",
     "start_time": "2022-08-24T04:48:07.961344Z"
    }
   },
   "outputs": [
    {
     "name": "stdout",
     "output_type": "stream",
     "text": [
      "<class 'pandas.core.frame.DataFrame'>\n",
      "Int64Index: 1839832 entries, 142000009537608516 to 160000020905222648\n",
      "Data columns (total 8 columns):\n",
      " #   Column      Non-Null Count    Dtype  \n",
      "---  ------      --------------    -----  \n",
      " 0   jjhklb      1839832 non-null  int64  \n",
      " 1   hydm        1839832 non-null  object \n",
      " 2   jyzt        1839832 non-null  float64\n",
      " 3   qylx        1839832 non-null  int64  \n",
      " 4   time_scale  1839832 non-null  object \n",
      " 5   city        1839832 non-null  object \n",
      " 6   three       1839832 non-null  object \n",
      " 7   scale       1839832 non-null  object \n",
      "dtypes: float64(1), int64(2), object(5)\n",
      "memory usage: 126.3+ MB\n",
      "None\n"
     ]
    },
    {
     "data": {
      "text/html": [
       "<div>\n",
       "<style scoped>\n",
       "    .dataframe tbody tr th:only-of-type {\n",
       "        vertical-align: middle;\n",
       "    }\n",
       "\n",
       "    .dataframe tbody tr th {\n",
       "        vertical-align: top;\n",
       "    }\n",
       "\n",
       "    .dataframe thead th {\n",
       "        text-align: right;\n",
       "    }\n",
       "</style>\n",
       "<table border=\"1\" class=\"dataframe\">\n",
       "  <thead>\n",
       "    <tr style=\"text-align: right;\">\n",
       "      <th></th>\n",
       "      <th>jjhklb</th>\n",
       "      <th>hydm</th>\n",
       "      <th>jyzt</th>\n",
       "      <th>qylx</th>\n",
       "      <th>time_scale</th>\n",
       "      <th>city</th>\n",
       "      <th>three</th>\n",
       "      <th>scale</th>\n",
       "    </tr>\n",
       "    <tr>\n",
       "      <th>nbxh</th>\n",
       "      <th></th>\n",
       "      <th></th>\n",
       "      <th></th>\n",
       "      <th></th>\n",
       "      <th></th>\n",
       "      <th></th>\n",
       "      <th></th>\n",
       "      <th></th>\n",
       "    </tr>\n",
       "  </thead>\n",
       "  <tbody>\n",
       "    <tr>\n",
       "      <th>142000009537608516</th>\n",
       "      <td>3</td>\n",
       "      <td>K</td>\n",
       "      <td>1.0</td>\n",
       "      <td>1130</td>\n",
       "      <td>3</td>\n",
       "      <td>荆州市</td>\n",
       "      <td>3</td>\n",
       "      <td>1</td>\n",
       "    </tr>\n",
       "    <tr>\n",
       "      <th>142000009537610596</th>\n",
       "      <td>3</td>\n",
       "      <td>L</td>\n",
       "      <td>1.0</td>\n",
       "      <td>4540</td>\n",
       "      <td>3</td>\n",
       "      <td>黄冈市</td>\n",
       "      <td>3</td>\n",
       "      <td>1</td>\n",
       "    </tr>\n",
       "  </tbody>\n",
       "</table>\n",
       "</div>"
      ],
      "text/plain": [
       "                    jjhklb hydm  jyzt  qylx time_scale city three scale\n",
       "nbxh                                                                   \n",
       "142000009537608516       3    K   1.0  1130          3  荆州市     3     1\n",
       "142000009537610596       3    L   1.0  4540          3  黄冈市     3     1"
      ]
     },
     "execution_count": 75,
     "metadata": {},
     "output_type": "execute_result"
    }
   ],
   "source": [
    "new_file.drop(['zczb'], axis=1, inplace=True)\n",
    "print(new_file.info(null_counts = True))\n",
    "new_file[:2]"
   ]
  },
  {
   "cell_type": "markdown",
   "metadata": {},
   "source": [
    "# 添加特征"
   ]
  },
  {
   "cell_type": "markdown",
   "metadata": {},
   "source": [
    "## 添加特征X1_2、X3、X4"
   ]
  },
  {
   "cell_type": "markdown",
   "metadata": {},
   "source": [
    "这三个特征赋值为1"
   ]
  },
  {
   "cell_type": "code",
   "execution_count": 76,
   "metadata": {
    "ExecuteTime": {
     "end_time": "2022-08-24T04:48:10.001465Z",
     "start_time": "2022-08-24T04:48:09.978528Z"
    }
   },
   "outputs": [],
   "source": [
    "new_file['X1_2'] = 1\n",
    "new_file['X3'] = 1\n",
    "new_file['X4'] = 1"
   ]
  },
  {
   "cell_type": "code",
   "execution_count": 77,
   "metadata": {
    "ExecuteTime": {
     "end_time": "2022-08-24T04:48:10.859740Z",
     "start_time": "2022-08-24T04:48:10.457185Z"
    }
   },
   "outputs": [
    {
     "name": "stdout",
     "output_type": "stream",
     "text": [
      "<class 'pandas.core.frame.DataFrame'>\n",
      "Int64Index: 1839832 entries, 142000009537608516 to 160000020905222648\n",
      "Data columns (total 11 columns):\n",
      " #   Column      Non-Null Count    Dtype  \n",
      "---  ------      --------------    -----  \n",
      " 0   jjhklb      1839832 non-null  int64  \n",
      " 1   hydm        1839832 non-null  object \n",
      " 2   jyzt        1839832 non-null  float64\n",
      " 3   qylx        1839832 non-null  int64  \n",
      " 4   time_scale  1839832 non-null  object \n",
      " 5   city        1839832 non-null  object \n",
      " 6   three       1839832 non-null  object \n",
      " 7   scale       1839832 non-null  object \n",
      " 8   X1_2        1839832 non-null  int64  \n",
      " 9   X3          1839832 non-null  int64  \n",
      " 10  X4          1839832 non-null  int64  \n",
      "dtypes: float64(1), int64(5), object(5)\n",
      "memory usage: 168.4+ MB\n"
     ]
    }
   ],
   "source": [
    "new_file.info(null_counts = True)"
   ]
  },
  {
   "cell_type": "markdown",
   "metadata": {},
   "source": [
    "## 将固定企业类型的公积金赋值为0"
   ]
  },
  {
   "cell_type": "markdown",
   "metadata": {},
   "source": [
    "让企业类型为1151 4540 2151的公积金那里给0"
   ]
  },
  {
   "cell_type": "code",
   "execution_count": 78,
   "metadata": {
    "ExecuteTime": {
     "end_time": "2022-08-24T04:48:12.171090Z",
     "start_time": "2022-08-24T04:48:12.153108Z"
    }
   },
   "outputs": [
    {
     "data": {
      "text/plain": [
       "1    1839832\n",
       "Name: X4, dtype: int64"
      ]
     },
     "execution_count": 78,
     "metadata": {},
     "output_type": "execute_result"
    }
   ],
   "source": [
    "new_file['X4'].value_counts()"
   ]
  },
  {
   "cell_type": "code",
   "execution_count": 79,
   "metadata": {
    "ExecuteTime": {
     "end_time": "2022-08-24T04:48:13.306435Z",
     "start_time": "2022-08-24T04:48:12.625118Z"
    }
   },
   "outputs": [
    {
     "name": "stderr",
     "output_type": "stream",
     "text": [
      "100%|█████████████████████████████████████████████████████████████████████████████████| 3/3 [00:00<00:00,  6.84it/s]\n"
     ]
    },
    {
     "data": {
      "text/plain": [
       "1    1096545\n",
       "0     743287\n",
       "Name: X4, dtype: int64"
      ]
     },
     "execution_count": 79,
     "metadata": {},
     "output_type": "execute_result"
    }
   ],
   "source": [
    "for i in tqdm([1151, 4540, 2125]):\n",
    "    new_file.loc[new_file[(new_file['qylx'] == i)].index, 'X4'] = 0\n",
    "new_file['X4'].value_counts()"
   ]
  },
  {
   "cell_type": "code",
   "execution_count": 80,
   "metadata": {
    "ExecuteTime": {
     "end_time": "2022-08-24T04:48:14.101982Z",
     "start_time": "2022-08-24T04:48:14.059103Z"
    }
   },
   "outputs": [
    {
     "data": {
      "text/plain": [
       "0.5960027872110062"
      ]
     },
     "execution_count": 80,
     "metadata": {},
     "output_type": "execute_result"
    }
   ],
   "source": [
    "new_file['X4'].value_counts()[1] / (new_file['X4'].value_counts()[1] + new_file['X4'].value_counts()[0])"
   ]
  },
  {
   "cell_type": "code",
   "execution_count": 81,
   "metadata": {
    "ExecuteTime": {
     "end_time": "2022-08-24T04:48:14.678131Z",
     "start_time": "2022-08-24T04:48:14.650218Z"
    }
   },
   "outputs": [
    {
     "data": {
      "text/html": [
       "<div>\n",
       "<style scoped>\n",
       "    .dataframe tbody tr th:only-of-type {\n",
       "        vertical-align: middle;\n",
       "    }\n",
       "\n",
       "    .dataframe tbody tr th {\n",
       "        vertical-align: top;\n",
       "    }\n",
       "\n",
       "    .dataframe thead th {\n",
       "        text-align: right;\n",
       "    }\n",
       "</style>\n",
       "<table border=\"1\" class=\"dataframe\">\n",
       "  <thead>\n",
       "    <tr style=\"text-align: right;\">\n",
       "      <th></th>\n",
       "      <th>jjhklb</th>\n",
       "      <th>hydm</th>\n",
       "      <th>jyzt</th>\n",
       "      <th>qylx</th>\n",
       "      <th>time_scale</th>\n",
       "      <th>city</th>\n",
       "      <th>three</th>\n",
       "      <th>scale</th>\n",
       "      <th>X1_2</th>\n",
       "      <th>X3</th>\n",
       "      <th>X4</th>\n",
       "    </tr>\n",
       "    <tr>\n",
       "      <th>nbxh</th>\n",
       "      <th></th>\n",
       "      <th></th>\n",
       "      <th></th>\n",
       "      <th></th>\n",
       "      <th></th>\n",
       "      <th></th>\n",
       "      <th></th>\n",
       "      <th></th>\n",
       "      <th></th>\n",
       "      <th></th>\n",
       "      <th></th>\n",
       "    </tr>\n",
       "  </thead>\n",
       "  <tbody>\n",
       "    <tr>\n",
       "      <th>142000009537608516</th>\n",
       "      <td>3</td>\n",
       "      <td>K</td>\n",
       "      <td>1.0</td>\n",
       "      <td>1130</td>\n",
       "      <td>3</td>\n",
       "      <td>荆州市</td>\n",
       "      <td>3</td>\n",
       "      <td>1</td>\n",
       "      <td>1</td>\n",
       "      <td>1</td>\n",
       "      <td>1</td>\n",
       "    </tr>\n",
       "    <tr>\n",
       "      <th>142000009537610596</th>\n",
       "      <td>3</td>\n",
       "      <td>L</td>\n",
       "      <td>1.0</td>\n",
       "      <td>4540</td>\n",
       "      <td>3</td>\n",
       "      <td>黄冈市</td>\n",
       "      <td>3</td>\n",
       "      <td>1</td>\n",
       "      <td>1</td>\n",
       "      <td>1</td>\n",
       "      <td>0</td>\n",
       "    </tr>\n",
       "  </tbody>\n",
       "</table>\n",
       "</div>"
      ],
      "text/plain": [
       "                    jjhklb hydm  jyzt  qylx time_scale city three scale  X1_2  \\\n",
       "nbxh                                                                            \n",
       "142000009537608516       3    K   1.0  1130          3  荆州市     3     1     1   \n",
       "142000009537610596       3    L   1.0  4540          3  黄冈市     3     1     1   \n",
       "\n",
       "                    X3  X4  \n",
       "nbxh                        \n",
       "142000009537608516   1   1  \n",
       "142000009537610596   1   0  "
      ]
     },
     "execution_count": 81,
     "metadata": {},
     "output_type": "execute_result"
    }
   ],
   "source": [
    "new_file[:2]"
   ]
  },
  {
   "cell_type": "markdown",
   "metadata": {},
   "source": [
    "## 添加特征X5、X6、X12、X13、X15（来自企业变更表）"
   ]
  },
  {
   "cell_type": "markdown",
   "metadata": {},
   "source": [
    "- X5：企业变更备案次数\n",
    "- X6：企业变更备案类别数 \n",
    "- X12：投资资本类变更类型数 \n",
    "- X13：投资资本类变更次数\n",
    "- X15：分支机构注吊销数量 "
   ]
  },
  {
   "cell_type": "markdown",
   "metadata": {},
   "source": [
    "### 读取企业变更表"
   ]
  },
  {
   "cell_type": "code",
   "execution_count": 83,
   "metadata": {
    "ExecuteTime": {
     "end_time": "2022-08-24T04:48:47.235061Z",
     "start_time": "2022-08-24T04:48:32.386189Z"
    }
   },
   "outputs": [
    {
     "name": "stdout",
     "output_type": "stream",
     "text": [
      "<class 'pandas.core.frame.DataFrame'>\n",
      "RangeIndex: 122001 entries, 0 to 122000\n",
      "Data columns (total 3 columns):\n",
      " #   Column      Non-Null Count   Dtype \n",
      "---  ------      --------------   ----- \n",
      " 0   nbxh(C|50)  122001 non-null  int64 \n",
      " 1   bgsx(C|10)  122001 non-null  int64 \n",
      " 2   cqrq(D)     122001 non-null  object\n",
      "dtypes: int64(2), object(1)\n",
      "memory usage: 2.8+ MB\n",
      "None\n"
     ]
    },
    {
     "data": {
      "text/html": [
       "<div>\n",
       "<style scoped>\n",
       "    .dataframe tbody tr th:only-of-type {\n",
       "        vertical-align: middle;\n",
       "    }\n",
       "\n",
       "    .dataframe tbody tr th {\n",
       "        vertical-align: top;\n",
       "    }\n",
       "\n",
       "    .dataframe thead th {\n",
       "        text-align: right;\n",
       "    }\n",
       "</style>\n",
       "<table border=\"1\" class=\"dataframe\">\n",
       "  <thead>\n",
       "    <tr style=\"text-align: right;\">\n",
       "      <th></th>\n",
       "      <th>nbxh(C|50)</th>\n",
       "      <th>bgsx(C|10)</th>\n",
       "      <th>cqrq(D)</th>\n",
       "    </tr>\n",
       "  </thead>\n",
       "  <tbody>\n",
       "    <tr>\n",
       "      <th>0</th>\n",
       "      <td>160000020556663484</td>\n",
       "      <td>113</td>\n",
       "      <td>2022-08-10</td>\n",
       "    </tr>\n",
       "    <tr>\n",
       "      <th>1</th>\n",
       "      <td>160000021745341564</td>\n",
       "      <td>117</td>\n",
       "      <td>2022-08-23</td>\n",
       "    </tr>\n",
       "  </tbody>\n",
       "</table>\n",
       "</div>"
      ],
      "text/plain": [
       "           nbxh(C|50)  bgsx(C|10)     cqrq(D)\n",
       "0  160000020556663484         113  2022-08-10\n",
       "1  160000021745341564         117  2022-08-23"
      ]
     },
     "execution_count": 83,
     "metadata": {},
     "output_type": "execute_result"
    }
   ],
   "source": [
    "qybg_file = pd.read_excel('./8月份活跃度数据/变更情况表/exportsql.20220824103216.gbk.xls')\n",
    "print(qybg_file.info(null_counts = True))\n",
    "qybg_file[:2]"
   ]
  },
  {
   "cell_type": "markdown",
   "metadata": {},
   "source": [
    "### 提取特征X5"
   ]
  },
  {
   "cell_type": "code",
   "execution_count": 84,
   "metadata": {
    "ExecuteTime": {
     "end_time": "2022-08-24T04:49:05.550758Z",
     "start_time": "2022-08-24T04:49:05.530811Z"
    }
   },
   "outputs": [
    {
     "data": {
      "text/plain": [
       "160000021792674047    20\n",
       "160000020191533970    20\n",
       "160000020737657759    20\n",
       "24250000012530645     19\n",
       "160000020172396834    19\n",
       "                      ..\n",
       "160000021292497609     1\n",
       "142000009093002909     1\n",
       "160000020407730025     1\n",
       "24250000012598316      1\n",
       "160000020657116690     1\n",
       "Name: nbxh(C|50), Length: 36771, dtype: int64"
      ]
     },
     "execution_count": 84,
     "metadata": {},
     "output_type": "execute_result"
    }
   ],
   "source": [
    "nums = qybg_file['nbxh(C|50)'].value_counts()\n",
    "nums"
   ]
  },
  {
   "cell_type": "markdown",
   "metadata": {},
   "source": [
    "#### nums为series,将其变为dataframes"
   ]
  },
  {
   "cell_type": "code",
   "execution_count": 85,
   "metadata": {
    "ExecuteTime": {
     "end_time": "2022-08-24T04:49:07.540721Z",
     "start_time": "2022-08-24T04:49:07.520776Z"
    }
   },
   "outputs": [
    {
     "name": "stdout",
     "output_type": "stream",
     "text": [
      "                 nbxh  X5\n",
      "0  160000021792674047  20\n",
      "1  160000020191533970  20\n",
      "                    X5\n",
      "nbxh                  \n",
      "160000021792674047  20\n",
      "160000020191533970  20\n",
      "<class 'pandas.core.frame.DataFrame'>\n",
      "Int64Index: 36771 entries, 160000021792674047 to 160000020657116690\n",
      "Data columns (total 1 columns):\n",
      " #   Column  Non-Null Count  Dtype\n",
      "---  ------  --------------  -----\n",
      " 0   X5      36771 non-null  int64\n",
      "dtypes: int64(1)\n",
      "memory usage: 574.5 KB\n",
      "None\n"
     ]
    }
   ],
   "source": [
    "dict_nums = {'nbxh':nums.index, 'X5':nums.values}\n",
    "df_nums = pd.DataFrame(dict_nums)\n",
    "print(df_nums[:2])\n",
    "df_nums.set_index('nbxh', inplace=True)\n",
    "print(df_nums[:2])\n",
    "print(df_nums.info(null_counts = True))"
   ]
  },
  {
   "cell_type": "markdown",
   "metadata": {},
   "source": [
    "#### join"
   ]
  },
  {
   "cell_type": "code",
   "execution_count": 86,
   "metadata": {
    "ExecuteTime": {
     "end_time": "2022-08-24T04:49:10.235305Z",
     "start_time": "2022-08-24T04:49:09.313689Z"
    }
   },
   "outputs": [
    {
     "name": "stdout",
     "output_type": "stream",
     "text": [
      "<class 'pandas.core.frame.DataFrame'>\n",
      "Int64Index: 1839832 entries, 142000009537608516 to 160000020905222648\n",
      "Data columns (total 12 columns):\n",
      " #   Column      Non-Null Count    Dtype  \n",
      "---  ------      --------------    -----  \n",
      " 0   jjhklb      1839832 non-null  int64  \n",
      " 1   hydm        1839832 non-null  object \n",
      " 2   jyzt        1839832 non-null  float64\n",
      " 3   qylx        1839832 non-null  int64  \n",
      " 4   time_scale  1839832 non-null  object \n",
      " 5   city        1839832 non-null  object \n",
      " 6   three       1839832 non-null  object \n",
      " 7   scale       1839832 non-null  object \n",
      " 8   X1_2        1839832 non-null  int64  \n",
      " 9   X3          1839832 non-null  int64  \n",
      " 10  X4          1839832 non-null  int64  \n",
      " 11  X5          25468 non-null    float64\n",
      "dtypes: float64(2), int64(5), object(5)\n",
      "memory usage: 247.0+ MB\n"
     ]
    }
   ],
   "source": [
    "new_file = new_file.join(df_nums)\n",
    "new_file.info(null_counts = True)"
   ]
  },
  {
   "cell_type": "code",
   "execution_count": 87,
   "metadata": {
    "ExecuteTime": {
     "end_time": "2022-08-24T04:49:11.400302Z",
     "start_time": "2022-08-24T04:49:10.995958Z"
    }
   },
   "outputs": [
    {
     "name": "stdout",
     "output_type": "stream",
     "text": [
      "<class 'pandas.core.frame.DataFrame'>\n",
      "Int64Index: 1839832 entries, 142000009537608516 to 160000020905222648\n",
      "Data columns (total 12 columns):\n",
      " #   Column      Non-Null Count    Dtype  \n",
      "---  ------      --------------    -----  \n",
      " 0   jjhklb      1839832 non-null  int64  \n",
      " 1   hydm        1839832 non-null  object \n",
      " 2   jyzt        1839832 non-null  float64\n",
      " 3   qylx        1839832 non-null  int64  \n",
      " 4   time_scale  1839832 non-null  object \n",
      " 5   city        1839832 non-null  object \n",
      " 6   three       1839832 non-null  object \n",
      " 7   scale       1839832 non-null  object \n",
      " 8   X1_2        1839832 non-null  int64  \n",
      " 9   X3          1839832 non-null  int64  \n",
      " 10  X4          1839832 non-null  int64  \n",
      " 11  X5          1839832 non-null  float64\n",
      "dtypes: float64(2), int64(5), object(5)\n",
      "memory usage: 247.0+ MB\n"
     ]
    }
   ],
   "source": [
    "# 缺失值填补\n",
    "new_file['X5'].fillna(value=0, inplace=True)\n",
    "new_file.info(null_counts = True)"
   ]
  },
  {
   "cell_type": "markdown",
   "metadata": {},
   "source": [
    "### 提取特征X6"
   ]
  },
  {
   "cell_type": "code",
   "execution_count": 88,
   "metadata": {
    "ExecuteTime": {
     "end_time": "2022-08-24T04:49:12.864928Z",
     "start_time": "2022-08-24T04:49:12.829024Z"
    }
   },
   "outputs": [
    {
     "data": {
      "text/plain": [
       "nbxh(C|50)\n",
       "2420200000002052      1\n",
       "2420200000002300      4\n",
       "2420200000003147      2\n",
       "2420200000004876      2\n",
       "2420200000006743      5\n",
       "                     ..\n",
       "442010000019651844    5\n",
       "442010000019651866    8\n",
       "442010000019652258    1\n",
       "442010000019652467    2\n",
       "442010000019652538    5\n",
       "Length: 36771, dtype: int64"
      ]
     },
     "execution_count": 88,
     "metadata": {},
     "output_type": "execute_result"
    }
   ],
   "source": [
    "qybg_file.drop(['cqrq(D)'], axis=1, inplace=True)\n",
    "qybg_grouped = qybg_file.groupby('nbxh(C|50)')\n",
    "qybg_grouped.size()"
   ]
  },
  {
   "cell_type": "markdown",
   "metadata": {},
   "source": [
    "#### 统计每个nbxh的每个变更事项出现次数"
   ]
  },
  {
   "cell_type": "code",
   "execution_count": 89,
   "metadata": {
    "ExecuteTime": {
     "end_time": "2022-08-24T04:49:14.559248Z",
     "start_time": "2022-08-24T04:49:14.320559Z"
    }
   },
   "outputs": [
    {
     "name": "stdout",
     "output_type": "stream",
     "text": [
      "119755\n"
     ]
    },
    {
     "data": {
      "text/plain": [
       "[[2420200000002052, 129],\n",
       " [2420200000002300, 112],\n",
       " [2420200000002300, 113],\n",
       " [2420200000002300, 115],\n",
       " [2420200000002300, 939]]"
      ]
     },
     "execution_count": 89,
     "metadata": {},
     "output_type": "execute_result"
    }
   ],
   "source": [
    "cate = qybg_grouped['bgsx(C|10)'].value_counts()\n",
    "list_cate = list(cate.index)\n",
    "print(len(list_cate))\n",
    "res_cate = [list(ele) for ele in list_cate]\n",
    "res_cate[:5]"
   ]
  },
  {
   "cell_type": "code",
   "execution_count": 90,
   "metadata": {
    "ExecuteTime": {
     "end_time": "2022-08-24T04:49:15.459465Z",
     "start_time": "2022-08-24T04:49:15.398937Z"
    }
   },
   "outputs": [
    {
     "name": "stdout",
     "output_type": "stream",
     "text": [
      "[2420200000002052, 2420200000002300, 2420200000002300, 2420200000002300, 2420200000002300]\n"
     ]
    },
    {
     "data": {
      "text/html": [
       "<div>\n",
       "<style scoped>\n",
       "    .dataframe tbody tr th:only-of-type {\n",
       "        vertical-align: middle;\n",
       "    }\n",
       "\n",
       "    .dataframe tbody tr th {\n",
       "        vertical-align: top;\n",
       "    }\n",
       "\n",
       "    .dataframe thead th {\n",
       "        text-align: right;\n",
       "    }\n",
       "</style>\n",
       "<table border=\"1\" class=\"dataframe\">\n",
       "  <thead>\n",
       "    <tr style=\"text-align: right;\">\n",
       "      <th></th>\n",
       "      <th>0</th>\n",
       "    </tr>\n",
       "  </thead>\n",
       "  <tbody>\n",
       "    <tr>\n",
       "      <th>0</th>\n",
       "      <td>2420200000002052</td>\n",
       "    </tr>\n",
       "    <tr>\n",
       "      <th>1</th>\n",
       "      <td>2420200000002300</td>\n",
       "    </tr>\n",
       "    <tr>\n",
       "      <th>2</th>\n",
       "      <td>2420200000002300</td>\n",
       "    </tr>\n",
       "    <tr>\n",
       "      <th>3</th>\n",
       "      <td>2420200000002300</td>\n",
       "    </tr>\n",
       "    <tr>\n",
       "      <th>4</th>\n",
       "      <td>2420200000002300</td>\n",
       "    </tr>\n",
       "  </tbody>\n",
       "</table>\n",
       "</div>"
      ],
      "text/plain": [
       "                  0\n",
       "0  2420200000002052\n",
       "1  2420200000002300\n",
       "2  2420200000002300\n",
       "3  2420200000002300\n",
       "4  2420200000002300"
      ]
     },
     "execution_count": 90,
     "metadata": {},
     "output_type": "execute_result"
    }
   ],
   "source": [
    "indexs = [i[0] for i in res_cate] \n",
    "print(indexs[:5])\n",
    "df_indexs = pd.DataFrame(indexs)\n",
    "df_indexs[:5]"
   ]
  },
  {
   "cell_type": "code",
   "execution_count": 91,
   "metadata": {
    "ExecuteTime": {
     "end_time": "2022-08-24T04:49:16.347451Z",
     "start_time": "2022-08-24T04:49:16.325511Z"
    }
   },
   "outputs": [],
   "source": [
    "nums = df_indexs[0].value_counts()"
   ]
  },
  {
   "cell_type": "markdown",
   "metadata": {},
   "source": [
    "####  nums为series,将其变为dataframes"
   ]
  },
  {
   "cell_type": "code",
   "execution_count": 92,
   "metadata": {
    "ExecuteTime": {
     "end_time": "2022-08-24T04:49:17.576872Z",
     "start_time": "2022-08-24T04:49:17.552954Z"
    }
   },
   "outputs": [
    {
     "name": "stdout",
     "output_type": "stream",
     "text": [
      "                 nbxh  X6\n",
      "0  160000021792674047  19\n",
      "1  160000020941217326  16\n",
      "                    X6\n",
      "nbxh                  \n",
      "160000021792674047  19\n",
      "160000020941217326  16\n",
      "<class 'pandas.core.frame.DataFrame'>\n",
      "Int64Index: 36771 entries, 160000021792674047 to 160000020678407348\n",
      "Data columns (total 1 columns):\n",
      " #   Column  Non-Null Count  Dtype\n",
      "---  ------  --------------  -----\n",
      " 0   X6      36771 non-null  int64\n",
      "dtypes: int64(1)\n",
      "memory usage: 574.5 KB\n"
     ]
    }
   ],
   "source": [
    "dict_nums = {'nbxh':nums.index, 'X6':nums.values}\n",
    "df_nums = pd.DataFrame(dict_nums)\n",
    "print(df_nums[:2])\n",
    "df_nums.set_index('nbxh', inplace=True)\n",
    "print(df_nums[:2])\n",
    "df_nums.info(null_counts = True)"
   ]
  },
  {
   "cell_type": "markdown",
   "metadata": {},
   "source": [
    "#### join"
   ]
  },
  {
   "cell_type": "code",
   "execution_count": 93,
   "metadata": {
    "ExecuteTime": {
     "end_time": "2022-08-24T04:49:19.644965Z",
     "start_time": "2022-08-24T04:49:19.115730Z"
    }
   },
   "outputs": [
    {
     "name": "stdout",
     "output_type": "stream",
     "text": [
      "<class 'pandas.core.frame.DataFrame'>\n",
      "Int64Index: 1839832 entries, 142000009537608516 to 160000020905222648\n",
      "Data columns (total 13 columns):\n",
      " #   Column      Non-Null Count    Dtype  \n",
      "---  ------      --------------    -----  \n",
      " 0   jjhklb      1839832 non-null  int64  \n",
      " 1   hydm        1839832 non-null  object \n",
      " 2   jyzt        1839832 non-null  float64\n",
      " 3   qylx        1839832 non-null  int64  \n",
      " 4   time_scale  1839832 non-null  object \n",
      " 5   city        1839832 non-null  object \n",
      " 6   three       1839832 non-null  object \n",
      " 7   scale       1839832 non-null  object \n",
      " 8   X1_2        1839832 non-null  int64  \n",
      " 9   X3          1839832 non-null  int64  \n",
      " 10  X4          1839832 non-null  int64  \n",
      " 11  X5          1839832 non-null  float64\n",
      " 12  X6          25468 non-null    float64\n",
      "dtypes: float64(3), int64(5), object(5)\n",
      "memory usage: 261.0+ MB\n"
     ]
    }
   ],
   "source": [
    "new_file = new_file.join(df_nums)\n",
    "new_file.info(null_counts = True)"
   ]
  },
  {
   "cell_type": "code",
   "execution_count": 94,
   "metadata": {
    "ExecuteTime": {
     "end_time": "2022-08-24T04:49:20.749004Z",
     "start_time": "2022-08-24T04:49:20.349956Z"
    }
   },
   "outputs": [
    {
     "name": "stdout",
     "output_type": "stream",
     "text": [
      "<class 'pandas.core.frame.DataFrame'>\n",
      "Int64Index: 1839832 entries, 142000009537608516 to 160000020905222648\n",
      "Data columns (total 13 columns):\n",
      " #   Column      Non-Null Count    Dtype  \n",
      "---  ------      --------------    -----  \n",
      " 0   jjhklb      1839832 non-null  int64  \n",
      " 1   hydm        1839832 non-null  object \n",
      " 2   jyzt        1839832 non-null  float64\n",
      " 3   qylx        1839832 non-null  int64  \n",
      " 4   time_scale  1839832 non-null  object \n",
      " 5   city        1839832 non-null  object \n",
      " 6   three       1839832 non-null  object \n",
      " 7   scale       1839832 non-null  object \n",
      " 8   X1_2        1839832 non-null  int64  \n",
      " 9   X3          1839832 non-null  int64  \n",
      " 10  X4          1839832 non-null  int64  \n",
      " 11  X5          1839832 non-null  float64\n",
      " 12  X6          1839832 non-null  float64\n",
      "dtypes: float64(3), int64(5), object(5)\n",
      "memory usage: 261.0+ MB\n"
     ]
    }
   ],
   "source": [
    "# 缺失值填补\n",
    "new_file['X6'].fillna(value=0, inplace=True)\n",
    "new_file.info(null_counts = True)"
   ]
  },
  {
   "cell_type": "markdown",
   "metadata": {},
   "source": [
    "### X12、X13（保留变更事项与投资资本相关列）"
   ]
  },
  {
   "cell_type": "markdown",
   "metadata": {},
   "source": [
    "  也就是保存bgsx(C|10) ==120, 170, 700, 134, 118, 155, 117, 127, 136, 154, 914, 131, 923的列"
   ]
  },
  {
   "cell_type": "code",
   "execution_count": 95,
   "metadata": {
    "ExecuteTime": {
     "end_time": "2022-08-24T04:49:23.141360Z",
     "start_time": "2022-08-24T04:49:23.105437Z"
    }
   },
   "outputs": [
    {
     "name": "stdout",
     "output_type": "stream",
     "text": [
      "            nbxh(C|50)  bgsx(C|10)\n",
      "9   420000000008987832         120\n",
      "24   24250000012604152         120\n",
      "31  160000021501414716         120\n",
      "36  160000021267689156         120\n",
      "76  142000007010804325         120\n",
      "<class 'pandas.core.frame.DataFrame'>\n",
      "Int64Index: 12549 entries, 9 to 119897\n",
      "Data columns (total 2 columns):\n",
      " #   Column      Non-Null Count  Dtype\n",
      "---  ------      --------------  -----\n",
      " 0   nbxh(C|50)  12549 non-null  int64\n",
      " 1   bgsx(C|10)  12549 non-null  int64\n",
      "dtypes: int64(2)\n",
      "memory usage: 294.1 KB\n"
     ]
    }
   ],
   "source": [
    "bgsx_M = [120, 170, 700, 134, 118, 155, 117, 127, 136, 154, 914, 131, 923]\n",
    "for i in bgsx_M:\n",
    "    if i == 120:\n",
    "        qybg_file_M = qybg_file[qybg_file['bgsx(C|10)'] == i]\n",
    "    else:\n",
    "        qybg_file_M = pd.concat([qybg_file_M, qybg_file[qybg_file['bgsx(C|10)'] == i]])\n",
    "        \n",
    "print(qybg_file_M[:5])\n",
    "qybg_file_M.info(null_counts = True)"
   ]
  },
  {
   "cell_type": "markdown",
   "metadata": {},
   "source": [
    "### 提取特征X12"
   ]
  },
  {
   "cell_type": "code",
   "execution_count": 96,
   "metadata": {
    "ExecuteTime": {
     "end_time": "2022-08-24T04:49:25.866687Z",
     "start_time": "2022-08-24T04:49:25.856728Z"
    }
   },
   "outputs": [
    {
     "data": {
      "text/plain": [
       "nbxh(C|50)\n",
       "2420200000051497      1\n",
       "2420200000123850      1\n",
       "2421000000121260      1\n",
       "2421000000128439      1\n",
       "2421000000158646      1\n",
       "                     ..\n",
       "442010000019007309    3\n",
       "442010000019007439    1\n",
       "442010000019007528    1\n",
       "442010000019329953    1\n",
       "442010000019651844    1\n",
       "Length: 9132, dtype: int64"
      ]
     },
     "execution_count": 96,
     "metadata": {},
     "output_type": "execute_result"
    }
   ],
   "source": [
    "qybg_grouped = qybg_file_M.groupby('nbxh(C|50)')\n",
    "qybg_grouped.size()"
   ]
  },
  {
   "cell_type": "markdown",
   "metadata": {},
   "source": [
    "#### 统计每个nbxh的每个变更事项出现次数"
   ]
  },
  {
   "cell_type": "code",
   "execution_count": 97,
   "metadata": {
    "ExecuteTime": {
     "end_time": "2022-08-24T04:49:29.474293Z",
     "start_time": "2022-08-24T04:49:29.437392Z"
    }
   },
   "outputs": [
    {
     "name": "stdout",
     "output_type": "stream",
     "text": [
      "12233\n"
     ]
    },
    {
     "data": {
      "text/plain": [
       "[[2420200000051497, 131],\n",
       " [2420200000123850, 131],\n",
       " [2421000000121260, 131],\n",
       " [2421000000128439, 131],\n",
       " [2421000000158646, 131]]"
      ]
     },
     "execution_count": 97,
     "metadata": {},
     "output_type": "execute_result"
    }
   ],
   "source": [
    "cate = qybg_grouped['bgsx(C|10)'].value_counts()\n",
    "# 层次化索引cate.index变列表\n",
    "list_cate = list(cate.index)\n",
    "print(len(list_cate))\n",
    "res_cate = [list(ele) for ele in list_cate]\n",
    "res_cate[:5]"
   ]
  },
  {
   "cell_type": "markdown",
   "metadata": {},
   "source": [
    "现在获取nbxh的重复次数，就是该nbxh变更事项的类别数"
   ]
  },
  {
   "cell_type": "code",
   "execution_count": 98,
   "metadata": {
    "ExecuteTime": {
     "end_time": "2022-08-24T04:49:31.643915Z",
     "start_time": "2022-08-24T04:49:31.627957Z"
    }
   },
   "outputs": [
    {
     "name": "stdout",
     "output_type": "stream",
     "text": [
      "[2420200000051497, 2420200000123850, 2421000000121260, 2421000000128439, 2421000000158646]\n"
     ]
    },
    {
     "data": {
      "text/html": [
       "<div>\n",
       "<style scoped>\n",
       "    .dataframe tbody tr th:only-of-type {\n",
       "        vertical-align: middle;\n",
       "    }\n",
       "\n",
       "    .dataframe tbody tr th {\n",
       "        vertical-align: top;\n",
       "    }\n",
       "\n",
       "    .dataframe thead th {\n",
       "        text-align: right;\n",
       "    }\n",
       "</style>\n",
       "<table border=\"1\" class=\"dataframe\">\n",
       "  <thead>\n",
       "    <tr style=\"text-align: right;\">\n",
       "      <th></th>\n",
       "      <th>0</th>\n",
       "    </tr>\n",
       "  </thead>\n",
       "  <tbody>\n",
       "    <tr>\n",
       "      <th>0</th>\n",
       "      <td>2420200000051497</td>\n",
       "    </tr>\n",
       "    <tr>\n",
       "      <th>1</th>\n",
       "      <td>2420200000123850</td>\n",
       "    </tr>\n",
       "    <tr>\n",
       "      <th>2</th>\n",
       "      <td>2421000000121260</td>\n",
       "    </tr>\n",
       "    <tr>\n",
       "      <th>3</th>\n",
       "      <td>2421000000128439</td>\n",
       "    </tr>\n",
       "    <tr>\n",
       "      <th>4</th>\n",
       "      <td>2421000000158646</td>\n",
       "    </tr>\n",
       "  </tbody>\n",
       "</table>\n",
       "</div>"
      ],
      "text/plain": [
       "                  0\n",
       "0  2420200000051497\n",
       "1  2420200000123850\n",
       "2  2421000000121260\n",
       "3  2421000000128439\n",
       "4  2421000000158646"
      ]
     },
     "execution_count": 98,
     "metadata": {},
     "output_type": "execute_result"
    }
   ],
   "source": [
    "indexs = [i[0] for i in res_cate] \n",
    "print(indexs[:5])\n",
    "df_indexs = pd.DataFrame(indexs)\n",
    "df_indexs[:5]"
   ]
  },
  {
   "cell_type": "code",
   "execution_count": 99,
   "metadata": {
    "ExecuteTime": {
     "end_time": "2022-08-24T04:49:32.485747Z",
     "start_time": "2022-08-24T04:49:32.463806Z"
    }
   },
   "outputs": [
    {
     "data": {
      "text/plain": [
       "420000000009232019    4\n",
       "160000021389184035    4\n",
       "160000021049028344    4\n",
       "420000000008749607    4\n",
       "160000020240835282    4\n",
       "Name: 0, dtype: int64"
      ]
     },
     "execution_count": 99,
     "metadata": {},
     "output_type": "execute_result"
    }
   ],
   "source": [
    "nums = df_indexs[0].value_counts()\n",
    "nums[:5]"
   ]
  },
  {
   "cell_type": "markdown",
   "metadata": {},
   "source": [
    "#### nums为series,将其变为dataframes"
   ]
  },
  {
   "cell_type": "code",
   "execution_count": 100,
   "metadata": {
    "ExecuteTime": {
     "end_time": "2022-08-24T04:49:34.604921Z",
     "start_time": "2022-08-24T04:49:34.592927Z"
    }
   },
   "outputs": [
    {
     "name": "stdout",
     "output_type": "stream",
     "text": [
      "                    X12\n",
      "nbxh                   \n",
      "420000000009232019    4\n",
      "160000021389184035    4\n",
      "<class 'pandas.core.frame.DataFrame'>\n",
      "Int64Index: 9132 entries, 420000000009232019 to 442010000019651844\n",
      "Data columns (total 1 columns):\n",
      " #   Column  Non-Null Count  Dtype\n",
      "---  ------  --------------  -----\n",
      " 0   X12     9132 non-null   int64\n",
      "dtypes: int64(1)\n",
      "memory usage: 142.7 KB\n"
     ]
    }
   ],
   "source": [
    "dict_nums = {'nbxh':nums.index, 'X12':nums.values}\n",
    "df_nums = pd.DataFrame(dict_nums)\n",
    "df_nums.set_index('nbxh', inplace=True)\n",
    "print(df_nums[:2])\n",
    "df_nums.info(null_counts = True)"
   ]
  },
  {
   "cell_type": "markdown",
   "metadata": {},
   "source": [
    "####  join"
   ]
  },
  {
   "cell_type": "code",
   "execution_count": 101,
   "metadata": {
    "ExecuteTime": {
     "end_time": "2022-08-24T04:49:36.608866Z",
     "start_time": "2022-08-24T04:49:36.063672Z"
    }
   },
   "outputs": [
    {
     "name": "stdout",
     "output_type": "stream",
     "text": [
      "<class 'pandas.core.frame.DataFrame'>\n",
      "Int64Index: 1839832 entries, 142000009537608516 to 160000020905222648\n",
      "Data columns (total 14 columns):\n",
      " #   Column      Non-Null Count    Dtype  \n",
      "---  ------      --------------    -----  \n",
      " 0   jjhklb      1839832 non-null  int64  \n",
      " 1   hydm        1839832 non-null  object \n",
      " 2   jyzt        1839832 non-null  float64\n",
      " 3   qylx        1839832 non-null  int64  \n",
      " 4   time_scale  1839832 non-null  object \n",
      " 5   city        1839832 non-null  object \n",
      " 6   three       1839832 non-null  object \n",
      " 7   scale       1839832 non-null  object \n",
      " 8   X1_2        1839832 non-null  int64  \n",
      " 9   X3          1839832 non-null  int64  \n",
      " 10  X4          1839832 non-null  int64  \n",
      " 11  X5          1839832 non-null  float64\n",
      " 12  X6          1839832 non-null  float64\n",
      " 13  X12         8655 non-null     float64\n",
      "dtypes: float64(4), int64(5), object(5)\n",
      "memory usage: 275.1+ MB\n"
     ]
    }
   ],
   "source": [
    "new_file = new_file.join(df_nums)\n",
    "new_file.info(null_counts = True)"
   ]
  },
  {
   "cell_type": "code",
   "execution_count": 102,
   "metadata": {
    "ExecuteTime": {
     "end_time": "2022-08-24T04:49:37.197084Z",
     "start_time": "2022-08-24T04:49:36.782171Z"
    }
   },
   "outputs": [
    {
     "name": "stdout",
     "output_type": "stream",
     "text": [
      "<class 'pandas.core.frame.DataFrame'>\n",
      "Int64Index: 1839832 entries, 142000009537608516 to 160000020905222648\n",
      "Data columns (total 14 columns):\n",
      " #   Column      Non-Null Count    Dtype  \n",
      "---  ------      --------------    -----  \n",
      " 0   jjhklb      1839832 non-null  int64  \n",
      " 1   hydm        1839832 non-null  object \n",
      " 2   jyzt        1839832 non-null  float64\n",
      " 3   qylx        1839832 non-null  int64  \n",
      " 4   time_scale  1839832 non-null  object \n",
      " 5   city        1839832 non-null  object \n",
      " 6   three       1839832 non-null  object \n",
      " 7   scale       1839832 non-null  object \n",
      " 8   X1_2        1839832 non-null  int64  \n",
      " 9   X3          1839832 non-null  int64  \n",
      " 10  X4          1839832 non-null  int64  \n",
      " 11  X5          1839832 non-null  float64\n",
      " 12  X6          1839832 non-null  float64\n",
      " 13  X12         1839832 non-null  float64\n",
      "dtypes: float64(4), int64(5), object(5)\n",
      "memory usage: 275.1+ MB\n"
     ]
    }
   ],
   "source": [
    "# 缺失值填补\n",
    "new_file['X12'].fillna(value=0, inplace=True)\n",
    "new_file.info(null_counts = True)"
   ]
  },
  {
   "cell_type": "markdown",
   "metadata": {},
   "source": [
    "### 提取特征X13"
   ]
  },
  {
   "cell_type": "code",
   "execution_count": 103,
   "metadata": {
    "ExecuteTime": {
     "end_time": "2022-08-24T04:49:40.391940Z",
     "start_time": "2022-08-24T04:49:40.381937Z"
    }
   },
   "outputs": [
    {
     "data": {
      "text/plain": [
       "160000020240835282    8\n",
       "160000020759797408    5\n",
       "420000000008793188    5\n",
       "420000000009142940    5\n",
       "442010000000600478    5\n",
       "Name: nbxh(C|50), dtype: int64"
      ]
     },
     "execution_count": 103,
     "metadata": {},
     "output_type": "execute_result"
    }
   ],
   "source": [
    "nums = qybg_file_M['nbxh(C|50)'].value_counts()\n",
    "nums[:5]"
   ]
  },
  {
   "cell_type": "markdown",
   "metadata": {},
   "source": [
    "#### nums为series,将其变为dataframes"
   ]
  },
  {
   "cell_type": "code",
   "execution_count": 104,
   "metadata": {
    "ExecuteTime": {
     "end_time": "2022-08-24T04:49:42.087522Z",
     "start_time": "2022-08-24T04:49:42.058594Z"
    }
   },
   "outputs": [
    {
     "name": "stdout",
     "output_type": "stream",
     "text": [
      "                 nbxh  X13\n",
      "0  160000020240835282    8\n",
      "1  160000020759797408    5\n",
      "                    X13\n",
      "nbxh                   \n",
      "160000020240835282    8\n",
      "160000020759797408    5\n",
      "<class 'pandas.core.frame.DataFrame'>\n",
      "Int64Index: 9132 entries, 160000020240835282 to 24250000012850187\n",
      "Data columns (total 1 columns):\n",
      " #   Column  Non-Null Count  Dtype\n",
      "---  ------  --------------  -----\n",
      " 0   X13     9132 non-null   int64\n",
      "dtypes: int64(1)\n",
      "memory usage: 142.7 KB\n",
      "None\n"
     ]
    }
   ],
   "source": [
    "dict_nums = {'nbxh':nums.index, 'X13':nums.values}\n",
    "df_nums = pd.DataFrame(dict_nums)\n",
    "print(df_nums[:2])\n",
    "df_nums.set_index('nbxh', inplace=True)\n",
    "print(df_nums[:2])\n",
    "print(df_nums.info(null_counts = True))"
   ]
  },
  {
   "cell_type": "markdown",
   "metadata": {},
   "source": [
    "#### join"
   ]
  },
  {
   "cell_type": "code",
   "execution_count": 105,
   "metadata": {
    "ExecuteTime": {
     "end_time": "2022-08-24T04:49:43.859092Z",
     "start_time": "2022-08-24T04:49:43.321951Z"
    }
   },
   "outputs": [
    {
     "name": "stdout",
     "output_type": "stream",
     "text": [
      "<class 'pandas.core.frame.DataFrame'>\n",
      "Int64Index: 1839832 entries, 142000009537608516 to 160000020905222648\n",
      "Data columns (total 15 columns):\n",
      " #   Column      Non-Null Count    Dtype  \n",
      "---  ------      --------------    -----  \n",
      " 0   jjhklb      1839832 non-null  int64  \n",
      " 1   hydm        1839832 non-null  object \n",
      " 2   jyzt        1839832 non-null  float64\n",
      " 3   qylx        1839832 non-null  int64  \n",
      " 4   time_scale  1839832 non-null  object \n",
      " 5   city        1839832 non-null  object \n",
      " 6   three       1839832 non-null  object \n",
      " 7   scale       1839832 non-null  object \n",
      " 8   X1_2        1839832 non-null  int64  \n",
      " 9   X3          1839832 non-null  int64  \n",
      " 10  X4          1839832 non-null  int64  \n",
      " 11  X5          1839832 non-null  float64\n",
      " 12  X6          1839832 non-null  float64\n",
      " 13  X12         1839832 non-null  float64\n",
      " 14  X13         8655 non-null     float64\n",
      "dtypes: float64(5), int64(5), object(5)\n",
      "memory usage: 289.1+ MB\n"
     ]
    }
   ],
   "source": [
    "new_file = new_file.join(df_nums)\n",
    "new_file.info(null_counts = True)"
   ]
  },
  {
   "cell_type": "code",
   "execution_count": 106,
   "metadata": {
    "ExecuteTime": {
     "end_time": "2022-08-24T04:49:44.757575Z",
     "start_time": "2022-08-24T04:49:44.348918Z"
    }
   },
   "outputs": [
    {
     "name": "stdout",
     "output_type": "stream",
     "text": [
      "<class 'pandas.core.frame.DataFrame'>\n",
      "Int64Index: 1839832 entries, 142000009537608516 to 160000020905222648\n",
      "Data columns (total 15 columns):\n",
      " #   Column      Non-Null Count    Dtype  \n",
      "---  ------      --------------    -----  \n",
      " 0   jjhklb      1839832 non-null  int64  \n",
      " 1   hydm        1839832 non-null  object \n",
      " 2   jyzt        1839832 non-null  float64\n",
      " 3   qylx        1839832 non-null  int64  \n",
      " 4   time_scale  1839832 non-null  object \n",
      " 5   city        1839832 non-null  object \n",
      " 6   three       1839832 non-null  object \n",
      " 7   scale       1839832 non-null  object \n",
      " 8   X1_2        1839832 non-null  int64  \n",
      " 9   X3          1839832 non-null  int64  \n",
      " 10  X4          1839832 non-null  int64  \n",
      " 11  X5          1839832 non-null  float64\n",
      " 12  X6          1839832 non-null  float64\n",
      " 13  X12         1839832 non-null  float64\n",
      " 14  X13         1839832 non-null  float64\n",
      "dtypes: float64(5), int64(5), object(5)\n",
      "memory usage: 289.1+ MB\n"
     ]
    }
   ],
   "source": [
    "# 缺失值填补\n",
    "new_file['X13'].fillna(value=0, inplace=True)\n",
    "new_file.info(null_counts = True)"
   ]
  },
  {
   "cell_type": "markdown",
   "metadata": {},
   "source": [
    "### 提取特征X15（本月没有）"
   ]
  },
  {
   "cell_type": "markdown",
   "metadata": {},
   "source": [
    "`企业变更表`中`bgsx(C|10)`变更事项`165`为撤销分支机构，可提取`X15`"
   ]
  },
  {
   "cell_type": "code",
   "execution_count": 107,
   "metadata": {
    "ExecuteTime": {
     "end_time": "2022-08-24T04:49:46.800870Z",
     "start_time": "2022-08-24T04:49:46.783916Z"
    }
   },
   "outputs": [
    {
     "data": {
      "text/html": [
       "<div>\n",
       "<style scoped>\n",
       "    .dataframe tbody tr th:only-of-type {\n",
       "        vertical-align: middle;\n",
       "    }\n",
       "\n",
       "    .dataframe tbody tr th {\n",
       "        vertical-align: top;\n",
       "    }\n",
       "\n",
       "    .dataframe thead th {\n",
       "        text-align: right;\n",
       "    }\n",
       "</style>\n",
       "<table border=\"1\" class=\"dataframe\">\n",
       "  <thead>\n",
       "    <tr style=\"text-align: right;\">\n",
       "      <th></th>\n",
       "      <th>nbxh(C|50)</th>\n",
       "      <th>bgsx(C|10)</th>\n",
       "    </tr>\n",
       "  </thead>\n",
       "  <tbody>\n",
       "  </tbody>\n",
       "</table>\n",
       "</div>"
      ],
      "text/plain": [
       "Empty DataFrame\n",
       "Columns: [nbxh(C|50), bgsx(C|10)]\n",
       "Index: []"
      ]
     },
     "execution_count": 107,
     "metadata": {},
     "output_type": "execute_result"
    }
   ],
   "source": [
    "qybg_file[qybg_file['bgsx(C|10)'] == 165]"
   ]
  },
  {
   "cell_type": "markdown",
   "metadata": {},
   "source": [
    "#### 将X15列赋值为0"
   ]
  },
  {
   "cell_type": "code",
   "execution_count": 108,
   "metadata": {
    "ExecuteTime": {
     "end_time": "2022-08-24T04:49:48.677303Z",
     "start_time": "2022-08-24T04:49:48.251577Z"
    }
   },
   "outputs": [
    {
     "name": "stdout",
     "output_type": "stream",
     "text": [
      "<class 'pandas.core.frame.DataFrame'>\n",
      "Int64Index: 1839832 entries, 142000009537608516 to 160000020905222648\n",
      "Data columns (total 16 columns):\n",
      " #   Column      Non-Null Count    Dtype  \n",
      "---  ------      --------------    -----  \n",
      " 0   jjhklb      1839832 non-null  int64  \n",
      " 1   hydm        1839832 non-null  object \n",
      " 2   jyzt        1839832 non-null  float64\n",
      " 3   qylx        1839832 non-null  int64  \n",
      " 4   time_scale  1839832 non-null  object \n",
      " 5   city        1839832 non-null  object \n",
      " 6   three       1839832 non-null  object \n",
      " 7   scale       1839832 non-null  object \n",
      " 8   X1_2        1839832 non-null  int64  \n",
      " 9   X3          1839832 non-null  int64  \n",
      " 10  X4          1839832 non-null  int64  \n",
      " 11  X5          1839832 non-null  float64\n",
      " 12  X6          1839832 non-null  float64\n",
      " 13  X12         1839832 non-null  float64\n",
      " 14  X13         1839832 non-null  float64\n",
      " 15  X15         1839832 non-null  int64  \n",
      "dtypes: float64(5), int64(6), object(5)\n",
      "memory usage: 303.1+ MB\n"
     ]
    }
   ],
   "source": [
    "new_file['X15'] = 0\n",
    "new_file.info(null_counts = True)"
   ]
  },
  {
   "cell_type": "markdown",
   "metadata": {},
   "source": [
    "## 添加特征X7(分支机构开设数量，来自分支机构表)"
   ]
  },
  {
   "cell_type": "markdown",
   "metadata": {},
   "source": [
    "### 读取文件"
   ]
  },
  {
   "cell_type": "code",
   "execution_count": 109,
   "metadata": {
    "ExecuteTime": {
     "end_time": "2022-08-24T04:50:07.032394Z",
     "start_time": "2022-08-24T04:50:05.219793Z"
    }
   },
   "outputs": [
    {
     "name": "stdout",
     "output_type": "stream",
     "text": [
      "<class 'pandas.core.frame.DataFrame'>\n",
      "RangeIndex: 5142 entries, 0 to 5141\n",
      "Data columns (total 11 columns):\n",
      " #   Column           Non-Null Count  Dtype  \n",
      "---  ------           --------------  -----  \n",
      " 0   nbxh(C|50)       5142 non-null   int64  \n",
      " 1   qymc(C|300)      5142 non-null   object \n",
      " 2   uniscid(C|50)    5142 non-null   object \n",
      " 3   zch(C|50)        5141 non-null   float64\n",
      " 4   fzrxm(C|500)     5142 non-null   object \n",
      " 5   ENTNAME(C|301)   5132 non-null   object \n",
      " 6   LEREP(C|151)     2667 non-null   object \n",
      " 7   REGCAP(N|18|6)   2513 non-null   float64\n",
      " 8   ACCONAM(N|18|6)  0 non-null      float64\n",
      " 9   OPLOC(C|451)     2459 non-null   object \n",
      " 10  OPSCOPE(C|3001)  2493 non-null   object \n",
      "dtypes: float64(3), int64(1), object(7)\n",
      "memory usage: 442.0+ KB\n",
      "None\n"
     ]
    },
    {
     "data": {
      "text/html": [
       "<div>\n",
       "<style scoped>\n",
       "    .dataframe tbody tr th:only-of-type {\n",
       "        vertical-align: middle;\n",
       "    }\n",
       "\n",
       "    .dataframe tbody tr th {\n",
       "        vertical-align: top;\n",
       "    }\n",
       "\n",
       "    .dataframe thead th {\n",
       "        text-align: right;\n",
       "    }\n",
       "</style>\n",
       "<table border=\"1\" class=\"dataframe\">\n",
       "  <thead>\n",
       "    <tr style=\"text-align: right;\">\n",
       "      <th></th>\n",
       "      <th>nbxh(C|50)</th>\n",
       "      <th>qymc(C|300)</th>\n",
       "      <th>uniscid(C|50)</th>\n",
       "      <th>zch(C|50)</th>\n",
       "      <th>fzrxm(C|500)</th>\n",
       "      <th>ENTNAME(C|301)</th>\n",
       "      <th>LEREP(C|151)</th>\n",
       "      <th>REGCAP(N|18|6)</th>\n",
       "      <th>ACCONAM(N|18|6)</th>\n",
       "      <th>OPLOC(C|451)</th>\n",
       "      <th>OPSCOPE(C|3001)</th>\n",
       "    </tr>\n",
       "  </thead>\n",
       "  <tbody>\n",
       "    <tr>\n",
       "      <th>0</th>\n",
       "      <td>160000020265279095</td>\n",
       "      <td>江苏小邮快跑跨境电商服务有限公司襄阳分公司</td>\n",
       "      <td>91420600MA49EMK57K</td>\n",
       "      <td>4.206000e+14</td>\n",
       "      <td>吴小康</td>\n",
       "      <td>江苏小邮快跑跨境电商服务有限公司</td>\n",
       "      <td>罗时波</td>\n",
       "      <td>1000.0</td>\n",
       "      <td>NaN</td>\n",
       "      <td>昆山市花桥镇绿地大道258号1-1-833室</td>\n",
       "      <td>NaN</td>\n",
       "    </tr>\n",
       "    <tr>\n",
       "      <th>1</th>\n",
       "      <td>160000020265964482</td>\n",
       "      <td>湖北宜都清江肉联有限公司旗舰店</td>\n",
       "      <td>91420581MA49EMYJ0Y</td>\n",
       "      <td>4.205810e+14</td>\n",
       "      <td>陈绪华</td>\n",
       "      <td>湖北宜都清江肉联有限公司</td>\n",
       "      <td>NaN</td>\n",
       "      <td>NaN</td>\n",
       "      <td>NaN</td>\n",
       "      <td>NaN</td>\n",
       "      <td>NaN</td>\n",
       "    </tr>\n",
       "  </tbody>\n",
       "</table>\n",
       "</div>"
      ],
      "text/plain": [
       "           nbxh(C|50)            qymc(C|300)       uniscid(C|50)  \\\n",
       "0  160000020265279095  江苏小邮快跑跨境电商服务有限公司襄阳分公司  91420600MA49EMK57K   \n",
       "1  160000020265964482        湖北宜都清江肉联有限公司旗舰店  91420581MA49EMYJ0Y   \n",
       "\n",
       "      zch(C|50) fzrxm(C|500)    ENTNAME(C|301) LEREP(C|151)  REGCAP(N|18|6)  \\\n",
       "0  4.206000e+14          吴小康  江苏小邮快跑跨境电商服务有限公司          罗时波          1000.0   \n",
       "1  4.205810e+14          陈绪华      湖北宜都清江肉联有限公司          NaN             NaN   \n",
       "\n",
       "   ACCONAM(N|18|6)            OPLOC(C|451) OPSCOPE(C|3001)  \n",
       "0              NaN  昆山市花桥镇绿地大道258号1-1-833室             NaN  \n",
       "1              NaN                     NaN             NaN  "
      ]
     },
     "execution_count": 109,
     "metadata": {},
     "output_type": "execute_result"
    }
   ],
   "source": [
    "fzjg_file = pd.read_excel('./8月份活跃度数据/分支机构表/exportsql.20220824103436.gbk.xls')\n",
    "print(fzjg_file.info(null_counts = True))\n",
    "fzjg_file[:2]"
   ]
  },
  {
   "cell_type": "code",
   "execution_count": 110,
   "metadata": {
    "ExecuteTime": {
     "end_time": "2022-08-24T04:50:15.283861Z",
     "start_time": "2022-08-24T04:50:15.273884Z"
    }
   },
   "outputs": [
    {
     "data": {
      "text/plain": [
       "湖北益丰大药房连锁有限公司      57\n",
       "中国联合网络通信有限公司       43\n",
       "湖北吴都药业连锁有限公司       35\n",
       "襄阳普天独活大药房连锁有限公司    32\n",
       "湖北省昌盛大药房有限公司       28\n",
       "Name: ENTNAME(C|301), dtype: int64"
      ]
     },
     "execution_count": 110,
     "metadata": {},
     "output_type": "execute_result"
    }
   ],
   "source": [
    "nums_fzjg = fzjg_file['ENTNAME(C|301)'].value_counts()\n",
    "nums_fzjg[:5]"
   ]
  },
  {
   "cell_type": "markdown",
   "metadata": {},
   "source": [
    "### fzjg_nums为series,将其变为dataframes"
   ]
  },
  {
   "cell_type": "code",
   "execution_count": 111,
   "metadata": {
    "ExecuteTime": {
     "end_time": "2022-08-24T04:50:17.304668Z",
     "start_time": "2022-08-24T04:50:17.276717Z"
    }
   },
   "outputs": [
    {
     "name": "stdout",
     "output_type": "stream",
     "text": [
      "           ENTNAME  X7\n",
      "0    湖北益丰大药房连锁有限公司  57\n",
      "1     中国联合网络通信有限公司  43\n",
      "2     湖北吴都药业连锁有限公司  35\n",
      "3  襄阳普天独活大药房连锁有限公司  32\n",
      "4     湖北省昌盛大药房有限公司  28\n",
      "<class 'pandas.core.frame.DataFrame'>\n",
      "RangeIndex: 3471 entries, 0 to 3470\n",
      "Data columns (total 2 columns):\n",
      " #   Column   Non-Null Count  Dtype \n",
      "---  ------   --------------  ----- \n",
      " 0   ENTNAME  3471 non-null   object\n",
      " 1   X7       3471 non-null   int64 \n",
      "dtypes: int64(1), object(1)\n",
      "memory usage: 54.4+ KB\n"
     ]
    }
   ],
   "source": [
    "dict_nums_fzjg = {'ENTNAME':nums_fzjg.index, 'X7':nums_fzjg.values}\n",
    "df_nums_fzjg = pd.DataFrame(dict_nums_fzjg)\n",
    "print(df_nums_fzjg[:5])\n",
    "df_nums_fzjg.info(null_counts = True)"
   ]
  },
  {
   "cell_type": "markdown",
   "metadata": {},
   "source": [
    "### 找到对应的nbxh"
   ]
  },
  {
   "cell_type": "code",
   "execution_count": 112,
   "metadata": {
    "ExecuteTime": {
     "end_time": "2022-08-24T04:50:26.179831Z",
     "start_time": "2022-08-24T04:50:18.401884Z"
    }
   },
   "outputs": [
    {
     "name": "stdout",
     "output_type": "stream",
     "text": [
      "<class 'pandas.core.frame.DataFrame'>\n",
      "RangeIndex: 3471 entries, 0 to 3470\n",
      "Data columns (total 2 columns):\n",
      " #   Column   Non-Null Count  Dtype \n",
      "---  ------   --------------  ----- \n",
      " 0   ENTNAME  3471 non-null   object\n",
      " 1   X7       3471 non-null   int64 \n",
      "dtypes: int64(1), object(1)\n",
      "memory usage: 54.4+ KB\n",
      "None\n",
      "<class 'pandas.core.frame.DataFrame'>\n",
      "Index: 3485 entries, 91330304MA285UDC8A to 龙腾国信工程咨询有限公司\n",
      "Data columns (total 2 columns):\n",
      " #   Column       Non-Null Count  Dtype  \n",
      "---  ------       --------------  -----  \n",
      " 0   X7           3485 non-null   int64  \n",
      " 1   #nbxh(C|50)  2192 non-null   float64\n",
      "dtypes: float64(1), int64(1)\n",
      "memory usage: 81.7+ KB\n",
      "None\n",
      "<class 'pandas.core.frame.DataFrame'>\n",
      "RangeIndex: 3485 entries, 0 to 3484\n",
      "Data columns (total 3 columns):\n",
      " #   Column       Non-Null Count  Dtype  \n",
      "---  ------       --------------  -----  \n",
      " 0   index        3485 non-null   object \n",
      " 1   X7           3485 non-null   int64  \n",
      " 2   #nbxh(C|50)  2192 non-null   float64\n",
      "dtypes: float64(1), int64(1), object(1)\n",
      "memory usage: 81.8+ KB\n",
      "None\n",
      "<class 'pandas.core.frame.DataFrame'>\n",
      "Int64Index: 3471 entries, 0 to 3484\n",
      "Data columns (total 3 columns):\n",
      " #   Column       Non-Null Count  Dtype  \n",
      "---  ------       --------------  -----  \n",
      " 0   index        3471 non-null   object \n",
      " 1   X7           3471 non-null   int64  \n",
      " 2   #nbxh(C|50)  2178 non-null   float64\n",
      "dtypes: float64(1), int64(1), object(1)\n",
      "memory usage: 108.5+ KB\n",
      "None\n"
     ]
    }
   ],
   "source": [
    "print(df_nums_fzjg.info(null_counts = True))\n",
    "\n",
    "df_nums_fzjg.set_index('ENTNAME', inplace=True)# 以企业名称为索引进行join操作\n",
    "temp_name = file[['#nbxh(C|50)', 'qymc(C|300)']]# 提取内部序号和企业名称\n",
    "temp_name.set_index('qymc(C|300)', inplace=True)# 企业名称为索引\n",
    "df_nums_fzjg = df_nums_fzjg.join(temp_name)\n",
    "print(df_nums_fzjg.info(null_counts = True))\n",
    "\n",
    "df_nums_fzjg = df_nums_fzjg.reset_index()# 重设索引，且不替换掉企业名称\n",
    "print(df_nums_fzjg.info(null_counts = True))\n",
    "\n",
    "df_nums_fzjg.drop_duplicates(subset=['index'], keep='first', inplace=True)# 去除重复，join带来的重复，需要思考\n",
    "print(df_nums_fzjg.info(null_counts = True))"
   ]
  },
  {
   "cell_type": "markdown",
   "metadata": {},
   "source": [
    "### 删除空值"
   ]
  },
  {
   "cell_type": "code",
   "execution_count": 113,
   "metadata": {
    "ExecuteTime": {
     "end_time": "2022-08-24T04:50:26.209752Z",
     "start_time": "2022-08-24T04:50:26.182847Z"
    }
   },
   "outputs": [
    {
     "name": "stdout",
     "output_type": "stream",
     "text": [
      "<class 'pandas.core.frame.DataFrame'>\n",
      "Int64Index: 2178 entries, 442010000000549824 to 24250000012915656\n",
      "Data columns (total 1 columns):\n",
      " #   Column  Non-Null Count  Dtype\n",
      "---  ------  --------------  -----\n",
      " 0   X7      2178 non-null   int64\n",
      "dtypes: int64(1)\n",
      "memory usage: 34.0 KB\n",
      "None\n"
     ]
    },
    {
     "data": {
      "text/html": [
       "<div>\n",
       "<style scoped>\n",
       "    .dataframe tbody tr th:only-of-type {\n",
       "        vertical-align: middle;\n",
       "    }\n",
       "\n",
       "    .dataframe tbody tr th {\n",
       "        vertical-align: top;\n",
       "    }\n",
       "\n",
       "    .dataframe thead th {\n",
       "        text-align: right;\n",
       "    }\n",
       "</style>\n",
       "<table border=\"1\" class=\"dataframe\">\n",
       "  <thead>\n",
       "    <tr style=\"text-align: right;\">\n",
       "      <th></th>\n",
       "      <th>X7</th>\n",
       "    </tr>\n",
       "    <tr>\n",
       "      <th>#nbxh(C|50)</th>\n",
       "      <th></th>\n",
       "    </tr>\n",
       "  </thead>\n",
       "  <tbody>\n",
       "    <tr>\n",
       "      <th>442010000000549824</th>\n",
       "      <td>1</td>\n",
       "    </tr>\n",
       "    <tr>\n",
       "      <th>24250000012580616</th>\n",
       "      <td>1</td>\n",
       "    </tr>\n",
       "    <tr>\n",
       "      <th>24250000012681928</th>\n",
       "      <td>1</td>\n",
       "    </tr>\n",
       "    <tr>\n",
       "      <th>142000000081993328</th>\n",
       "      <td>1</td>\n",
       "    </tr>\n",
       "    <tr>\n",
       "      <th>142000007019985168</th>\n",
       "      <td>1</td>\n",
       "    </tr>\n",
       "  </tbody>\n",
       "</table>\n",
       "</div>"
      ],
      "text/plain": [
       "                    X7\n",
       "#nbxh(C|50)           \n",
       "442010000000549824   1\n",
       "24250000012580616    1\n",
       "24250000012681928    1\n",
       "142000000081993328   1\n",
       "142000007019985168   1"
      ]
     },
     "execution_count": 113,
     "metadata": {},
     "output_type": "execute_result"
    }
   ],
   "source": [
    "df_nums_fzjg.dropna(inplace=True)\n",
    "df_nums_fzjg['#nbxh(C|50)'] = df_nums_fzjg['#nbxh(C|50)'].astype(np.int64)\n",
    "df_nums_fzjg.set_index('#nbxh(C|50)', inplace=True)\n",
    "df_nums_fzjg.drop(['index'], axis=1, inplace=True)\n",
    "print(df_nums_fzjg.info(null_counts = True))\n",
    "df_nums_fzjg[:5]"
   ]
  },
  {
   "cell_type": "markdown",
   "metadata": {},
   "source": [
    "### join"
   ]
  },
  {
   "cell_type": "code",
   "execution_count": 114,
   "metadata": {
    "ExecuteTime": {
     "end_time": "2022-08-24T04:50:32.562542Z",
     "start_time": "2022-08-24T04:50:30.599269Z"
    }
   },
   "outputs": [
    {
     "name": "stdout",
     "output_type": "stream",
     "text": [
      "<class 'pandas.core.frame.DataFrame'>\n",
      "Int64Index: 1839845 entries, 2420200000050231 to 442010000019652554\n",
      "Data columns (total 17 columns):\n",
      " #   Column      Non-Null Count    Dtype  \n",
      "---  ------      --------------    -----  \n",
      " 0   jjhklb      1839845 non-null  int64  \n",
      " 1   hydm        1839845 non-null  object \n",
      " 2   jyzt        1839845 non-null  float64\n",
      " 3   qylx        1839845 non-null  int64  \n",
      " 4   time_scale  1839845 non-null  object \n",
      " 5   city        1839845 non-null  object \n",
      " 6   three       1839845 non-null  object \n",
      " 7   scale       1839845 non-null  object \n",
      " 8   X1_2        1839845 non-null  int64  \n",
      " 9   X3          1839845 non-null  int64  \n",
      " 10  X4          1839845 non-null  int64  \n",
      " 11  X5          1839845 non-null  float64\n",
      " 12  X6          1839845 non-null  float64\n",
      " 13  X12         1839845 non-null  float64\n",
      " 14  X13         1839845 non-null  float64\n",
      " 15  X15         1839845 non-null  int64  \n",
      " 16  X7          527 non-null      float64\n",
      "dtypes: float64(6), int64(6), object(5)\n",
      "memory usage: 252.7+ MB\n"
     ]
    }
   ],
   "source": [
    "new_file = new_file.join(df_nums_fzjg)\n",
    "new_file.info(null_counts = True)"
   ]
  },
  {
   "cell_type": "code",
   "execution_count": 115,
   "metadata": {
    "ExecuteTime": {
     "end_time": "2022-08-24T04:50:33.687182Z",
     "start_time": "2022-08-24T04:50:33.264881Z"
    }
   },
   "outputs": [
    {
     "name": "stdout",
     "output_type": "stream",
     "text": [
      "<class 'pandas.core.frame.DataFrame'>\n",
      "Int64Index: 1839845 entries, 2420200000050231 to 442010000019652554\n",
      "Data columns (total 17 columns):\n",
      " #   Column      Non-Null Count    Dtype  \n",
      "---  ------      --------------    -----  \n",
      " 0   jjhklb      1839845 non-null  int64  \n",
      " 1   hydm        1839845 non-null  object \n",
      " 2   jyzt        1839845 non-null  float64\n",
      " 3   qylx        1839845 non-null  int64  \n",
      " 4   time_scale  1839845 non-null  object \n",
      " 5   city        1839845 non-null  object \n",
      " 6   three       1839845 non-null  object \n",
      " 7   scale       1839845 non-null  object \n",
      " 8   X1_2        1839845 non-null  int64  \n",
      " 9   X3          1839845 non-null  int64  \n",
      " 10  X4          1839845 non-null  int64  \n",
      " 11  X5          1839845 non-null  float64\n",
      " 12  X6          1839845 non-null  float64\n",
      " 13  X12         1839845 non-null  float64\n",
      " 14  X13         1839845 non-null  float64\n",
      " 15  X15         1839845 non-null  int64  \n",
      " 16  X7          1839845 non-null  float64\n",
      "dtypes: float64(6), int64(6), object(5)\n",
      "memory usage: 252.7+ MB\n"
     ]
    }
   ],
   "source": [
    "# 缺失值填补\n",
    "new_file['X7'].fillna(value=0, inplace=True)\n",
    "new_file.info(null_counts = True)"
   ]
  },
  {
   "cell_type": "markdown",
   "metadata": {},
   "source": [
    "## 添加特征X10、 X11（来自企业关系人表）"
   ]
  },
  {
   "cell_type": "markdown",
   "metadata": {},
   "source": [
    "- X10 投资次数     \n",
    "- X11 投资总额 "
   ]
  },
  {
   "cell_type": "code",
   "execution_count": 21,
   "metadata": {
    "ExecuteTime": {
     "end_time": "2022-09-12T10:24:25.815780Z",
     "start_time": "2022-09-12T10:24:25.510596Z"
    }
   },
   "outputs": [
    {
     "name": "stdout",
     "output_type": "stream",
     "text": [
      "<class 'pandas.core.frame.DataFrame'>\n",
      "RangeIndex: 536 entries, 0 to 535\n",
      "Data columns (total 6 columns):\n",
      " #   Column           Non-Null Count  Dtype  \n",
      "---  ------           --------------  -----  \n",
      " 0   nbxh             64 non-null     float64\n",
      " 1   tze              103 non-null    float64\n",
      " 2   zrrlx(C|2)       536 non-null    int64  \n",
      " 3   person_id(C|45)  536 non-null    int64  \n",
      " 4   rjcze(N|18|6)    536 non-null    float64\n",
      " 5   czsj(D)          536 non-null    object \n",
      "dtypes: float64(3), int64(2), object(1)\n",
      "memory usage: 25.2+ KB\n"
     ]
    },
    {
     "data": {
      "text/html": [
       "<div>\n",
       "<style scoped>\n",
       "    .dataframe tbody tr th:only-of-type {\n",
       "        vertical-align: middle;\n",
       "    }\n",
       "\n",
       "    .dataframe tbody tr th {\n",
       "        vertical-align: top;\n",
       "    }\n",
       "\n",
       "    .dataframe thead th {\n",
       "        text-align: right;\n",
       "    }\n",
       "</style>\n",
       "<table border=\"1\" class=\"dataframe\">\n",
       "  <thead>\n",
       "    <tr style=\"text-align: right;\">\n",
       "      <th></th>\n",
       "      <th>nbxh</th>\n",
       "      <th>tze</th>\n",
       "      <th>zrrlx(C|2)</th>\n",
       "      <th>person_id(C|45)</th>\n",
       "      <th>rjcze(N|18|6)</th>\n",
       "      <th>czsj(D)</th>\n",
       "    </tr>\n",
       "  </thead>\n",
       "  <tbody>\n",
       "    <tr>\n",
       "      <th>0</th>\n",
       "      <td>NaN</td>\n",
       "      <td>NaN</td>\n",
       "      <td>4</td>\n",
       "      <td>160000003804997877</td>\n",
       "      <td>80.00</td>\n",
       "      <td>2022-08-09</td>\n",
       "    </tr>\n",
       "    <tr>\n",
       "      <th>1</th>\n",
       "      <td>1.600000e+17</td>\n",
       "      <td>NaN</td>\n",
       "      <td>4</td>\n",
       "      <td>160000021743166515</td>\n",
       "      <td>3880.00</td>\n",
       "      <td>2022-08-01</td>\n",
       "    </tr>\n",
       "    <tr>\n",
       "      <th>2</th>\n",
       "      <td>NaN</td>\n",
       "      <td>NaN</td>\n",
       "      <td>4</td>\n",
       "      <td>160000021778883959</td>\n",
       "      <td>10.00</td>\n",
       "      <td>2022-08-11</td>\n",
       "    </tr>\n",
       "    <tr>\n",
       "      <th>3</th>\n",
       "      <td>NaN</td>\n",
       "      <td>NaN</td>\n",
       "      <td>4</td>\n",
       "      <td>160000021802829032</td>\n",
       "      <td>35.00</td>\n",
       "      <td>2022-08-12</td>\n",
       "    </tr>\n",
       "    <tr>\n",
       "      <th>4</th>\n",
       "      <td>NaN</td>\n",
       "      <td>1.75</td>\n",
       "      <td>4</td>\n",
       "      <td>4420100002773422</td>\n",
       "      <td>1.75</td>\n",
       "      <td>2022-08-25</td>\n",
       "    </tr>\n",
       "    <tr>\n",
       "      <th>5</th>\n",
       "      <td>1.600000e+17</td>\n",
       "      <td>NaN</td>\n",
       "      <td>4</td>\n",
       "      <td>160000021788960153</td>\n",
       "      <td>15.00</td>\n",
       "      <td>2022-08-31</td>\n",
       "    </tr>\n",
       "    <tr>\n",
       "      <th>6</th>\n",
       "      <td>2.425000e+16</td>\n",
       "      <td>NaN</td>\n",
       "      <td>4</td>\n",
       "      <td>160000004995352861</td>\n",
       "      <td>3000.00</td>\n",
       "      <td>2022-09-01</td>\n",
       "    </tr>\n",
       "    <tr>\n",
       "      <th>7</th>\n",
       "      <td>NaN</td>\n",
       "      <td>NaN</td>\n",
       "      <td>4</td>\n",
       "      <td>160000021779158847</td>\n",
       "      <td>95.00</td>\n",
       "      <td>2022-08-12</td>\n",
       "    </tr>\n",
       "    <tr>\n",
       "      <th>8</th>\n",
       "      <td>NaN</td>\n",
       "      <td>NaN</td>\n",
       "      <td>4</td>\n",
       "      <td>160000021759229146</td>\n",
       "      <td>9.90</td>\n",
       "      <td>2022-08-09</td>\n",
       "    </tr>\n",
       "    <tr>\n",
       "      <th>9</th>\n",
       "      <td>1.600000e+17</td>\n",
       "      <td>NaN</td>\n",
       "      <td>4</td>\n",
       "      <td>160000021759370701</td>\n",
       "      <td>46.00</td>\n",
       "      <td>2022-08-04</td>\n",
       "    </tr>\n",
       "  </tbody>\n",
       "</table>\n",
       "</div>"
      ],
      "text/plain": [
       "           nbxh   tze  zrrlx(C|2)     person_id(C|45)  rjcze(N|18|6)  \\\n",
       "0           NaN   NaN           4  160000003804997877          80.00   \n",
       "1  1.600000e+17   NaN           4  160000021743166515        3880.00   \n",
       "2           NaN   NaN           4  160000021778883959          10.00   \n",
       "3           NaN   NaN           4  160000021802829032          35.00   \n",
       "4           NaN  1.75           4    4420100002773422           1.75   \n",
       "5  1.600000e+17   NaN           4  160000021788960153          15.00   \n",
       "6  2.425000e+16   NaN           4  160000004995352861        3000.00   \n",
       "7           NaN   NaN           4  160000021779158847          95.00   \n",
       "8           NaN   NaN           4  160000021759229146           9.90   \n",
       "9  1.600000e+17   NaN           4  160000021759370701          46.00   \n",
       "\n",
       "      czsj(D)  \n",
       "0  2022-08-09  \n",
       "1  2022-08-01  \n",
       "2  2022-08-11  \n",
       "3  2022-08-12  \n",
       "4  2022-08-25  \n",
       "5  2022-08-31  \n",
       "6  2022-09-01  \n",
       "7  2022-08-12  \n",
       "8  2022-08-09  \n",
       "9  2022-08-04  "
      ]
     },
     "execution_count": 21,
     "metadata": {},
     "output_type": "execute_result"
    }
   ],
   "source": [
    "invest = pd.read_excel('./8月份活跃度数据/企业关系人表/exportsql.20220824101442.gbk.xls')\n",
    "invest.rename(columns = {'tznbxh(C|250)':'nbxh', 'tze(N|18|6)':'tze'}, inplace=True)\n",
    "invest.info(null_counts = True)\n",
    "invest[:10]"
   ]
  },
  {
   "cell_type": "code",
   "execution_count": 23,
   "metadata": {
    "ExecuteTime": {
     "end_time": "2022-09-12T10:25:21.517907Z",
     "start_time": "2022-09-12T10:25:21.494942Z"
    }
   },
   "outputs": [
    {
     "data": {
      "text/html": [
       "<div>\n",
       "<style scoped>\n",
       "    .dataframe tbody tr th:only-of-type {\n",
       "        vertical-align: middle;\n",
       "    }\n",
       "\n",
       "    .dataframe tbody tr th {\n",
       "        vertical-align: top;\n",
       "    }\n",
       "\n",
       "    .dataframe thead th {\n",
       "        text-align: right;\n",
       "    }\n",
       "</style>\n",
       "<table border=\"1\" class=\"dataframe\">\n",
       "  <thead>\n",
       "    <tr style=\"text-align: right;\">\n",
       "      <th></th>\n",
       "      <th>nbxh</th>\n",
       "      <th>tze</th>\n",
       "      <th>zrrlx(C|2)</th>\n",
       "      <th>person_id(C|45)</th>\n",
       "      <th>rjcze(N|18|6)</th>\n",
       "      <th>czsj(D)</th>\n",
       "    </tr>\n",
       "  </thead>\n",
       "  <tbody>\n",
       "    <tr>\n",
       "      <th>256</th>\n",
       "      <td>420000000008816256</td>\n",
       "      <td>1500.000</td>\n",
       "      <td>4</td>\n",
       "      <td>4420100003055875</td>\n",
       "      <td>1500.000</td>\n",
       "      <td>2022-08-10</td>\n",
       "    </tr>\n",
       "  </tbody>\n",
       "</table>\n",
       "</div>"
      ],
      "text/plain": [
       "                   nbxh      tze  zrrlx(C|2)   person_id(C|45)  rjcze(N|18|6)  \\\n",
       "256  420000000008816256 1500.000           4  4420100003055875       1500.000   \n",
       "\n",
       "        czsj(D)  \n",
       "256  2022-08-10  "
      ]
     },
     "execution_count": 23,
     "metadata": {},
     "output_type": "execute_result"
    }
   ],
   "source": [
    "# 不显示科学计数法\n",
    "pd.set_option('display.float_format', lambda x: '%.3f' % x)\n",
    "invest = invest.dropna(subset=['nbxh', 'tze'])\n",
    "invest['nbxh'] = invest['nbxh'].astype(np.int64)\n",
    "invest"
   ]
  },
  {
   "cell_type": "markdown",
   "metadata": {},
   "source": [
    "### 提取特征X10"
   ]
  },
  {
   "cell_type": "code",
   "execution_count": 118,
   "metadata": {
    "ExecuteTime": {
     "end_time": "2022-08-24T04:51:00.164719Z",
     "start_time": "2022-08-24T04:51:00.145796Z"
    }
   },
   "outputs": [
    {
     "data": {
      "text/plain": [
       "420000000008816256    1\n",
       "Name: nbxh, dtype: int64"
      ]
     },
     "execution_count": 118,
     "metadata": {},
     "output_type": "execute_result"
    }
   ],
   "source": [
    "nums = invest['nbxh'].value_counts()\n",
    "nums"
   ]
  },
  {
   "cell_type": "markdown",
   "metadata": {},
   "source": [
    "#### nums为series,将其变为dataframes"
   ]
  },
  {
   "cell_type": "code",
   "execution_count": 119,
   "metadata": {
    "ExecuteTime": {
     "end_time": "2022-08-24T04:51:01.701222Z",
     "start_time": "2022-08-24T04:51:01.681490Z"
    }
   },
   "outputs": [
    {
     "name": "stdout",
     "output_type": "stream",
     "text": [
      "                 nbxh  X10\n",
      "0  420000000008816256    1\n",
      "                    X10\n",
      "nbxh                   \n",
      "420000000008816256    1\n",
      "<class 'pandas.core.frame.DataFrame'>\n",
      "Int64Index: 1 entries, 420000000008816256 to 420000000008816256\n",
      "Data columns (total 1 columns):\n",
      " #   Column  Non-Null Count  Dtype\n",
      "---  ------  --------------  -----\n",
      " 0   X10     1 non-null      int64\n",
      "dtypes: int64(1)\n",
      "memory usage: 16.0 bytes\n",
      "None\n"
     ]
    }
   ],
   "source": [
    "dict_nums = {'nbxh':nums.index, 'X10':nums.values}\n",
    "df_nums = pd.DataFrame(dict_nums)\n",
    "print(df_nums[:2])\n",
    "df_nums.set_index('nbxh', inplace=True)\n",
    "print(df_nums[:2])\n",
    "print(df_nums.info(null_counts = True))"
   ]
  },
  {
   "cell_type": "markdown",
   "metadata": {},
   "source": [
    "#### join"
   ]
  },
  {
   "cell_type": "code",
   "execution_count": 120,
   "metadata": {
    "ExecuteTime": {
     "end_time": "2022-08-24T04:51:04.009933Z",
     "start_time": "2022-08-24T04:51:03.081961Z"
    }
   },
   "outputs": [
    {
     "name": "stdout",
     "output_type": "stream",
     "text": [
      "<class 'pandas.core.frame.DataFrame'>\n",
      "Int64Index: 1839845 entries, 2420200000050231 to 442010000019652554\n",
      "Data columns (total 18 columns):\n",
      " #   Column      Non-Null Count    Dtype  \n",
      "---  ------      --------------    -----  \n",
      " 0   jjhklb      1839845 non-null  int64  \n",
      " 1   hydm        1839845 non-null  object \n",
      " 2   jyzt        1839845 non-null  float64\n",
      " 3   qylx        1839845 non-null  int64  \n",
      " 4   time_scale  1839845 non-null  object \n",
      " 5   city        1839845 non-null  object \n",
      " 6   three       1839845 non-null  object \n",
      " 7   scale       1839845 non-null  object \n",
      " 8   X1_2        1839845 non-null  int64  \n",
      " 9   X3          1839845 non-null  int64  \n",
      " 10  X4          1839845 non-null  int64  \n",
      " 11  X5          1839845 non-null  float64\n",
      " 12  X6          1839845 non-null  float64\n",
      " 13  X12         1839845 non-null  float64\n",
      " 14  X13         1839845 non-null  float64\n",
      " 15  X15         1839845 non-null  int64  \n",
      " 16  X7          1839845 non-null  float64\n",
      " 17  X10         0 non-null        float64\n",
      "dtypes: float64(7), int64(6), object(5)\n",
      "memory usage: 266.7+ MB\n"
     ]
    }
   ],
   "source": [
    "new_file = new_file.join(df_nums)\n",
    "new_file.info(null_counts = True)"
   ]
  },
  {
   "cell_type": "code",
   "execution_count": 121,
   "metadata": {
    "ExecuteTime": {
     "end_time": "2022-08-24T04:51:04.630817Z",
     "start_time": "2022-08-24T04:51:04.193883Z"
    }
   },
   "outputs": [
    {
     "name": "stdout",
     "output_type": "stream",
     "text": [
      "<class 'pandas.core.frame.DataFrame'>\n",
      "Int64Index: 1839845 entries, 2420200000050231 to 442010000019652554\n",
      "Data columns (total 18 columns):\n",
      " #   Column      Non-Null Count    Dtype  \n",
      "---  ------      --------------    -----  \n",
      " 0   jjhklb      1839845 non-null  int64  \n",
      " 1   hydm        1839845 non-null  object \n",
      " 2   jyzt        1839845 non-null  float64\n",
      " 3   qylx        1839845 non-null  int64  \n",
      " 4   time_scale  1839845 non-null  object \n",
      " 5   city        1839845 non-null  object \n",
      " 6   three       1839845 non-null  object \n",
      " 7   scale       1839845 non-null  object \n",
      " 8   X1_2        1839845 non-null  int64  \n",
      " 9   X3          1839845 non-null  int64  \n",
      " 10  X4          1839845 non-null  int64  \n",
      " 11  X5          1839845 non-null  float64\n",
      " 12  X6          1839845 non-null  float64\n",
      " 13  X12         1839845 non-null  float64\n",
      " 14  X13         1839845 non-null  float64\n",
      " 15  X15         1839845 non-null  int64  \n",
      " 16  X7          1839845 non-null  float64\n",
      " 17  X10         1839845 non-null  float64\n",
      "dtypes: float64(7), int64(6), object(5)\n",
      "memory usage: 266.7+ MB\n"
     ]
    }
   ],
   "source": [
    "# 缺失值填补\n",
    "new_file['X10'].fillna(value=0, inplace=True)\n",
    "new_file.info(null_counts = True)"
   ]
  },
  {
   "cell_type": "markdown",
   "metadata": {},
   "source": [
    "### 提取特征X11"
   ]
  },
  {
   "cell_type": "code",
   "execution_count": 122,
   "metadata": {
    "ExecuteTime": {
     "end_time": "2022-08-24T04:51:06.063324Z",
     "start_time": "2022-08-24T04:51:06.042381Z"
    }
   },
   "outputs": [
    {
     "data": {
      "text/plain": [
       "nbxh\n",
       "420000000008816256   1500.000\n",
       "Name: tze, dtype: float64"
      ]
     },
     "execution_count": 122,
     "metadata": {},
     "output_type": "execute_result"
    }
   ],
   "source": [
    "sums = invest.groupby('nbxh')['tze'].agg('sum')\n",
    "sums"
   ]
  },
  {
   "cell_type": "markdown",
   "metadata": {},
   "source": [
    "#### sums为series,将其变为dataframes"
   ]
  },
  {
   "cell_type": "code",
   "execution_count": 123,
   "metadata": {
    "ExecuteTime": {
     "end_time": "2022-08-24T04:51:06.914485Z",
     "start_time": "2022-08-24T04:51:06.896533Z"
    }
   },
   "outputs": [
    {
     "name": "stdout",
     "output_type": "stream",
     "text": [
      "                 nbxh      X11\n",
      "0  420000000008816256 1500.000\n",
      "                        X11\n",
      "nbxh                       \n",
      "420000000008816256 1500.000\n",
      "<class 'pandas.core.frame.DataFrame'>\n",
      "Int64Index: 1 entries, 420000000008816256 to 420000000008816256\n",
      "Data columns (total 1 columns):\n",
      " #   Column  Non-Null Count  Dtype  \n",
      "---  ------  --------------  -----  \n",
      " 0   X11     1 non-null      float64\n",
      "dtypes: float64(1)\n",
      "memory usage: 16.0 bytes\n",
      "None\n"
     ]
    }
   ],
   "source": [
    "dict_sums = {'nbxh':sums.index, 'X11':sums.values}\n",
    "df_sums = pd.DataFrame(dict_sums)\n",
    "print(df_sums[:2])\n",
    "df_sums.set_index('nbxh', inplace=True)\n",
    "print(df_sums[:2])\n",
    "print(df_sums.info(null_counts = True))"
   ]
  },
  {
   "cell_type": "markdown",
   "metadata": {},
   "source": [
    "#### join"
   ]
  },
  {
   "cell_type": "code",
   "execution_count": 124,
   "metadata": {
    "ExecuteTime": {
     "end_time": "2022-08-24T04:51:08.922042Z",
     "start_time": "2022-08-24T04:51:08.008914Z"
    }
   },
   "outputs": [
    {
     "name": "stdout",
     "output_type": "stream",
     "text": [
      "<class 'pandas.core.frame.DataFrame'>\n",
      "Int64Index: 1839845 entries, 2420200000050231 to 442010000019652554\n",
      "Data columns (total 19 columns):\n",
      " #   Column      Non-Null Count    Dtype  \n",
      "---  ------      --------------    -----  \n",
      " 0   jjhklb      1839845 non-null  int64  \n",
      " 1   hydm        1839845 non-null  object \n",
      " 2   jyzt        1839845 non-null  float64\n",
      " 3   qylx        1839845 non-null  int64  \n",
      " 4   time_scale  1839845 non-null  object \n",
      " 5   city        1839845 non-null  object \n",
      " 6   three       1839845 non-null  object \n",
      " 7   scale       1839845 non-null  object \n",
      " 8   X1_2        1839845 non-null  int64  \n",
      " 9   X3          1839845 non-null  int64  \n",
      " 10  X4          1839845 non-null  int64  \n",
      " 11  X5          1839845 non-null  float64\n",
      " 12  X6          1839845 non-null  float64\n",
      " 13  X12         1839845 non-null  float64\n",
      " 14  X13         1839845 non-null  float64\n",
      " 15  X15         1839845 non-null  int64  \n",
      " 16  X7          1839845 non-null  float64\n",
      " 17  X10         1839845 non-null  float64\n",
      " 18  X11         0 non-null        float64\n",
      "dtypes: float64(8), int64(6), object(5)\n",
      "memory usage: 280.7+ MB\n"
     ]
    }
   ],
   "source": [
    "new_file = new_file.join(df_sums)\n",
    "new_file.info(null_counts = True)"
   ]
  },
  {
   "cell_type": "code",
   "execution_count": 125,
   "metadata": {
    "ExecuteTime": {
     "end_time": "2022-08-24T04:51:09.375824Z",
     "start_time": "2022-08-24T04:51:08.925006Z"
    }
   },
   "outputs": [
    {
     "name": "stdout",
     "output_type": "stream",
     "text": [
      "<class 'pandas.core.frame.DataFrame'>\n",
      "Int64Index: 1839845 entries, 2420200000050231 to 442010000019652554\n",
      "Data columns (total 19 columns):\n",
      " #   Column      Non-Null Count    Dtype  \n",
      "---  ------      --------------    -----  \n",
      " 0   jjhklb      1839845 non-null  int64  \n",
      " 1   hydm        1839845 non-null  object \n",
      " 2   jyzt        1839845 non-null  float64\n",
      " 3   qylx        1839845 non-null  int64  \n",
      " 4   time_scale  1839845 non-null  object \n",
      " 5   city        1839845 non-null  object \n",
      " 6   three       1839845 non-null  object \n",
      " 7   scale       1839845 non-null  object \n",
      " 8   X1_2        1839845 non-null  int64  \n",
      " 9   X3          1839845 non-null  int64  \n",
      " 10  X4          1839845 non-null  int64  \n",
      " 11  X5          1839845 non-null  float64\n",
      " 12  X6          1839845 non-null  float64\n",
      " 13  X12         1839845 non-null  float64\n",
      " 14  X13         1839845 non-null  float64\n",
      " 15  X15         1839845 non-null  int64  \n",
      " 16  X7          1839845 non-null  float64\n",
      " 17  X10         1839845 non-null  float64\n",
      " 18  X11         1839845 non-null  float64\n",
      "dtypes: float64(8), int64(6), object(5)\n",
      "memory usage: 280.7+ MB\n"
     ]
    }
   ],
   "source": [
    "# 缺失值填补\n",
    "new_file['X11'].fillna(value=0, inplace=True)\n",
    "new_file.info(null_counts = True)"
   ]
  },
  {
   "cell_type": "markdown",
   "metadata": {},
   "source": [
    "## 添加特征X14（迁移申请次数，来自迁移表）"
   ]
  },
  {
   "cell_type": "markdown",
   "metadata": {},
   "source": [
    "### 读取并查看"
   ]
  },
  {
   "cell_type": "code",
   "execution_count": 126,
   "metadata": {
    "ExecuteTime": {
     "end_time": "2022-08-24T04:51:28.876213Z",
     "start_time": "2022-08-24T04:51:26.227379Z"
    },
    "scrolled": false
   },
   "outputs": [
    {
     "name": "stdout",
     "output_type": "stream",
     "text": [
      "<class 'pandas.core.frame.DataFrame'>\n",
      "RangeIndex: 1913 entries, 0 to 1912\n",
      "Data columns (total 34 columns):\n",
      " #   Column                    Non-Null Count  Dtype  \n",
      "---  ------                    --------------  -----  \n",
      " 0   ID(C|75)                  1913 non-null   int64  \n",
      " 1   MARPRID(C|75)             1913 non-null   int64  \n",
      " 2   ENTNAME(C|500)            1913 non-null   object \n",
      " 3   LEREP(C|300)              1056 non-null   object \n",
      " 4   REGCAP(N|18|6)            1026 non-null   float64\n",
      " 5   ACCONAM(N|18|6)           1 non-null      float64\n",
      " 6   CURRENCY(C|5)             54 non-null     float64\n",
      " 7   OPLOC(C|500)              994 non-null    object \n",
      " 8   OPSCOPE(C|4000)           990 non-null    object \n",
      " 9   ENTTYPE(C|10)             1896 non-null   float64\n",
      " 10  ENTTYPEITEM(C|10)         1786 non-null   float64\n",
      " 11  OPFROM(P)                 1869 non-null   object \n",
      " 12  OPTO(P)                   370 non-null    object \n",
      " 13  REGNO(C|75)               320 non-null    object \n",
      " 14  EMAIL(C|200)              4 non-null      object \n",
      " 15  COUNTRY(C|5)              1 non-null      float64\n",
      " 16  INSYSSIGN(N|10|0)         1913 non-null   int64  \n",
      " 17  BATCH(C|1)                1913 non-null   int64  \n",
      " 18  MODIDATE(P)               1913 non-null   object \n",
      " 19  ESTDATE(P)                1000 non-null   object \n",
      " 20  PROVCODE(C|75)            1911 non-null   float64\n",
      " 21  REMARK(C|2000)            15 non-null     object \n",
      " 22  REGORGNAME(C|200)         1911 non-null   object \n",
      " 23  FORENTNAME(C|300)         1 non-null      object \n",
      " 24  STUFFTYPE(C|10)           1913 non-null   int64  \n",
      " 25  STUFFNAME(C|75)           1913 non-null   object \n",
      " 26  SURPERFROM(P)             0 non-null      float64\n",
      " 27  SURPERTO(P)               0 non-null      float64\n",
      " 28  FORENTAUTSIGNNAME(C|300)  1 non-null      object \n",
      " 29  FORENLIAFOR(C|5)          0 non-null      float64\n",
      " 30  UNISCID(C|75)             1903 non-null   object \n",
      " 31  ACCOUNTTYPE(C|5)          406 non-null    float64\n",
      " 32  DISTCODE(C|50)            229 non-null    float64\n",
      " 33  BUSIADDRESS(C|500)        720 non-null    object \n",
      "dtypes: float64(12), int64(5), object(17)\n",
      "memory usage: 508.3+ KB\n",
      "None\n"
     ]
    },
    {
     "data": {
      "text/html": [
       "<div>\n",
       "<style scoped>\n",
       "    .dataframe tbody tr th:only-of-type {\n",
       "        vertical-align: middle;\n",
       "    }\n",
       "\n",
       "    .dataframe tbody tr th {\n",
       "        vertical-align: top;\n",
       "    }\n",
       "\n",
       "    .dataframe thead th {\n",
       "        text-align: right;\n",
       "    }\n",
       "</style>\n",
       "<table border=\"1\" class=\"dataframe\">\n",
       "  <thead>\n",
       "    <tr style=\"text-align: right;\">\n",
       "      <th></th>\n",
       "      <th>ID(C|75)</th>\n",
       "      <th>MARPRID(C|75)</th>\n",
       "      <th>ENTNAME(C|500)</th>\n",
       "      <th>LEREP(C|300)</th>\n",
       "      <th>REGCAP(N|18|6)</th>\n",
       "      <th>ACCONAM(N|18|6)</th>\n",
       "      <th>CURRENCY(C|5)</th>\n",
       "      <th>OPLOC(C|500)</th>\n",
       "      <th>OPSCOPE(C|4000)</th>\n",
       "      <th>ENTTYPE(C|10)</th>\n",
       "      <th>...</th>\n",
       "      <th>STUFFTYPE(C|10)</th>\n",
       "      <th>STUFFNAME(C|75)</th>\n",
       "      <th>SURPERFROM(P)</th>\n",
       "      <th>SURPERTO(P)</th>\n",
       "      <th>FORENTAUTSIGNNAME(C|300)</th>\n",
       "      <th>FORENLIAFOR(C|5)</th>\n",
       "      <th>UNISCID(C|75)</th>\n",
       "      <th>ACCOUNTTYPE(C|5)</th>\n",
       "      <th>DISTCODE(C|50)</th>\n",
       "      <th>BUSIADDRESS(C|500)</th>\n",
       "    </tr>\n",
       "  </thead>\n",
       "  <tbody>\n",
       "    <tr>\n",
       "      <th>0</th>\n",
       "      <td>160000021742290205</td>\n",
       "      <td>160000021742290174</td>\n",
       "      <td>湖北亿广建设有限公司</td>\n",
       "      <td>NaN</td>\n",
       "      <td>NaN</td>\n",
       "      <td>NaN</td>\n",
       "      <td>NaN</td>\n",
       "      <td>NaN</td>\n",
       "      <td>NaN</td>\n",
       "      <td>1100.000</td>\n",
       "      <td>...</td>\n",
       "      <td>8</td>\n",
       "      <td>隶属企业</td>\n",
       "      <td>NaN</td>\n",
       "      <td>NaN</td>\n",
       "      <td>NaN</td>\n",
       "      <td>NaN</td>\n",
       "      <td>91420600MA4F0BKY3U</td>\n",
       "      <td>NaN</td>\n",
       "      <td>NaN</td>\n",
       "      <td>NaN</td>\n",
       "    </tr>\n",
       "    <tr>\n",
       "      <th>1</th>\n",
       "      <td>160000021742320433</td>\n",
       "      <td>160000021742320404</td>\n",
       "      <td>武汉汉方药谷中医医院</td>\n",
       "      <td>陈顺波</td>\n",
       "      <td>50.000</td>\n",
       "      <td>NaN</td>\n",
       "      <td>NaN</td>\n",
       "      <td>武汉市武昌区民主路301号（老号253号）</td>\n",
       "      <td>许可项目：医疗服务；药品生产；药品批发；药品零售；中药饮片代煎服务；医疗美容服务（依法须经批...</td>\n",
       "      <td>4500.000</td>\n",
       "      <td>...</td>\n",
       "      <td>8</td>\n",
       "      <td>隶属企业</td>\n",
       "      <td>NaN</td>\n",
       "      <td>NaN</td>\n",
       "      <td>NaN</td>\n",
       "      <td>NaN</td>\n",
       "      <td>914201065584388101</td>\n",
       "      <td>NaN</td>\n",
       "      <td>NaN</td>\n",
       "      <td>武汉市武昌区民主路301号（老号253号）</td>\n",
       "    </tr>\n",
       "    <tr>\n",
       "      <th>2</th>\n",
       "      <td>160000021742335990</td>\n",
       "      <td>160000021742335962</td>\n",
       "      <td>湖北玉环建筑工程有限公司</td>\n",
       "      <td>NaN</td>\n",
       "      <td>NaN</td>\n",
       "      <td>NaN</td>\n",
       "      <td>NaN</td>\n",
       "      <td>NaN</td>\n",
       "      <td>NaN</td>\n",
       "      <td>1100.000</td>\n",
       "      <td>...</td>\n",
       "      <td>8</td>\n",
       "      <td>隶属企业</td>\n",
       "      <td>NaN</td>\n",
       "      <td>NaN</td>\n",
       "      <td>NaN</td>\n",
       "      <td>NaN</td>\n",
       "      <td>91421100706987193W</td>\n",
       "      <td>NaN</td>\n",
       "      <td>NaN</td>\n",
       "      <td>NaN</td>\n",
       "    </tr>\n",
       "  </tbody>\n",
       "</table>\n",
       "<p>3 rows × 34 columns</p>\n",
       "</div>"
      ],
      "text/plain": [
       "             ID(C|75)       MARPRID(C|75) ENTNAME(C|500) LEREP(C|300)  \\\n",
       "0  160000021742290205  160000021742290174     湖北亿广建设有限公司          NaN   \n",
       "1  160000021742320433  160000021742320404     武汉汉方药谷中医医院          陈顺波   \n",
       "2  160000021742335990  160000021742335962   湖北玉环建筑工程有限公司          NaN   \n",
       "\n",
       "   REGCAP(N|18|6)  ACCONAM(N|18|6)  CURRENCY(C|5)           OPLOC(C|500)  \\\n",
       "0             NaN              NaN            NaN                    NaN   \n",
       "1          50.000              NaN            NaN  武汉市武昌区民主路301号（老号253号）   \n",
       "2             NaN              NaN            NaN                    NaN   \n",
       "\n",
       "                                     OPSCOPE(C|4000)  ENTTYPE(C|10)  ...  \\\n",
       "0                                                NaN       1100.000  ...   \n",
       "1  许可项目：医疗服务；药品生产；药品批发；药品零售；中药饮片代煎服务；医疗美容服务（依法须经批...       4500.000  ...   \n",
       "2                                                NaN       1100.000  ...   \n",
       "\n",
       "   STUFFTYPE(C|10) STUFFNAME(C|75) SURPERFROM(P) SURPERTO(P)  \\\n",
       "0                8            隶属企业           NaN         NaN   \n",
       "1                8            隶属企业           NaN         NaN   \n",
       "2                8            隶属企业           NaN         NaN   \n",
       "\n",
       "  FORENTAUTSIGNNAME(C|300)  FORENLIAFOR(C|5)       UNISCID(C|75)  \\\n",
       "0                      NaN               NaN  91420600MA4F0BKY3U   \n",
       "1                      NaN               NaN  914201065584388101   \n",
       "2                      NaN               NaN  91421100706987193W   \n",
       "\n",
       "   ACCOUNTTYPE(C|5) DISTCODE(C|50)     BUSIADDRESS(C|500)  \n",
       "0               NaN            NaN                    NaN  \n",
       "1               NaN            NaN  武汉市武昌区民主路301号（老号253号）  \n",
       "2               NaN            NaN                    NaN  \n",
       "\n",
       "[3 rows x 34 columns]"
      ]
     },
     "execution_count": 126,
     "metadata": {},
     "output_type": "execute_result"
    }
   ],
   "source": [
    "qycs_file = pd.read_excel('./8月份活跃度数据/迁移信息表/exportsql.20220824103336.gbk.xls')\n",
    "print(qycs_file.info(null_counts = True))\n",
    "qycs_file[:3]"
   ]
  },
  {
   "cell_type": "markdown",
   "metadata": {},
   "source": [
    "`MARPRID(C|75)`为 主体标识，查看在file中是否存在相应的内部序号"
   ]
  },
  {
   "cell_type": "code",
   "execution_count": 127,
   "metadata": {
    "ExecuteTime": {
     "end_time": "2022-08-24T04:51:36.874423Z",
     "start_time": "2022-08-24T04:51:32.962090Z"
    },
    "scrolled": true
   },
   "outputs": [
    {
     "name": "stderr",
     "output_type": "stream",
     "text": [
      "100%|██████████████████████████████████████████████████████████████████████████| 1913/1913 [00:03<00:00, 490.22it/s]\n"
     ]
    },
    {
     "data": {
      "text/plain": [
       "1883"
      ]
     },
     "execution_count": 127,
     "metadata": {},
     "output_type": "execute_result"
    }
   ],
   "source": [
    "nbxh_list =   file['#nbxh(C|50)'].values\n",
    "temp_sum = 0\n",
    "for i in tqdm(qycs_file['MARPRID(C|75)']):\n",
    "    if i in nbxh_list:\n",
    "        temp_sum = temp_sum + 1\n",
    "temp_sum"
   ]
  },
  {
   "cell_type": "markdown",
   "metadata": {},
   "source": [
    "可以看出绝大多数企业还是可以在主体登记表中找到的"
   ]
  },
  {
   "cell_type": "code",
   "execution_count": 128,
   "metadata": {
    "ExecuteTime": {
     "end_time": "2022-08-24T04:51:38.322919Z",
     "start_time": "2022-08-24T04:51:38.304941Z"
    }
   },
   "outputs": [
    {
     "data": {
      "text/plain": [
       "160000021742290174    1\n",
       "160000021794830843    1\n",
       "160000021799583906    1\n",
       "142000000089334188    1\n",
       "160000021553624844    1\n",
       "                     ..\n",
       "160000021759725541    1\n",
       "160000021759721118    1\n",
       "160000021759716864    1\n",
       "160000021759419964    1\n",
       "160000021802873601    1\n",
       "Name: MARPRID(C|75), Length: 1913, dtype: int64"
      ]
     },
     "execution_count": 128,
     "metadata": {},
     "output_type": "execute_result"
    }
   ],
   "source": [
    "nums = qycs_file['MARPRID(C|75)'].value_counts()\n",
    "nums"
   ]
  },
  {
   "cell_type": "markdown",
   "metadata": {},
   "source": [
    "### sums为series,将其变为dataframes"
   ]
  },
  {
   "cell_type": "code",
   "execution_count": 129,
   "metadata": {
    "ExecuteTime": {
     "end_time": "2022-08-24T04:51:41.877944Z",
     "start_time": "2022-08-24T04:51:41.857014Z"
    }
   },
   "outputs": [
    {
     "name": "stdout",
     "output_type": "stream",
     "text": [
      "                 nbxh  X14\n",
      "0  160000021742290174    1\n",
      "1  160000021794830843    1\n",
      "                    X14\n",
      "nbxh                   \n",
      "160000021742290174    1\n",
      "160000021794830843    1\n",
      "<class 'pandas.core.frame.DataFrame'>\n",
      "Int64Index: 1913 entries, 160000021742290174 to 160000021802873601\n",
      "Data columns (total 1 columns):\n",
      " #   Column  Non-Null Count  Dtype\n",
      "---  ------  --------------  -----\n",
      " 0   X14     1913 non-null   int64\n",
      "dtypes: int64(1)\n",
      "memory usage: 29.9 KB\n",
      "None\n"
     ]
    }
   ],
   "source": [
    "dict_nums = {'nbxh':nums.index, 'X14':nums.values}\n",
    "df_nums = pd.DataFrame(dict_nums)\n",
    "print(df_nums[:2])\n",
    "df_nums.set_index('nbxh', inplace=True)\n",
    "print(df_nums[:2])\n",
    "print(df_nums.info(null_counts = True))"
   ]
  },
  {
   "cell_type": "markdown",
   "metadata": {},
   "source": [
    "### join"
   ]
  },
  {
   "cell_type": "code",
   "execution_count": 130,
   "metadata": {
    "ExecuteTime": {
     "end_time": "2022-08-24T04:51:45.249936Z",
     "start_time": "2022-08-24T04:51:43.298140Z"
    }
   },
   "outputs": [
    {
     "name": "stdout",
     "output_type": "stream",
     "text": [
      "<class 'pandas.core.frame.DataFrame'>\n",
      "Int64Index: 1839845 entries, 2420200000050231 to 442010000019652554\n",
      "Data columns (total 20 columns):\n",
      " #   Column      Non-Null Count    Dtype  \n",
      "---  ------      --------------    -----  \n",
      " 0   jjhklb      1839845 non-null  int64  \n",
      " 1   hydm        1839845 non-null  object \n",
      " 2   jyzt        1839845 non-null  float64\n",
      " 3   qylx        1839845 non-null  int64  \n",
      " 4   time_scale  1839845 non-null  object \n",
      " 5   city        1839845 non-null  object \n",
      " 6   three       1839845 non-null  object \n",
      " 7   scale       1839845 non-null  object \n",
      " 8   X1_2        1839845 non-null  int64  \n",
      " 9   X3          1839845 non-null  int64  \n",
      " 10  X4          1839845 non-null  int64  \n",
      " 11  X5          1839845 non-null  float64\n",
      " 12  X6          1839845 non-null  float64\n",
      " 13  X12         1839845 non-null  float64\n",
      " 14  X13         1839845 non-null  float64\n",
      " 15  X15         1839845 non-null  int64  \n",
      " 16  X7          1839845 non-null  float64\n",
      " 17  X10         1839845 non-null  float64\n",
      " 18  X11         1839845 non-null  float64\n",
      " 19  X14         1909 non-null     float64\n",
      "dtypes: float64(9), int64(6), object(5)\n",
      "memory usage: 294.8+ MB\n"
     ]
    }
   ],
   "source": [
    "new_file = new_file.join(df_nums)\n",
    "new_file.info(null_counts = True)"
   ]
  },
  {
   "cell_type": "code",
   "execution_count": 131,
   "metadata": {
    "ExecuteTime": {
     "end_time": "2022-08-24T04:51:45.716073Z",
     "start_time": "2022-08-24T04:51:45.251932Z"
    }
   },
   "outputs": [
    {
     "name": "stdout",
     "output_type": "stream",
     "text": [
      "<class 'pandas.core.frame.DataFrame'>\n",
      "Int64Index: 1839845 entries, 2420200000050231 to 442010000019652554\n",
      "Data columns (total 20 columns):\n",
      " #   Column      Non-Null Count    Dtype  \n",
      "---  ------      --------------    -----  \n",
      " 0   jjhklb      1839845 non-null  int64  \n",
      " 1   hydm        1839845 non-null  object \n",
      " 2   jyzt        1839845 non-null  float64\n",
      " 3   qylx        1839845 non-null  int64  \n",
      " 4   time_scale  1839845 non-null  object \n",
      " 5   city        1839845 non-null  object \n",
      " 6   three       1839845 non-null  object \n",
      " 7   scale       1839845 non-null  object \n",
      " 8   X1_2        1839845 non-null  int64  \n",
      " 9   X3          1839845 non-null  int64  \n",
      " 10  X4          1839845 non-null  int64  \n",
      " 11  X5          1839845 non-null  float64\n",
      " 12  X6          1839845 non-null  float64\n",
      " 13  X12         1839845 non-null  float64\n",
      " 14  X13         1839845 non-null  float64\n",
      " 15  X15         1839845 non-null  int64  \n",
      " 16  X7          1839845 non-null  float64\n",
      " 17  X10         1839845 non-null  float64\n",
      " 18  X11         1839845 non-null  float64\n",
      " 19  X14         1839845 non-null  float64\n",
      "dtypes: float64(9), int64(6), object(5)\n",
      "memory usage: 294.8+ MB\n"
     ]
    }
   ],
   "source": [
    "# 缺失值填补\n",
    "new_file['X14'].fillna(value=0, inplace=True)\n",
    "new_file.info(null_counts = True)"
   ]
  },
  {
   "cell_type": "markdown",
   "metadata": {},
   "source": [
    "## 添加特征X8、X9、X16、X17、X18"
   ]
  },
  {
   "cell_type": "markdown",
   "metadata": {},
   "source": [
    "这些特征无来源，都赋值为0"
   ]
  },
  {
   "cell_type": "code",
   "execution_count": 132,
   "metadata": {
    "ExecuteTime": {
     "end_time": "2022-08-24T04:51:47.673386Z",
     "start_time": "2022-08-24T04:51:47.209016Z"
    }
   },
   "outputs": [
    {
     "name": "stdout",
     "output_type": "stream",
     "text": [
      "<class 'pandas.core.frame.DataFrame'>\n",
      "Int64Index: 1839845 entries, 2420200000050231 to 442010000019652554\n",
      "Data columns (total 25 columns):\n",
      " #   Column      Non-Null Count    Dtype  \n",
      "---  ------      --------------    -----  \n",
      " 0   jjhklb      1839845 non-null  int64  \n",
      " 1   hydm        1839845 non-null  object \n",
      " 2   jyzt        1839845 non-null  float64\n",
      " 3   qylx        1839845 non-null  int64  \n",
      " 4   time_scale  1839845 non-null  object \n",
      " 5   city        1839845 non-null  object \n",
      " 6   three       1839845 non-null  object \n",
      " 7   scale       1839845 non-null  object \n",
      " 8   X1_2        1839845 non-null  int64  \n",
      " 9   X3          1839845 non-null  int64  \n",
      " 10  X4          1839845 non-null  int64  \n",
      " 11  X5          1839845 non-null  float64\n",
      " 12  X6          1839845 non-null  float64\n",
      " 13  X12         1839845 non-null  float64\n",
      " 14  X13         1839845 non-null  float64\n",
      " 15  X15         1839845 non-null  int64  \n",
      " 16  X7          1839845 non-null  float64\n",
      " 17  X10         1839845 non-null  float64\n",
      " 18  X11         1839845 non-null  float64\n",
      " 19  X14         1839845 non-null  float64\n",
      " 20  X8          1839845 non-null  int64  \n",
      " 21  X9          1839845 non-null  int64  \n",
      " 22  X16         1839845 non-null  int64  \n",
      " 23  X17         1839845 non-null  int64  \n",
      " 24  X18         1839845 non-null  int64  \n",
      "dtypes: float64(9), int64(11), object(5)\n",
      "memory usage: 365.0+ MB\n"
     ]
    }
   ],
   "source": [
    "new_file['X8'] = 0\n",
    "new_file['X9'] = 0\n",
    "new_file['X16'] = 0\n",
    "new_file['X17'] = 0\n",
    "new_file['X18'] = 0\n",
    "new_file.info(null_counts = True)"
   ]
  },
  {
   "cell_type": "markdown",
   "metadata": {},
   "source": [
    "# 调整顺序"
   ]
  },
  {
   "cell_type": "code",
   "execution_count": 133,
   "metadata": {
    "ExecuteTime": {
     "end_time": "2022-08-24T04:51:49.230243Z",
     "start_time": "2022-08-24T04:51:48.712596Z"
    }
   },
   "outputs": [
    {
     "name": "stdout",
     "output_type": "stream",
     "text": [
      "<class 'pandas.core.frame.DataFrame'>\n",
      "Int64Index: 1839845 entries, 2420200000050231 to 442010000019652554\n",
      "Data columns (total 25 columns):\n",
      " #   Column      Non-Null Count    Dtype  \n",
      "---  ------      --------------    -----  \n",
      " 0   jjhklb      1839845 non-null  int64  \n",
      " 1   hydm        1839845 non-null  object \n",
      " 2   jyzt        1839845 non-null  float64\n",
      " 3   qylx        1839845 non-null  int64  \n",
      " 4   time_scale  1839845 non-null  object \n",
      " 5   city        1839845 non-null  object \n",
      " 6   three       1839845 non-null  object \n",
      " 7   scale       1839845 non-null  object \n",
      " 8   X1_2        1839845 non-null  int64  \n",
      " 9   X3          1839845 non-null  int64  \n",
      " 10  X4          1839845 non-null  int64  \n",
      " 11  X5          1839845 non-null  float64\n",
      " 12  X6          1839845 non-null  float64\n",
      " 13  X7          1839845 non-null  float64\n",
      " 14  X8          1839845 non-null  int64  \n",
      " 15  X9          1839845 non-null  int64  \n",
      " 16  X10         1839845 non-null  float64\n",
      " 17  X11         1839845 non-null  float64\n",
      " 18  X12         1839845 non-null  float64\n",
      " 19  X13         1839845 non-null  float64\n",
      " 20  X14         1839845 non-null  float64\n",
      " 21  X15         1839845 non-null  int64  \n",
      " 22  X16         1839845 non-null  int64  \n",
      " 23  X17         1839845 non-null  int64  \n",
      " 24  X18         1839845 non-null  int64  \n",
      "dtypes: float64(9), int64(11), object(5)\n",
      "memory usage: 365.0+ MB\n"
     ]
    }
   ],
   "source": [
    "new_file.insert(13, 'X7', new_file.pop('X7'))\n",
    "new_file.insert(14, 'X8', new_file.pop('X8'))\n",
    "new_file.insert(15, 'X9', new_file.pop('X9'))\n",
    "new_file.insert(16, 'X10', new_file.pop('X10'))\n",
    "new_file.insert(17, 'X11', new_file.pop('X11'))\n",
    "new_file.insert(18, 'X12', new_file.pop('X12'))\n",
    "new_file.insert(19, 'X13', new_file.pop('X13'))\n",
    "new_file.insert(20, 'X14', new_file.pop('X14'))\n",
    "new_file.insert(21, 'X15', new_file.pop('X15'))\n",
    "new_file.insert(22, 'X16', new_file.pop('X16'))\n",
    "new_file.insert(23, 'X17', new_file.pop('X17'))\n",
    "new_file.insert(24, 'X18', new_file.pop('X18'))\n",
    "new_file.info(null_counts = True)"
   ]
  },
  {
   "cell_type": "code",
   "execution_count": 134,
   "metadata": {
    "ExecuteTime": {
     "end_time": "2022-08-24T04:51:55.065369Z",
     "start_time": "2022-08-24T04:51:55.041427Z"
    }
   },
   "outputs": [
    {
     "data": {
      "text/html": [
       "<div>\n",
       "<style scoped>\n",
       "    .dataframe tbody tr th:only-of-type {\n",
       "        vertical-align: middle;\n",
       "    }\n",
       "\n",
       "    .dataframe tbody tr th {\n",
       "        vertical-align: top;\n",
       "    }\n",
       "\n",
       "    .dataframe thead th {\n",
       "        text-align: right;\n",
       "    }\n",
       "</style>\n",
       "<table border=\"1\" class=\"dataframe\">\n",
       "  <thead>\n",
       "    <tr style=\"text-align: right;\">\n",
       "      <th></th>\n",
       "      <th>jjhklb</th>\n",
       "      <th>hydm</th>\n",
       "      <th>jyzt</th>\n",
       "      <th>qylx</th>\n",
       "      <th>time_scale</th>\n",
       "      <th>city</th>\n",
       "      <th>three</th>\n",
       "      <th>scale</th>\n",
       "      <th>X1_2</th>\n",
       "      <th>X3</th>\n",
       "      <th>...</th>\n",
       "      <th>X9</th>\n",
       "      <th>X10</th>\n",
       "      <th>X11</th>\n",
       "      <th>X12</th>\n",
       "      <th>X13</th>\n",
       "      <th>X14</th>\n",
       "      <th>X15</th>\n",
       "      <th>X16</th>\n",
       "      <th>X17</th>\n",
       "      <th>X18</th>\n",
       "    </tr>\n",
       "  </thead>\n",
       "  <tbody>\n",
       "    <tr>\n",
       "      <th>2420200000050231</th>\n",
       "      <td>3</td>\n",
       "      <td>R</td>\n",
       "      <td>1.000</td>\n",
       "      <td>4540</td>\n",
       "      <td>11</td>\n",
       "      <td>黄石市</td>\n",
       "      <td>3</td>\n",
       "      <td>1</td>\n",
       "      <td>1</td>\n",
       "      <td>1</td>\n",
       "      <td>...</td>\n",
       "      <td>0</td>\n",
       "      <td>0.000</td>\n",
       "      <td>0.000</td>\n",
       "      <td>0.000</td>\n",
       "      <td>0.000</td>\n",
       "      <td>0.000</td>\n",
       "      <td>0</td>\n",
       "      <td>0</td>\n",
       "      <td>0</td>\n",
       "      <td>0</td>\n",
       "    </tr>\n",
       "    <tr>\n",
       "      <th>2422800000117935</th>\n",
       "      <td>3</td>\n",
       "      <td>Z</td>\n",
       "      <td>1.000</td>\n",
       "      <td>2130</td>\n",
       "      <td>8</td>\n",
       "      <td>恩施州</td>\n",
       "      <td>3</td>\n",
       "      <td>1</td>\n",
       "      <td>1</td>\n",
       "      <td>1</td>\n",
       "      <td>...</td>\n",
       "      <td>0</td>\n",
       "      <td>0.000</td>\n",
       "      <td>0.000</td>\n",
       "      <td>0.000</td>\n",
       "      <td>0.000</td>\n",
       "      <td>0.000</td>\n",
       "      <td>0</td>\n",
       "      <td>0</td>\n",
       "      <td>0</td>\n",
       "      <td>0</td>\n",
       "    </tr>\n",
       "    <tr>\n",
       "      <th>3420800000070431</th>\n",
       "      <td>3</td>\n",
       "      <td>C</td>\n",
       "      <td>1.000</td>\n",
       "      <td>4540</td>\n",
       "      <td>11</td>\n",
       "      <td>荆门市</td>\n",
       "      <td>2</td>\n",
       "      <td>2</td>\n",
       "      <td>1</td>\n",
       "      <td>1</td>\n",
       "      <td>...</td>\n",
       "      <td>0</td>\n",
       "      <td>0.000</td>\n",
       "      <td>0.000</td>\n",
       "      <td>0.000</td>\n",
       "      <td>0.000</td>\n",
       "      <td>0.000</td>\n",
       "      <td>0</td>\n",
       "      <td>0</td>\n",
       "      <td>0</td>\n",
       "      <td>0</td>\n",
       "    </tr>\n",
       "    <tr>\n",
       "      <th>3421100000105274</th>\n",
       "      <td>3</td>\n",
       "      <td>H</td>\n",
       "      <td>1.000</td>\n",
       "      <td>4540</td>\n",
       "      <td>9</td>\n",
       "      <td>黄冈市</td>\n",
       "      <td>3</td>\n",
       "      <td>1</td>\n",
       "      <td>1</td>\n",
       "      <td>1</td>\n",
       "      <td>...</td>\n",
       "      <td>0</td>\n",
       "      <td>0.000</td>\n",
       "      <td>0.000</td>\n",
       "      <td>0.000</td>\n",
       "      <td>0.000</td>\n",
       "      <td>0.000</td>\n",
       "      <td>0</td>\n",
       "      <td>0</td>\n",
       "      <td>0</td>\n",
       "      <td>0</td>\n",
       "    </tr>\n",
       "    <tr>\n",
       "      <th>3429004000003400</th>\n",
       "      <td>3</td>\n",
       "      <td>Z</td>\n",
       "      <td>1.000</td>\n",
       "      <td>4540</td>\n",
       "      <td>11</td>\n",
       "      <td>仙桃市</td>\n",
       "      <td>3</td>\n",
       "      <td>1</td>\n",
       "      <td>1</td>\n",
       "      <td>1</td>\n",
       "      <td>...</td>\n",
       "      <td>0</td>\n",
       "      <td>0.000</td>\n",
       "      <td>0.000</td>\n",
       "      <td>0.000</td>\n",
       "      <td>0.000</td>\n",
       "      <td>0.000</td>\n",
       "      <td>0</td>\n",
       "      <td>0</td>\n",
       "      <td>0</td>\n",
       "      <td>0</td>\n",
       "    </tr>\n",
       "    <tr>\n",
       "      <th>3431300000047415</th>\n",
       "      <td>1</td>\n",
       "      <td>Z</td>\n",
       "      <td>1.000</td>\n",
       "      <td>2140</td>\n",
       "      <td>10</td>\n",
       "      <td>随州市</td>\n",
       "      <td>3</td>\n",
       "      <td>1</td>\n",
       "      <td>1</td>\n",
       "      <td>1</td>\n",
       "      <td>...</td>\n",
       "      <td>0</td>\n",
       "      <td>0.000</td>\n",
       "      <td>0.000</td>\n",
       "      <td>0.000</td>\n",
       "      <td>0.000</td>\n",
       "      <td>0.000</td>\n",
       "      <td>0</td>\n",
       "      <td>0</td>\n",
       "      <td>0</td>\n",
       "      <td>0</td>\n",
       "    </tr>\n",
       "    <tr>\n",
       "      <th>4420100000000138</th>\n",
       "      <td>3</td>\n",
       "      <td>L</td>\n",
       "      <td>1.000</td>\n",
       "      <td>1100</td>\n",
       "      <td>11</td>\n",
       "      <td>黄石市</td>\n",
       "      <td>3</td>\n",
       "      <td>2</td>\n",
       "      <td>1</td>\n",
       "      <td>1</td>\n",
       "      <td>...</td>\n",
       "      <td>0</td>\n",
       "      <td>0.000</td>\n",
       "      <td>0.000</td>\n",
       "      <td>0.000</td>\n",
       "      <td>0.000</td>\n",
       "      <td>0.000</td>\n",
       "      <td>0</td>\n",
       "      <td>0</td>\n",
       "      <td>0</td>\n",
       "      <td>0</td>\n",
       "    </tr>\n",
       "    <tr>\n",
       "      <th>4420100000000144</th>\n",
       "      <td>3</td>\n",
       "      <td>L</td>\n",
       "      <td>1.000</td>\n",
       "      <td>1100</td>\n",
       "      <td>11</td>\n",
       "      <td>武汉市</td>\n",
       "      <td>3</td>\n",
       "      <td>2</td>\n",
       "      <td>1</td>\n",
       "      <td>1</td>\n",
       "      <td>...</td>\n",
       "      <td>0</td>\n",
       "      <td>0.000</td>\n",
       "      <td>0.000</td>\n",
       "      <td>0.000</td>\n",
       "      <td>0.000</td>\n",
       "      <td>0.000</td>\n",
       "      <td>0</td>\n",
       "      <td>0</td>\n",
       "      <td>0</td>\n",
       "      <td>0</td>\n",
       "    </tr>\n",
       "    <tr>\n",
       "      <th>4420100000000243</th>\n",
       "      <td>3</td>\n",
       "      <td>E</td>\n",
       "      <td>1.000</td>\n",
       "      <td>1100</td>\n",
       "      <td>11</td>\n",
       "      <td>武汉市</td>\n",
       "      <td>2</td>\n",
       "      <td>2</td>\n",
       "      <td>1</td>\n",
       "      <td>1</td>\n",
       "      <td>...</td>\n",
       "      <td>0</td>\n",
       "      <td>0.000</td>\n",
       "      <td>0.000</td>\n",
       "      <td>0.000</td>\n",
       "      <td>0.000</td>\n",
       "      <td>0.000</td>\n",
       "      <td>0</td>\n",
       "      <td>0</td>\n",
       "      <td>0</td>\n",
       "      <td>0</td>\n",
       "    </tr>\n",
       "    <tr>\n",
       "      <th>4420100000000315</th>\n",
       "      <td>3</td>\n",
       "      <td>K</td>\n",
       "      <td>1.000</td>\n",
       "      <td>1100</td>\n",
       "      <td>11</td>\n",
       "      <td>武汉市</td>\n",
       "      <td>3</td>\n",
       "      <td>3</td>\n",
       "      <td>1</td>\n",
       "      <td>1</td>\n",
       "      <td>...</td>\n",
       "      <td>0</td>\n",
       "      <td>0.000</td>\n",
       "      <td>0.000</td>\n",
       "      <td>0.000</td>\n",
       "      <td>0.000</td>\n",
       "      <td>0.000</td>\n",
       "      <td>0</td>\n",
       "      <td>0</td>\n",
       "      <td>0</td>\n",
       "      <td>0</td>\n",
       "    </tr>\n",
       "  </tbody>\n",
       "</table>\n",
       "<p>10 rows × 25 columns</p>\n",
       "</div>"
      ],
      "text/plain": [
       "                  jjhklb hydm  jyzt  qylx time_scale city three scale  X1_2  \\\n",
       "2420200000050231       3    R 1.000  4540         11  黄石市     3     1     1   \n",
       "2422800000117935       3    Z 1.000  2130          8  恩施州     3     1     1   \n",
       "3420800000070431       3    C 1.000  4540         11  荆门市     2     2     1   \n",
       "3421100000105274       3    H 1.000  4540          9  黄冈市     3     1     1   \n",
       "3429004000003400       3    Z 1.000  4540         11  仙桃市     3     1     1   \n",
       "3431300000047415       1    Z 1.000  2140         10  随州市     3     1     1   \n",
       "4420100000000138       3    L 1.000  1100         11  黄石市     3     2     1   \n",
       "4420100000000144       3    L 1.000  1100         11  武汉市     3     2     1   \n",
       "4420100000000243       3    E 1.000  1100         11  武汉市     2     2     1   \n",
       "4420100000000315       3    K 1.000  1100         11  武汉市     3     3     1   \n",
       "\n",
       "                  X3  ...  X9   X10   X11   X12   X13   X14  X15  X16  X17  \\\n",
       "2420200000050231   1  ...   0 0.000 0.000 0.000 0.000 0.000    0    0    0   \n",
       "2422800000117935   1  ...   0 0.000 0.000 0.000 0.000 0.000    0    0    0   \n",
       "3420800000070431   1  ...   0 0.000 0.000 0.000 0.000 0.000    0    0    0   \n",
       "3421100000105274   1  ...   0 0.000 0.000 0.000 0.000 0.000    0    0    0   \n",
       "3429004000003400   1  ...   0 0.000 0.000 0.000 0.000 0.000    0    0    0   \n",
       "3431300000047415   1  ...   0 0.000 0.000 0.000 0.000 0.000    0    0    0   \n",
       "4420100000000138   1  ...   0 0.000 0.000 0.000 0.000 0.000    0    0    0   \n",
       "4420100000000144   1  ...   0 0.000 0.000 0.000 0.000 0.000    0    0    0   \n",
       "4420100000000243   1  ...   0 0.000 0.000 0.000 0.000 0.000    0    0    0   \n",
       "4420100000000315   1  ...   0 0.000 0.000 0.000 0.000 0.000    0    0    0   \n",
       "\n",
       "                  X18  \n",
       "2420200000050231    0  \n",
       "2422800000117935    0  \n",
       "3420800000070431    0  \n",
       "3421100000105274    0  \n",
       "3429004000003400    0  \n",
       "3431300000047415    0  \n",
       "4420100000000138    0  \n",
       "4420100000000144    0  \n",
       "4420100000000243    0  \n",
       "4420100000000315    0  \n",
       "\n",
       "[10 rows x 25 columns]"
      ]
     },
     "execution_count": 134,
     "metadata": {},
     "output_type": "execute_result"
    }
   ],
   "source": [
    "new_file[:10]"
   ]
  },
  {
   "cell_type": "markdown",
   "metadata": {},
   "source": [
    "# 去除重复值"
   ]
  },
  {
   "cell_type": "markdown",
   "metadata": {},
   "source": [
    "## 重设索引"
   ]
  },
  {
   "cell_type": "code",
   "execution_count": 135,
   "metadata": {
    "ExecuteTime": {
     "end_time": "2022-08-24T04:51:58.753081Z",
     "start_time": "2022-08-24T04:51:57.849859Z"
    }
   },
   "outputs": [
    {
     "name": "stdout",
     "output_type": "stream",
     "text": [
      "<class 'pandas.core.frame.DataFrame'>\n",
      "RangeIndex: 1839845 entries, 0 to 1839844\n",
      "Data columns (total 26 columns):\n",
      " #   Column      Non-Null Count    Dtype  \n",
      "---  ------      --------------    -----  \n",
      " 0   index       1839845 non-null  int64  \n",
      " 1   jjhklb      1839845 non-null  int64  \n",
      " 2   hydm        1839845 non-null  object \n",
      " 3   jyzt        1839845 non-null  float64\n",
      " 4   qylx        1839845 non-null  int64  \n",
      " 5   time_scale  1839845 non-null  object \n",
      " 6   city        1839845 non-null  object \n",
      " 7   three       1839845 non-null  object \n",
      " 8   scale       1839845 non-null  object \n",
      " 9   X1_2        1839845 non-null  int64  \n",
      " 10  X3          1839845 non-null  int64  \n",
      " 11  X4          1839845 non-null  int64  \n",
      " 12  X5          1839845 non-null  float64\n",
      " 13  X6          1839845 non-null  float64\n",
      " 14  X7          1839845 non-null  float64\n",
      " 15  X8          1839845 non-null  int64  \n",
      " 16  X9          1839845 non-null  int64  \n",
      " 17  X10         1839845 non-null  float64\n",
      " 18  X11         1839845 non-null  float64\n",
      " 19  X12         1839845 non-null  float64\n",
      " 20  X13         1839845 non-null  float64\n",
      " 21  X14         1839845 non-null  float64\n",
      " 22  X15         1839845 non-null  int64  \n",
      " 23  X16         1839845 non-null  int64  \n",
      " 24  X17         1839845 non-null  int64  \n",
      " 25  X18         1839845 non-null  int64  \n",
      "dtypes: float64(9), int64(12), object(5)\n",
      "memory usage: 365.0+ MB\n",
      "None\n"
     ]
    },
    {
     "data": {
      "text/html": [
       "<div>\n",
       "<style scoped>\n",
       "    .dataframe tbody tr th:only-of-type {\n",
       "        vertical-align: middle;\n",
       "    }\n",
       "\n",
       "    .dataframe tbody tr th {\n",
       "        vertical-align: top;\n",
       "    }\n",
       "\n",
       "    .dataframe thead th {\n",
       "        text-align: right;\n",
       "    }\n",
       "</style>\n",
       "<table border=\"1\" class=\"dataframe\">\n",
       "  <thead>\n",
       "    <tr style=\"text-align: right;\">\n",
       "      <th></th>\n",
       "      <th>index</th>\n",
       "      <th>jjhklb</th>\n",
       "      <th>hydm</th>\n",
       "      <th>jyzt</th>\n",
       "      <th>qylx</th>\n",
       "      <th>time_scale</th>\n",
       "      <th>city</th>\n",
       "      <th>three</th>\n",
       "      <th>scale</th>\n",
       "      <th>X1_2</th>\n",
       "      <th>...</th>\n",
       "      <th>X9</th>\n",
       "      <th>X10</th>\n",
       "      <th>X11</th>\n",
       "      <th>X12</th>\n",
       "      <th>X13</th>\n",
       "      <th>X14</th>\n",
       "      <th>X15</th>\n",
       "      <th>X16</th>\n",
       "      <th>X17</th>\n",
       "      <th>X18</th>\n",
       "    </tr>\n",
       "  </thead>\n",
       "  <tbody>\n",
       "    <tr>\n",
       "      <th>0</th>\n",
       "      <td>2420200000050231</td>\n",
       "      <td>3</td>\n",
       "      <td>R</td>\n",
       "      <td>1.000</td>\n",
       "      <td>4540</td>\n",
       "      <td>11</td>\n",
       "      <td>黄石市</td>\n",
       "      <td>3</td>\n",
       "      <td>1</td>\n",
       "      <td>1</td>\n",
       "      <td>...</td>\n",
       "      <td>0</td>\n",
       "      <td>0.000</td>\n",
       "      <td>0.000</td>\n",
       "      <td>0.000</td>\n",
       "      <td>0.000</td>\n",
       "      <td>0.000</td>\n",
       "      <td>0</td>\n",
       "      <td>0</td>\n",
       "      <td>0</td>\n",
       "      <td>0</td>\n",
       "    </tr>\n",
       "    <tr>\n",
       "      <th>1</th>\n",
       "      <td>2422800000117935</td>\n",
       "      <td>3</td>\n",
       "      <td>Z</td>\n",
       "      <td>1.000</td>\n",
       "      <td>2130</td>\n",
       "      <td>8</td>\n",
       "      <td>恩施州</td>\n",
       "      <td>3</td>\n",
       "      <td>1</td>\n",
       "      <td>1</td>\n",
       "      <td>...</td>\n",
       "      <td>0</td>\n",
       "      <td>0.000</td>\n",
       "      <td>0.000</td>\n",
       "      <td>0.000</td>\n",
       "      <td>0.000</td>\n",
       "      <td>0.000</td>\n",
       "      <td>0</td>\n",
       "      <td>0</td>\n",
       "      <td>0</td>\n",
       "      <td>0</td>\n",
       "    </tr>\n",
       "  </tbody>\n",
       "</table>\n",
       "<p>2 rows × 26 columns</p>\n",
       "</div>"
      ],
      "text/plain": [
       "              index  jjhklb hydm  jyzt  qylx time_scale city three scale  \\\n",
       "0  2420200000050231       3    R 1.000  4540         11  黄石市     3     1   \n",
       "1  2422800000117935       3    Z 1.000  2130          8  恩施州     3     1   \n",
       "\n",
       "   X1_2  ...  X9   X10   X11   X12   X13   X14  X15  X16  X17  X18  \n",
       "0     1  ...   0 0.000 0.000 0.000 0.000 0.000    0    0    0    0  \n",
       "1     1  ...   0 0.000 0.000 0.000 0.000 0.000    0    0    0    0  \n",
       "\n",
       "[2 rows x 26 columns]"
      ]
     },
     "execution_count": 135,
     "metadata": {},
     "output_type": "execute_result"
    }
   ],
   "source": [
    "new_file = new_file.reset_index()\n",
    "print(new_file.info(null_counts = True))\n",
    "new_file[:2]"
   ]
  },
  {
   "cell_type": "markdown",
   "metadata": {},
   "source": [
    "## 统计重复"
   ]
  },
  {
   "cell_type": "code",
   "execution_count": 136,
   "metadata": {
    "ExecuteTime": {
     "end_time": "2022-08-24T04:52:00.315778Z",
     "start_time": "2022-08-24T04:51:59.903854Z"
    }
   },
   "outputs": [
    {
     "data": {
      "text/plain": [
       "420000000009275200    3\n",
       "420000000008824832    3\n",
       "420000000008868352    2\n",
       "420000000009258240    2\n",
       "24250000012805580     2\n",
       "                     ..\n",
       "160000000746436771    1\n",
       "160000000746436569    1\n",
       "160000000746435142    1\n",
       "160000000746433481    1\n",
       "442010000019652554    1\n",
       "Name: nbxh, Length: 1839832, dtype: int64"
      ]
     },
     "execution_count": 136,
     "metadata": {},
     "output_type": "execute_result"
    }
   ],
   "source": [
    "new_file.rename(\n",
    "    columns={'index': 'nbxh' }, \n",
    "    inplace=True)\n",
    "re_nums = new_file['nbxh'].value_counts()\n",
    "re_nums"
   ]
  },
  {
   "cell_type": "markdown",
   "metadata": {},
   "source": [
    "## 删除重复"
   ]
  },
  {
   "cell_type": "code",
   "execution_count": 137,
   "metadata": {
    "ExecuteTime": {
     "end_time": "2022-08-24T04:52:03.126219Z",
     "start_time": "2022-08-24T04:52:01.984849Z"
    }
   },
   "outputs": [
    {
     "name": "stdout",
     "output_type": "stream",
     "text": [
      "<class 'pandas.core.frame.DataFrame'>\n",
      "Int64Index: 1839832 entries, 0 to 1839844\n",
      "Data columns (total 26 columns):\n",
      " #   Column      Non-Null Count    Dtype  \n",
      "---  ------      --------------    -----  \n",
      " 0   nbxh        1839832 non-null  int64  \n",
      " 1   jjhklb      1839832 non-null  int64  \n",
      " 2   hydm        1839832 non-null  object \n",
      " 3   jyzt        1839832 non-null  float64\n",
      " 4   qylx        1839832 non-null  int64  \n",
      " 5   time_scale  1839832 non-null  object \n",
      " 6   city        1839832 non-null  object \n",
      " 7   three       1839832 non-null  object \n",
      " 8   scale       1839832 non-null  object \n",
      " 9   X1_2        1839832 non-null  int64  \n",
      " 10  X3          1839832 non-null  int64  \n",
      " 11  X4          1839832 non-null  int64  \n",
      " 12  X5          1839832 non-null  float64\n",
      " 13  X6          1839832 non-null  float64\n",
      " 14  X7          1839832 non-null  float64\n",
      " 15  X8          1839832 non-null  int64  \n",
      " 16  X9          1839832 non-null  int64  \n",
      " 17  X10         1839832 non-null  float64\n",
      " 18  X11         1839832 non-null  float64\n",
      " 19  X12         1839832 non-null  float64\n",
      " 20  X13         1839832 non-null  float64\n",
      " 21  X14         1839832 non-null  float64\n",
      " 22  X15         1839832 non-null  int64  \n",
      " 23  X16         1839832 non-null  int64  \n",
      " 24  X17         1839832 non-null  int64  \n",
      " 25  X18         1839832 non-null  int64  \n",
      "dtypes: float64(9), int64(12), object(5)\n",
      "memory usage: 379.0+ MB\n"
     ]
    }
   ],
   "source": [
    "new_file.drop_duplicates(subset=['nbxh'], keep='first', inplace=True)\n",
    "new_file.info(null_counts = True)"
   ]
  },
  {
   "cell_type": "markdown",
   "metadata": {},
   "source": [
    "# 保存"
   ]
  },
  {
   "cell_type": "code",
   "execution_count": 138,
   "metadata": {
    "ExecuteTime": {
     "end_time": "2022-08-24T04:52:27.057782Z",
     "start_time": "2022-08-24T04:52:06.392857Z"
    }
   },
   "outputs": [],
   "source": [
    "path = './DataCleaning_revised_1.csv'\n",
    "new_file.to_csv(path, index=False)"
   ]
  }
 ],
 "metadata": {
  "hide_input": false,
  "kernelspec": {
   "display_name": "Python 3 (ipykernel)",
   "language": "python",
   "name": "python3"
  },
  "language_info": {
   "codemirror_mode": {
    "name": "ipython",
    "version": 3
   },
   "file_extension": ".py",
   "mimetype": "text/x-python",
   "name": "python",
   "nbconvert_exporter": "python",
   "pygments_lexer": "ipython3",
   "version": "3.9.12"
  },
  "toc": {
   "base_numbering": 1,
   "nav_menu": {},
   "number_sections": true,
   "sideBar": true,
   "skip_h1_title": false,
   "title_cell": "Table of Contents",
   "title_sidebar": "Contents",
   "toc_cell": true,
   "toc_position": {
    "height": "calc(100% - 180px)",
    "left": "10px",
    "top": "150px",
    "width": "337.969px"
   },
   "toc_section_display": true,
   "toc_window_display": true
  },
  "varInspector": {
   "cols": {
    "lenName": 16,
    "lenType": 16,
    "lenVar": 40
   },
   "kernels_config": {
    "python": {
     "delete_cmd_postfix": "",
     "delete_cmd_prefix": "del ",
     "library": "var_list.py",
     "varRefreshCmd": "print(var_dic_list())"
    },
    "r": {
     "delete_cmd_postfix": ") ",
     "delete_cmd_prefix": "rm(",
     "library": "var_list.r",
     "varRefreshCmd": "cat(var_dic_list()) "
    }
   },
   "types_to_exclude": [
    "module",
    "function",
    "builtin_function_or_method",
    "instance",
    "_Feature"
   ],
   "window_display": false
  }
 },
 "nbformat": 4,
 "nbformat_minor": 2
}
